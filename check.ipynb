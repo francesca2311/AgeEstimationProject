{
 "cells": [
  {
   "cell_type": "code",
   "execution_count": 1,
   "metadata": {},
   "outputs": [
    {
     "name": "stderr",
     "output_type": "stream",
     "text": [
      "c:\\Users\\Gio\\.conda\\envs\\AV_project\\lib\\site-packages\\tqdm\\auto.py:22: TqdmWarning: IProgress not found. Please update jupyter and ipywidgets. See https://ipywidgets.readthedocs.io/en/stable/user_install.html\n",
      "  from .autonotebook import tqdm as notebook_tqdm\n"
     ]
    }
   ],
   "source": [
    "from typing import List\n",
    "from Dataset.CustomDataset import AgeGroupAndAgeDataset, StandardDataset, AgeDatasetKL\n",
    "from Dataset.CustomDataLoaders import CustomDataLoader\n",
    "from sklearn.model_selection import train_test_split\n",
    "from tqdm import tqdm\n",
    "from Utils import AAR, CSVUtils, AgeConversion\n",
    "from Utils.Validator import Validator"
   ]
  },
  {
   "cell_type": "code",
   "execution_count": 5,
   "metadata": {},
   "outputs": [],
   "source": [
    "#########################\n",
    "import pandas as pd\n",
    "df = CSVUtils.get_df_from_csv(\"./training_caip_contest.csv\", \"./training_caip_contest/\")\n",
    "df_train, df_val = train_test_split(df, test_size=0.25, random_state=42)\n",
    "aug = CSVUtils.get_df_from_csv(\"./augumentation_balanced_remove.csv\", \"./newAugmentationDataset/\")\n",
    "df_train_aug = pd.concat([df_train, aug], ignore_index=True)\n",
    "df_train_aug = df_train_aug.reset_index(drop=True)\n",
    "df_train = df_train.reset_index(drop=True)\n",
    "df_val = df_val.reset_index(drop=True)\n",
    "#########################\n",
    "\n",
    "from torchvision import transforms\n",
    "import torch\n",
    "import numpy as np\n",
    "\n",
    "transform_func = transforms.Compose([\n",
    "    transforms.Resize(224),\n",
    "    transforms.RandomHorizontalFlip(),\n",
    "    transforms.ColorJitter(0.1, 0.1, 0.1, 0.1),\n",
    "    transforms.RandAugment(2, 9),\n",
    "    transforms.PILToTensor(),\n",
    "    transforms.ConvertImageDtype(torch.float),\n",
    "    transforms.Normalize(\n",
    "        mean=[0.485, 0.456, 0.406],\n",
    "        std=[0.229, 0.224, 0.225]\n",
    "    ),\n",
    "])\n",
    "\n",
    "transform_func_val = transforms.Compose([\n",
    "    transforms.Resize(224),\n",
    "    transforms.PILToTensor(),\n",
    "    transforms.ConvertImageDtype(torch.float),\n",
    "    transforms.Normalize(\n",
    "        mean=[0.485, 0.456, 0.406],\n",
    "        std=[0.229, 0.224, 0.225]\n",
    "    ),\n",
    "])\n",
    "\n",
    "# Implementazione di un Dataset utilizzando \"CustomDataset\" per l'architettura con Film\n",
    "cd_train_balanced = AgeDatasetKL(df_train_aug, path_col=\"path\", label_col=\"age\", label_function=\"Linear\", \n",
    "                                transform_func=transform_func)\n",
    "cd_train_balanced.set_n_classes(81)\n",
    "cd_train_balanced.set_starting_class(1)\n",
    "dm_train_balanced = CustomDataLoader(cd_train_balanced)\n",
    "dl_train_balanced, sampler = dm_train_balanced.get_balanced_age_dataloader2(batch_size=64, num_workers=1, prefetch_factor=2)\n",
    "sampler.n_batches = 10\n",
    "sampler.p = np.array([0] * 80 + [1])\n",
    "\n",
    "cd_val = StandardDataset(df_val, path_col=\"path\", label_col=\"age\", label_function=\"CAE\", transform_func=transform_func_val)\n",
    "cd_val.set_n_classes(81)\n",
    "cd_val.set_starting_class(1)\n",
    "validator = Validator(cd_val, AgeConversion.ArgMaxAge, 32, num_workers=4, prefetch_factor=2)"
   ]
  },
  {
   "cell_type": "code",
   "execution_count": 6,
   "metadata": {},
   "outputs": [
    {
     "name": "stdout",
     "output_type": "stream",
     "text": [
      "[tensor([[[[-0.9534, -0.9363, -0.9534,  ..., -0.6281, -0.6281, -0.6281],\n",
      "          [-0.9363, -0.9363, -0.9705,  ..., -0.5767, -0.5767, -0.5767],\n",
      "          [-0.9534, -0.9534, -1.0390,  ..., -0.4911, -0.5424, -0.5767],\n",
      "          ...,\n",
      "          [-1.2788, -1.3130, -1.3473,  ..., -0.4226, -0.4568, -0.4739],\n",
      "          [-1.2788, -1.2788, -1.3130,  ..., -0.4054, -0.4568, -0.4739],\n",
      "          [-1.2274, -1.2788, -1.2788,  ..., -0.4054, -0.4226, -0.4568]],\n",
      "\n",
      "         [[-0.8452, -0.8277, -0.8452,  ..., -0.6176, -0.6176, -0.6176],\n",
      "          [-0.8277, -0.8277, -0.8627,  ..., -0.6001, -0.6001, -0.6001],\n",
      "          [-0.8452, -0.8452, -0.8803,  ..., -0.5826, -0.5826, -0.6001],\n",
      "          ...,\n",
      "          [-1.1779, -1.1954, -1.2479,  ..., -0.4251, -0.4601, -0.4951],\n",
      "          [-1.1253, -1.1779, -1.1954,  ..., -0.3901, -0.4426, -0.4601],\n",
      "          [-1.1078, -1.1253, -1.1779,  ..., -0.3725, -0.3725, -0.4426]],\n",
      "\n",
      "         [[-1.1247, -1.1073, -1.1247,  ..., -1.1944, -1.1944, -1.1944],\n",
      "          [-1.1073, -1.1073, -1.1247,  ..., -1.1944, -1.1944, -1.1944],\n",
      "          [-1.1247, -1.1247, -1.1421,  ..., -1.1421, -1.1770, -1.1944],\n",
      "          ...,\n",
      "          [-1.2641, -1.2990, -1.3339,  ..., -1.1247, -1.0550, -1.0376],\n",
      "          [-1.2641, -1.2641, -1.2990,  ..., -1.0898, -1.0376, -1.0201],\n",
      "          [-1.2293, -1.2641, -1.2641,  ..., -1.0550, -1.0201, -0.9853]]],\n",
      "\n",
      "\n",
      "        [[[-1.2103, -1.0733, -0.9534,  ..., -0.7137, -0.7650, -0.7993],\n",
      "          [-1.1589, -1.0562, -0.9363,  ..., -0.6281, -0.6794, -0.7650],\n",
      "          [-1.1075, -1.0390, -0.8849,  ..., -0.5253, -0.6109, -0.6965],\n",
      "          ...,\n",
      "          [-0.6109, -0.5424, -0.4568,  ...,  0.7933,  0.6221,  0.5193],\n",
      "          [-0.5938, -0.5424, -0.4568,  ...,  0.6734,  0.4337,  0.3652],\n",
      "          [-0.5767, -0.5424, -0.4739,  ...,  0.5193,  0.4166,  0.1939]],\n",
      "\n",
      "         [[-0.8102, -0.7227, -0.6702,  ..., -0.7402, -0.7227, -0.7227],\n",
      "          [-0.7402, -0.6702, -0.6001,  ..., -0.6702, -0.6702, -0.7052],\n",
      "          [-0.7227, -0.6877, -0.5651,  ..., -0.5651, -0.5651, -0.6702],\n",
      "          ...,\n",
      "          [-0.3901, -0.3901, -0.3200,  ...,  0.8880,  0.9405,  0.8704],\n",
      "          [-0.2675, -0.2675, -0.2150,  ...,  0.9230,  0.8880,  0.9055],\n",
      "          [-0.1625, -0.1800, -0.1800,  ...,  1.0630,  1.0630,  0.8704]],\n",
      "\n",
      "         [[-0.7238, -0.6193, -0.5495,  ..., -0.5495, -0.5495, -0.4973],\n",
      "          [-0.6541, -0.5670, -0.5670,  ..., -0.3927, -0.4798, -0.4275],\n",
      "          [-0.6541, -0.5670, -0.4624,  ..., -0.3055, -0.3055, -0.4275],\n",
      "          ...,\n",
      "          [-0.3055, -0.2184, -0.2010,  ...,  1.0539,  1.0888,  1.1585],\n",
      "          [-0.1312, -0.1312, -0.0441,  ...,  1.0888,  1.2282,  1.2282],\n",
      "          [-0.0092, -0.0441, -0.0441,  ...,  1.1585,  1.2805,  1.2282]]],\n",
      "\n",
      "\n",
      "        [[[-0.6452, -0.6452, -0.6452,  ..., -1.0904, -1.0562, -0.9877],\n",
      "          [-0.6452, -0.6452, -0.6794,  ..., -1.0904, -1.0904, -1.0219],\n",
      "          [-0.6452, -0.6452, -0.7137,  ..., -1.1247, -1.0904, -1.0562],\n",
      "          ...,\n",
      "          [-0.6452, -0.6794, -0.7137,  ..., -0.9192, -0.8849, -0.8849],\n",
      "          [-0.6452, -0.6452, -0.6452,  ..., -0.8849, -0.8849, -0.8507],\n",
      "          [-0.6109, -0.6452, -0.6452,  ..., -0.8507, -0.8164, -0.7479]],\n",
      "\n",
      "         [[-0.8102, -0.8102, -0.8102,  ..., -1.3354, -1.3004, -1.2304],\n",
      "          [-0.8102, -0.8452, -0.8803,  ..., -1.3704, -1.3354, -1.2654],\n",
      "          [-0.8102, -0.8452, -0.9153,  ..., -1.3704, -1.3354, -1.3004],\n",
      "          ...,\n",
      "          [-0.9503, -1.0203, -1.0203,  ..., -1.1954, -1.1604, -1.1253],\n",
      "          [-0.9503, -0.9853, -0.9853,  ..., -1.1604, -1.0903, -1.0903],\n",
      "          [-0.9153, -0.9503, -0.9503,  ..., -1.0903, -1.0553, -1.0203]],\n",
      "\n",
      "         [[-0.7587, -0.7587, -0.7936,  ..., -1.2467, -1.2119, -1.1770],\n",
      "          [-0.7936, -0.7936, -0.8284,  ..., -1.2816, -1.2467, -1.2119],\n",
      "          [-0.7587, -0.8284, -0.8633,  ..., -1.3164, -1.2816, -1.2467],\n",
      "          ...,\n",
      "          [-0.8633, -0.9330, -0.9678,  ..., -1.1073, -1.0724, -1.0724],\n",
      "          [-0.8633, -0.8981, -0.8981,  ..., -1.0724, -1.0376, -1.0027],\n",
      "          [-0.8284, -0.8633, -0.8633,  ..., -1.0376, -1.0027, -0.9330]]],\n",
      "\n",
      "\n",
      "        ...,\n",
      "\n",
      "\n",
      "        [[[ 0.4508,  0.4508,  0.4508,  ...,  0.6906,  0.6906,  0.6906],\n",
      "          [ 0.4508,  0.4166,  0.3823,  ...,  0.6906,  0.6906,  0.6563],\n",
      "          [ 0.4508,  0.4166,  0.4166,  ...,  0.6906,  0.6906,  0.6906],\n",
      "          ...,\n",
      "          [ 0.7248,  0.7248,  0.7248,  ...,  0.1768,  0.1768,  0.2111],\n",
      "          [ 0.7591,  0.7591,  0.7591,  ...,  0.2111,  0.2111,  0.2453],\n",
      "          [ 0.7591,  0.7591,  0.7591,  ...,  0.2111,  0.2453,  0.2453]],\n",
      "\n",
      "         [[-0.6702, -0.6352, -0.6352,  ..., -0.3901, -0.3901, -0.4251],\n",
      "          [-0.6702, -0.6352, -0.7052,  ..., -0.4251, -0.4251, -0.4251],\n",
      "          [-0.6702, -0.6352, -0.6702,  ..., -0.4251, -0.4251, -0.4251],\n",
      "          ...,\n",
      "          [-0.5301, -0.5651, -0.5651,  ..., -0.8452, -0.8452, -0.8102],\n",
      "          [-0.5301, -0.5301, -0.5301,  ..., -0.8102, -0.8102, -0.7752],\n",
      "          [-0.4951, -0.4951, -0.4951,  ..., -0.8102, -0.7752, -0.7402]],\n",
      "\n",
      "         [[-0.5495, -0.5844, -0.6541,  ..., -0.4450, -0.4450, -0.4798],\n",
      "          [-0.5495, -0.6193, -0.6541,  ..., -0.4798, -0.4798, -0.4798],\n",
      "          [-0.5495, -0.6193, -0.6541,  ..., -0.4798, -0.4798, -0.4798],\n",
      "          ...,\n",
      "          [-0.4450, -0.4450, -0.4450,  ..., -0.7936, -0.7936, -0.7587],\n",
      "          [-0.4101, -0.4101, -0.4101,  ..., -0.7587, -0.7587, -0.7238],\n",
      "          [-0.3753, -0.3753, -0.3753,  ..., -0.7587, -0.7238, -0.7238]]],\n",
      "\n",
      "\n",
      "        [[[-1.5185, -1.5870, -1.6042,  ..., -2.1179, -2.1179, -2.1179],\n",
      "          [-1.5699, -1.5870, -1.5870,  ..., -2.1179, -2.1179, -2.1179],\n",
      "          [-1.5699, -1.5699, -1.5870,  ..., -2.1179, -2.1179, -2.1179],\n",
      "          ...,\n",
      "          [-1.7412, -1.7412, -1.7754,  ..., -1.8268, -1.8268, -1.8268],\n",
      "          [-1.7069, -1.7069, -1.7240,  ..., -1.8268, -1.8268, -1.8268],\n",
      "          [-1.6555, -1.7069, -1.6555,  ..., -1.8268, -1.8268, -1.8268]],\n",
      "\n",
      "         [[-1.4405, -1.5105, -1.5280,  ..., -2.0357, -2.0357, -2.0357],\n",
      "          [-1.4930, -1.5105, -1.5105,  ..., -2.0357, -2.0357, -2.0357],\n",
      "          [-1.4930, -1.4930, -1.5105,  ..., -2.0357, -2.0357, -2.0357],\n",
      "          ...,\n",
      "          [-1.6506, -1.6856, -1.7206,  ..., -1.7731, -1.7906, -1.7906],\n",
      "          [-1.6155, -1.6331, -1.6506,  ..., -1.7731, -1.7906, -1.7906],\n",
      "          [-1.5805, -1.6155, -1.5805,  ..., -1.7731, -1.7731, -1.7906]],\n",
      "\n",
      "         [[-0.7936, -0.8633, -0.8807,  ..., -1.8044, -1.8044, -1.8044],\n",
      "          [-0.8458, -0.8633, -0.8633,  ..., -1.8044, -1.8044, -1.8044],\n",
      "          [-0.8458, -0.8458, -0.8633,  ..., -1.8044, -1.8044, -1.8044],\n",
      "          ...,\n",
      "          [-1.2816, -1.2641, -1.2119,  ..., -1.3164, -1.3339, -1.3339],\n",
      "          [-1.2467, -1.2119, -1.1421,  ..., -1.3164, -1.3339, -1.3339],\n",
      "          [-1.2293, -1.1770, -1.0898,  ..., -1.3164, -1.3164, -1.3339]]],\n",
      "\n",
      "\n",
      "        [[[-0.9020, -1.0390, -1.1075,  ..., -1.6042, -1.5528, -1.5185],\n",
      "          [-1.0048, -1.1247, -1.1932,  ..., -1.6555, -1.6213, -1.6042],\n",
      "          [-1.1075, -1.1760, -1.1760,  ..., -1.7240, -1.6555, -1.6384],\n",
      "          ...,\n",
      "          [-1.4329, -1.5357, -1.5528,  ..., -1.9124, -1.8268, -1.7583],\n",
      "          [-1.3987, -1.4843, -1.5699,  ..., -1.9124, -1.8439, -1.7412],\n",
      "          [-1.3473, -1.4500, -1.5185,  ..., -1.8439, -1.7925, -1.7240]],\n",
      "\n",
      "         [[-1.0028, -1.1429, -1.1779,  ..., -1.6856, -1.6155, -1.5630],\n",
      "          [-1.1253, -1.1954, -1.2129,  ..., -1.7031, -1.6681, -1.6155],\n",
      "          [-1.1779, -1.1429, -1.1779,  ..., -1.7031, -1.6155, -1.5980],\n",
      "          ...,\n",
      "          [-1.5455, -1.5630, -1.5630,  ..., -1.7906, -1.7556, -1.7031],\n",
      "          [-1.5105, -1.5630, -1.5630,  ..., -1.8081, -1.7731, -1.6856],\n",
      "          [-1.4230, -1.5105, -1.5455,  ..., -1.7381, -1.7031, -1.6506]],\n",
      "\n",
      "         [[-0.6541, -0.8458, -0.8981,  ..., -1.3513, -1.2990, -1.2293],\n",
      "          [-0.7413, -0.8807, -0.9504,  ..., -1.4384, -1.3513, -1.3339],\n",
      "          [-0.7761, -0.8110, -0.8458,  ..., -1.4210, -1.3513, -1.3339],\n",
      "          ...,\n",
      "          [-1.1770, -1.2293, -1.2641,  ..., -1.5604, -1.4559, -1.3513],\n",
      "          [-1.1770, -1.2119, -1.2816,  ..., -1.5604, -1.4733, -1.3339],\n",
      "          [-1.0898, -1.1770, -1.2293,  ..., -1.4559, -1.3861, -1.2990]]]]), [tensor([1, 1, 1, 1, 1, 1, 1, 1, 1, 1, 1, 1, 1, 1, 1, 1, 1, 1, 1, 1, 1, 1, 1, 1,\n",
      "        1, 1, 1, 1, 1, 1, 1, 1, 1, 1, 1, 1, 1, 1, 1, 1, 1, 1, 1, 1, 1, 1, 1, 1,\n",
      "        1, 1, 1, 1, 1, 1, 1, 1, 1, 1, 1, 1, 1, 1, 1, 1]), tensor([[0.2570, 0.4238, 0.2570,  ..., 0.0000, 0.0000, 0.0000],\n",
      "        [0.2570, 0.4238, 0.2570,  ..., 0.0000, 0.0000, 0.0000],\n",
      "        [0.2570, 0.4238, 0.2570,  ..., 0.0000, 0.0000, 0.0000],\n",
      "        ...,\n",
      "        [0.2570, 0.4238, 0.2570,  ..., 0.0000, 0.0000, 0.0000],\n",
      "        [0.2570, 0.4238, 0.2570,  ..., 0.0000, 0.0000, 0.0000],\n",
      "        [0.2570, 0.4238, 0.2570,  ..., 0.0000, 0.0000, 0.0000]],\n",
      "       dtype=torch.float64)]]\n"
     ]
    }
   ],
   "source": [
    "for d in dl_train_balanced:\n",
    "    print(d)\n",
    "    break"
   ]
  },
  {
   "cell_type": "code",
   "execution_count": 10,
   "metadata": {},
   "outputs": [
    {
     "name": "stdout",
     "output_type": "stream",
     "text": [
      "giggi\n"
     ]
    }
   ],
   "source": [
    "if (max([0]) < torch.tensor(1.0)):\n",
    "    print(\"giggi\")"
   ]
  },
  {
   "cell_type": "code",
   "execution_count": 7,
   "metadata": {},
   "outputs": [
    {
     "name": "stdout",
     "output_type": "stream",
     "text": [
      "tensor([1, 1, 1, 1, 1, 1, 1, 1, 1, 1, 1, 1, 1, 1, 1, 1, 1, 1, 1, 1, 1, 1, 1, 1,\n",
      "        1, 1, 1, 1, 1, 1, 1, 1, 1, 1, 1, 1, 1, 1, 1, 1, 1, 1, 1, 1, 1, 1, 1, 1,\n",
      "        1, 1, 1, 1, 1, 1, 1, 1, 1, 1, 1, 1, 1, 1, 1, 1])\n",
      "tensor([1., 1., 1., 1., 1., 1., 1., 1., 1., 1., 1., 1., 1., 1., 1., 1., 1., 1.,\n",
      "        1., 1., 1., 1., 1., 1., 1., 1., 1., 1., 1., 1., 1., 1., 1., 1., 1., 1.,\n",
      "        1., 1., 1., 1., 1., 1., 1., 1., 1., 1., 1., 1., 1., 1., 1., 1., 1., 1.,\n",
      "        1., 1., 1., 1., 1., 1., 1., 1., 1., 1.], dtype=torch.float64)\n",
      "tensor([1.1294, 1.1294, 1.1294, 1.1294, 1.1294, 1.1294, 1.1294, 1.1294, 1.1294,\n",
      "        1.1294, 1.1294, 1.1294, 1.1294, 1.1294, 1.1294, 1.1294, 1.1294, 1.1294,\n",
      "        1.1294, 1.1294, 1.1294, 1.1294, 1.1294, 1.1294, 1.1294, 1.1294, 1.1294,\n",
      "        1.1294, 1.1294, 1.1294, 1.1294, 1.1294, 1.1294, 1.1294, 1.1294, 1.1294,\n",
      "        1.1294, 1.1294, 1.1294, 1.1294, 1.1294, 1.1294, 1.1294, 1.1294, 1.1294,\n",
      "        1.1294, 1.1294, 1.1294, 1.1294, 1.1294, 1.1294, 1.1294, 1.1294, 1.1294,\n",
      "        1.1294, 1.1294, 1.1294, 1.1294, 1.1294, 1.1294, 1.1294, 1.1294, 1.1294,\n",
      "        1.1294], dtype=torch.float64)\n"
     ]
    }
   ],
   "source": [
    "print(d[1][0])\n",
    "t: torch.Tensor = d[1][1]\n",
    "# t.sum(dim=-1)\n",
    "print(torch.round(AgeConversion.EVAge(d[1][1])))\n",
    "print(AgeConversion.EVAge(d[1][1] / t.sum(dim=-1, keepdim=True).expand(-1, 81)))"
   ]
  },
  {
   "cell_type": "code",
   "execution_count": 6,
   "metadata": {},
   "outputs": [
    {
     "data": {
      "text/plain": [
       "torch.Size([64, 81])"
      ]
     },
     "execution_count": 6,
     "metadata": {},
     "output_type": "execute_result"
    }
   ],
   "source": [
    "t.shape"
   ]
  },
  {
   "cell_type": "code",
   "execution_count": 13,
   "metadata": {},
   "outputs": [
    {
     "data": {
      "text/plain": [
       "array([0.2 , 0.5 , 0.2 , 0.02, 0.02, 0.02, 0.02, 0.02])"
      ]
     },
     "execution_count": 13,
     "metadata": {},
     "output_type": "execute_result"
    }
   ],
   "source": [
    "import numpy as np\n",
    "\n",
    "def set_p(worst_index):\n",
    "    if worst_index == 0:\n",
    "        return np.array([0.68, 0.2, 0.02, 0.02, 0.02, 0.02, 0.02, 0.02])\n",
    "    if worst_index == 7:\n",
    "        return np.array([0.02, 0.02, 0.02, 0.02, 0.02, 0.02, 0.2, 0.68])\n",
    "    p = np.array([0.02]*8)\n",
    "    p[worst_index-1:worst_index+2] = np.array([0.2, 0.5, 0.2])\n",
    "    return p\n",
    "\n",
    "set_p(1)"
   ]
  },
  {
   "cell_type": "code",
   "execution_count": 7,
   "metadata": {},
   "outputs": [
    {
     "data": {
      "text/plain": [
       "array([[1., 1., 1., ..., 1., 1., 1.],\n",
       "       [1., 1., 1., ..., 1., 1., 1.],\n",
       "       [1., 1., 1., ..., 1., 1., 1.],\n",
       "       ...,\n",
       "       [1., 1., 1., ..., 1., 1., 1.],\n",
       "       [1., 1., 1., ..., 1., 1., 1.],\n",
       "       [1., 1., 1., ..., 1., 1., 1.]])"
      ]
     },
     "execution_count": 7,
     "metadata": {},
     "output_type": "execute_result"
    }
   ],
   "source": [
    "np.tile(np.sum(t.numpy(), axis=-1, keepdims=True), (1, 81))"
   ]
  },
  {
   "cell_type": "code",
   "execution_count": 8,
   "metadata": {},
   "outputs": [],
   "source": [
    "import numpy as np\n",
    "def _to_kl_labels(y, n_classes):\n",
    "    std = 1.0\n",
    "    _y = np.arange(n_classes)\n",
    "    return 1/(std * np.sqrt(2*np.pi)) * np.exp(-np.square(_y-y) / (2*std**2))"
   ]
  },
  {
   "cell_type": "code",
   "execution_count": 9,
   "metadata": {},
   "outputs": [],
   "source": [
    "t = _to_kl_labels(1, 81)"
   ]
  },
  {
   "cell_type": "code",
   "execution_count": 10,
   "metadata": {},
   "outputs": [
    {
     "data": {
      "text/plain": [
       "array([2.41970725e-001, 3.98942280e-001, 2.41970725e-001, 5.39909665e-002,\n",
       "       4.43184841e-003, 1.33830226e-004, 1.48671951e-006, 6.07588285e-009,\n",
       "       9.13472041e-012, 5.05227108e-015, 1.02797736e-018, 7.69459863e-023,\n",
       "       2.11881925e-027, 2.14638374e-032, 7.99882776e-038, 1.09660656e-043,\n",
       "       5.53070955e-050, 1.02616307e-056, 7.00418213e-064, 1.75874954e-071,\n",
       "       1.62463604e-079, 5.52094836e-088, 6.90202942e-097, 3.17428155e-106,\n",
       "       5.37056037e-116, 3.34271444e-126, 7.65392974e-137, 6.44725997e-148,\n",
       "       1.99788926e-159, 2.27757748e-171, 9.55169454e-184, 1.47364613e-196,\n",
       "       8.36395161e-210, 1.74636626e-223, 1.34141967e-237, 3.79052640e-252,\n",
       "       3.94039628e-267, 1.50690472e-282, 2.12000655e-298, 1.09722105e-314,\n",
       "       0.00000000e+000, 0.00000000e+000, 0.00000000e+000, 0.00000000e+000,\n",
       "       0.00000000e+000, 0.00000000e+000, 0.00000000e+000, 0.00000000e+000,\n",
       "       0.00000000e+000, 0.00000000e+000, 0.00000000e+000, 0.00000000e+000,\n",
       "       0.00000000e+000, 0.00000000e+000, 0.00000000e+000, 0.00000000e+000,\n",
       "       0.00000000e+000, 0.00000000e+000, 0.00000000e+000, 0.00000000e+000,\n",
       "       0.00000000e+000, 0.00000000e+000, 0.00000000e+000, 0.00000000e+000,\n",
       "       0.00000000e+000, 0.00000000e+000, 0.00000000e+000, 0.00000000e+000,\n",
       "       0.00000000e+000, 0.00000000e+000, 0.00000000e+000, 0.00000000e+000,\n",
       "       0.00000000e+000, 0.00000000e+000, 0.00000000e+000, 0.00000000e+000,\n",
       "       0.00000000e+000, 0.00000000e+000, 0.00000000e+000, 0.00000000e+000,\n",
       "       0.00000000e+000])"
      ]
     },
     "execution_count": 10,
     "metadata": {},
     "output_type": "execute_result"
    }
   ],
   "source": [
    "t"
   ]
  },
  {
   "cell_type": "code",
   "execution_count": 11,
   "metadata": {},
   "outputs": [
    {
     "data": {
      "text/plain": [
       "tensor([1.1294], dtype=torch.float64)"
      ]
     },
     "execution_count": 11,
     "metadata": {},
     "output_type": "execute_result"
    }
   ],
   "source": [
    "AgeConversion.EVAge(torch.unsqueeze(torch.tensor(_to_kl_labels(1, 81)), dim=0) / torch.unsqueeze(torch.tensor(_to_kl_labels(1, 81)), dim=0).sum())"
   ]
  },
  {
   "cell_type": "code",
   "execution_count": 12,
   "metadata": {},
   "outputs": [
    {
     "data": {
      "text/plain": [
       "tensor([0.3638], dtype=torch.float64)"
      ]
     },
     "execution_count": 12,
     "metadata": {},
     "output_type": "execute_result"
    }
   ],
   "source": [
    "AgeConversion.EVAge(torch.unsqueeze(torch.tensor(_to_kl_labels(0, 81)), dim=0))"
   ]
  },
  {
   "cell_type": "code",
   "execution_count": 8,
   "metadata": {},
   "outputs": [
    {
     "name": "stderr",
     "output_type": "stream",
     "text": [
      "c:\\Users\\Gio\\.conda\\envs\\AV_project\\lib\\site-packages\\torchvision\\models\\_utils.py:135: UserWarning: Using 'weights' as positional parameter(s) is deprecated since 0.13 and may be removed in the future. Please use keyword parameter(s) instead.\n",
      "  warnings.warn(\n"
     ]
    },
    {
     "data": {
      "text/plain": [
       "<All keys matched successfully>"
      ]
     },
     "execution_count": 8,
     "metadata": {},
     "output_type": "execute_result"
    }
   ],
   "source": [
    "from ResNetFilmed.resnet import ResNetFiLMed, BackBone, ResNetNotFiLMed, DoNothingLayer\n",
    "from torchvision.models import resnet18, ResNet18_Weights, efficientnet_b0, EfficientNet_B0_Weights\n",
    "import torch\n",
    "from torch import optim\n",
    "import torch.nn.functional as F\n",
    "from torch import nn\n",
    "\n",
    "####################################################\n",
    "EPOCHS = 24\n",
    "####################################################\n",
    "\n",
    "backbone = resnet18(ResNet18_Weights.IMAGENET1K_V1)\n",
    "backbone.fc = DoNothingLayer()\n",
    "backbone.train()\n",
    "backbone.requires_grad_(True)\n",
    "backbone.to(\"cuda\")\n",
    "model_age = ResNetNotFiLMed(backbone, 81)\n",
    "model_age.load_state_dict(torch.load(\"./model_age_classification_simple.pt\", map_location=\"cuda:0\"))"
   ]
  },
  {
   "cell_type": "code",
   "execution_count": 9,
   "metadata": {},
   "outputs": [
    {
     "name": "stderr",
     "output_type": "stream",
     "text": [
      "100%|██████████| 4493/4493 [06:03<00:00, 12.36 batch/s]\n"
     ]
    },
    {
     "name": "stdout",
     "output_type": "stream",
     "text": [
      "({0: tensor(4.), 1: tensor(6.5000), 2: tensor(4.4615), 3: tensor(6.8621), 4: tensor(5.2589), 5: tensor(4.9143), 6: tensor(4.0449), 7: tensor(4.0172), 8: tensor(3.7368), 9: tensor(2.9574), 10: tensor(3.5600), 11: tensor(6.1212), 12: tensor(4.0468), 13: tensor(3.9221), 14: tensor(3.6035), 15: tensor(2.8089), 16: tensor(2.5170), 17: tensor(1.7592), 18: tensor(1.5699), 19: tensor(1.5963), 20: tensor(1.9288), 21: tensor(2.1778), 22: tensor(2.2322), 23: tensor(2.2070), 24: tensor(2.0424), 25: tensor(2.2497), 26: tensor(2.3530), 27: tensor(2.4868), 28: tensor(2.5064), 29: tensor(2.3503), 30: tensor(2.5637), 31: tensor(2.6058), 32: tensor(2.7249), 33: tensor(2.8690), 34: tensor(2.8755), 35: tensor(2.9689), 36: tensor(3.1319), 37: tensor(3.1465), 38: tensor(2.9903), 39: tensor(2.8146), 40: tensor(2.7323), 41: tensor(2.6366), 42: tensor(2.6925), 43: tensor(2.8147), 44: tensor(2.7393), 45: tensor(2.7857), 46: tensor(2.8415), 47: tensor(2.8646), 48: tensor(2.8352), 49: tensor(2.3849), 50: tensor(2.0974), 51: tensor(2.0904), 52: tensor(2.1314), 53: tensor(2.1332), 54: tensor(2.1846), 55: tensor(2.2908), 56: tensor(2.5032), 57: tensor(2.6916), 58: tensor(2.7329), 59: tensor(2.5938), 60: tensor(2.3783), 61: tensor(2.0373), 62: tensor(1.6177), 63: tensor(2.0013), 64: tensor(2.5114), 65: tensor(2.6489), 66: tensor(3.1280), 67: tensor(2.9623), 68: tensor(3.2308), 69: tensor(3.0196), 70: tensor(2.5137), 71: tensor(2.1040), 72: tensor(1.8690), 73: tensor(2.6212), 74: tensor(2.5000), 75: tensor(2.4706), 76: tensor(2.5385), 77: tensor(2.2000), 78: tensor(2.5833), 79: tensor(4.), 80: tensor(nan)}, {0: tensor(4.5905), 1: tensor(2.0977), 2: tensor(2.2591), 3: tensor(2.8694), 4: tensor(2.7316), 5: tensor(2.3014), 6: tensor(2.3476), 7: tensor(2.3447)}, tensor(2.5343), tensor(6.5351), tensor(6.6935))\n"
     ]
    }
   ],
   "source": [
    "def forward_function(x):\n",
    "    out = model_age(x)\n",
    "    out = F.softmax(out, dim=-1)\n",
    "    return out\n",
    "\n",
    "print(validator.validate_ext3(forward_function))"
   ]
  },
  {
   "cell_type": "code",
   "execution_count": 5,
   "metadata": {},
   "outputs": [],
   "source": [
    "import numpy as np\n",
    "def get_centers(outs, ys, old):\n",
    "    centers_for_age = {x: [] for x in range(81)}\n",
    "\n",
    "    for out, y in zip(outs, ys):\n",
    "        for _out, _y in zip(out, y):\n",
    "            centers_for_age[int(_y)].append(_out.detach().cpu().numpy())\n",
    "\n",
    "    for i in centers_for_age:\n",
    "        if len(centers_for_age[i]) > 0:\n",
    "            centers_for_age[i] = torch.tensor(np.array(centers_for_age[i])).mean(dim=0).to(\"cuda\")\n",
    "        else:\n",
    "            centers_for_age[i] = old[i]\n",
    "    return centers_for_age\n",
    "\n",
    "def update_centers(old, new, alpha=0.5):\n",
    "    for i in new:\n",
    "        new[i] = new[i] - alpha*(new[i] - old[i])\n",
    "    return new\n",
    "\n",
    "def get_centers_loss(out, y, centers_for_age):\n",
    "    loss = None\n",
    "    for _out, _y in zip(out, y):\n",
    "        if loss is None:\n",
    "            loss = torch.mean(torch.square(_out - centers_for_age[int(_y)]))\n",
    "        else:    \n",
    "            loss += torch.mean(torch.square(_out - centers_for_age[int(_y)]))\n",
    "    return loss.to(\"cuda\")"
   ]
  },
  {
   "cell_type": "code",
   "execution_count": 6,
   "metadata": {},
   "outputs": [
    {
     "name": "stderr",
     "output_type": "stream",
     "text": [
      "233 batch [01:47,  2.20 batch/s, loss_age=2.5409758, loss_age_bal=2.5297728, loss_age_kl=1.2492404040357374, loss_age_kl_bal=1.21976906498012, loss_repr=0.61008906, loss_repr_bal=0.5650206, total_loss=6.465754131539128]   "
     ]
    }
   ],
   "source": [
    "centers_for_age = {x: torch.zeros(size=(512,), device=\"cuda\") for x in range(81)}\n",
    "best_val_aar = val_aar\n",
    "\n",
    "for e in range(EPOCHS):\n",
    "    with tqdm(zip(dl_train, dl_train_balanced), unit=\" batch\") as tepoch:\n",
    "        for batch, batch_balanced in tepoch:\n",
    "            opt.zero_grad()\n",
    "            x, y = batch\n",
    "            x_bal, y_bal = batch_balanced\n",
    "\n",
    "            x = x.to(\"cuda\")\n",
    "            y_age: torch.Tensor = y[0].to(\"cuda\")\n",
    "            y_age_kl: torch.Tensor = y[1].to(\"cuda\")\n",
    "\n",
    "            x_bal = x_bal.to(\"cuda\")\n",
    "            y_age_bal: torch.Tensor = y_bal[0].to(\"cuda\")\n",
    "            y_age_kl_bal: torch.Tensor = y_bal[1].to(\"cuda\")\n",
    "\n",
    "            out_rep, out_age = model_age.forward_with_repr(x)\n",
    "            loss_age_kl: torch.Tensor = kl(F.log_softmax(out_age, dim=-1), y_age_kl)\n",
    "            out_age = F.softmax(out_age, dim=-1)\n",
    "            out = AgeConversion.EVAge(out_age).to(\"cuda\")\n",
    "            loss_age = torch.mean(torch.abs(y_age - out))\n",
    "            loss = loss_age_kl + loss_age\n",
    "\n",
    "            out_rep_bal, out_age_bal = model_age.forward_with_repr(x_bal)\n",
    "            loss_age_kl_bal: torch.Tensor = kl(F.log_softmax(out_age_bal, dim=-1), y_age_kl_bal)\n",
    "            out_age_bal = F.softmax(out_age_bal, dim=-1)\n",
    "            out_bal = AgeConversion.EVAge(out_age_bal).to(\"cuda\")\n",
    "            loss_age_bal = torch.mean(torch.abs(y_age_bal - out_bal))\n",
    "            loss_bal = loss_age_kl_bal + torch.square(loss_age_bal - 2.0)\n",
    "\n",
    "            loss_repr = get_centers_loss(out_rep, y_age, centers_for_age)\n",
    "            loss_repr_bal = get_centers_loss(out_rep_bal, y_age_bal, centers_for_age)\n",
    "\n",
    "            total_loss = loss + loss_bal + loss_repr + loss_repr_bal\n",
    "\n",
    "            total_loss.backward()\n",
    "            opt.step()\n",
    "            scheduler.step()\n",
    "\n",
    "            centers_for_age = update_centers(centers_for_age, get_centers((out_rep, out_rep_bal), (y_age, y_age_bal), centers_for_age), alpha=0.5)\n",
    "\n",
    "            tepoch.set_postfix(loss_age_kl=loss_age_kl.detach().cpu().numpy(), loss_age=loss_age.detach().cpu().numpy(),\n",
    "                                loss_age_kl_bal=loss_age_kl_bal.detach().cpu().numpy(), loss_age_bal=loss_age_bal.detach().cpu().numpy(),\n",
    "                                loss_repr=loss_repr.detach().cpu().numpy(), loss_repr_bal=loss_repr_bal.detach().cpu().numpy(),\n",
    "                                total_loss=total_loss.detach().cpu().numpy())\n",
    "\n",
    "    def forward_function(x):\n",
    "        out = model_age(x)\n",
    "        out = F.softmax(out, dim=-1)\n",
    "        return out\n",
    " \n",
    "    ae, mae_, val_aar, val_aar_old = validator.validate_ext2(forward_function)\n",
    "    print(ae, mae_, val_aar, val_aar_old)\n",
    "\n",
    "    if best_val_aar < val_aar:\n",
    "        best_val_aar = val_aar\n",
    "        torch.save(model_age.state_dict(), \"./model_age_feature_simple_no_loss.pt\")\n",
    "        print(\"Saved model\")"
   ]
  }
 ],
 "metadata": {
  "kernelspec": {
   "display_name": "AV_project",
   "language": "python",
   "name": "python3"
  },
  "language_info": {
   "codemirror_mode": {
    "name": "ipython",
    "version": 3
   },
   "file_extension": ".py",
   "mimetype": "text/x-python",
   "name": "python",
   "nbconvert_exporter": "python",
   "pygments_lexer": "ipython3",
   "version": "3.8.10"
  },
  "orig_nbformat": 4,
  "vscode": {
   "interpreter": {
    "hash": "cb944c2b40f40877ef78d83ae6cee61e5f12ef7b90668598de820bc310ff39a2"
   }
  }
 },
 "nbformat": 4,
 "nbformat_minor": 2
}
