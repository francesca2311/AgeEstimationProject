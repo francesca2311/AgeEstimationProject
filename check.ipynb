{
 "cells": [
  {
   "cell_type": "code",
   "execution_count": 1,
   "metadata": {},
   "outputs": [
    {
     "name": "stderr",
     "output_type": "stream",
     "text": [
      "c:\\Users\\Gio\\.conda\\envs\\AV_project\\lib\\site-packages\\tqdm\\auto.py:22: TqdmWarning: IProgress not found. Please update jupyter and ipywidgets. See https://ipywidgets.readthedocs.io/en/stable/user_install.html\n",
      "  from .autonotebook import tqdm as notebook_tqdm\n"
     ]
    }
   ],
   "source": [
    "from typing import List\n",
    "from Dataset.CustomDataset import AgeGroupAndAgeDataset, StandardDataset, AgeDatasetKL\n",
    "from Dataset.CustomDataLoaders import CustomDataLoader\n",
    "from sklearn.model_selection import train_test_split\n",
    "from tqdm import tqdm\n",
    "from Utils import AAR, CSVUtils, AgeConversion\n",
    "from Utils.Validator import Validator"
   ]
  },
  {
   "cell_type": "code",
   "execution_count": 2,
   "metadata": {},
   "outputs": [],
   "source": [
    "#########################\n",
    "import pandas as pd\n",
    "df = CSVUtils.get_df_from_csv(\"./training_caip_contest.csv\", \"./training_caip_contest/\")\n",
    "df_train, df_val = train_test_split(df, test_size=0.25, random_state=42)\n",
    "aug = CSVUtils.get_df_from_csv(\"./augumentation_balanced_remove.csv\", \"./newAugmentationDataset/\")\n",
    "df_train_aug = pd.concat([df_train, aug], ignore_index=True)\n",
    "df_train_aug = df_train_aug.reset_index(drop=True)\n",
    "df_train = df_train.reset_index(drop=True)\n",
    "df_val = df_val.reset_index(drop=True)\n",
    "#########################\n",
    "\n",
    "from torchvision import transforms\n",
    "import torch\n",
    "import numpy as np\n",
    "\n",
    "transform_func = transforms.Compose([\n",
    "    transforms.Resize(224),\n",
    "    transforms.RandomHorizontalFlip(),\n",
    "    transforms.ColorJitter(0.1, 0.1, 0.1, 0.1),\n",
    "    transforms.RandAugment(2, 9),\n",
    "    transforms.PILToTensor(),\n",
    "    transforms.ConvertImageDtype(torch.float),\n",
    "    transforms.Normalize(\n",
    "        mean=[0.485, 0.456, 0.406],\n",
    "        std=[0.229, 0.224, 0.225]\n",
    "    ),\n",
    "])\n",
    "\n",
    "transform_func_val = transforms.Compose([\n",
    "    transforms.Resize(224),\n",
    "    transforms.PILToTensor(),\n",
    "    transforms.ConvertImageDtype(torch.float),\n",
    "    transforms.Normalize(\n",
    "        mean=[0.485, 0.456, 0.406],\n",
    "        std=[0.229, 0.224, 0.225]\n",
    "    ),\n",
    "])\n",
    "\n",
    "# Implementazione di un Dataset utilizzando \"CustomDataset\" per l'architettura con Film\n",
    "cd_train_balanced = AgeDatasetKL(df_train_aug, path_col=\"path\", label_col=\"age\", label_function=\"Linear\", \n",
    "                                transform_func=transform_func)\n",
    "cd_train_balanced.set_n_classes(81)\n",
    "cd_train_balanced.set_starting_class(1)\n",
    "dm_train_balanced = CustomDataLoader(cd_train_balanced)\n",
    "dl_train_balanced, sampler = dm_train_balanced.get_balanced_age_dataloader2(batch_size=64, num_workers=1, prefetch_factor=2)\n",
    "sampler.n_batches = 10\n",
    "sampler.p = np.array([0] * 80 + [1])\n",
    "\n",
    "cd_val = StandardDataset(df_val, path_col=\"path\", label_col=\"age\", label_function=\"CAE\", transform_func=transform_func_val)\n",
    "cd_val.set_n_classes(81)\n",
    "cd_val.set_starting_class(1)\n",
    "validator = Validator(cd_val, AgeConversion.ArgMaxAge, 32, num_workers=4, prefetch_factor=2)"
   ]
  },
  {
   "cell_type": "code",
   "execution_count": 9,
   "metadata": {},
   "outputs": [
    {
     "name": "stdout",
     "output_type": "stream",
     "text": [
      "[tensor([[[[-0.6109, -0.6452, -0.6623,  ..., -0.4568, -0.4911, -0.5082],\n",
      "          [-0.6281, -0.6452, -0.6623,  ..., -0.4911, -0.5082, -0.4911],\n",
      "          [-0.6281, -0.6281, -0.6623,  ..., -0.4911, -0.4911, -0.4911],\n",
      "          ...,\n",
      "          [-0.5938, -0.5938, -0.5938,  ..., -0.6965, -0.7137, -0.6794],\n",
      "          [-0.5596, -0.5596, -0.5596,  ..., -0.6794, -0.6794, -0.6794],\n",
      "          [-0.5253, -0.5424, -0.5424,  ..., -0.6452, -0.6623, -0.6623]],\n",
      "\n",
      "         [[-0.8277, -0.8277, -0.8452,  ..., -0.6001, -0.6352, -0.6527],\n",
      "          [-0.8102, -0.8277, -0.8102,  ..., -0.6352, -0.6527, -0.6352],\n",
      "          [-0.7577, -0.7577, -0.7752,  ..., -0.6352, -0.6352, -0.6352],\n",
      "          ...,\n",
      "          [-0.7227, -0.7227, -0.7227,  ..., -0.8803, -0.8978, -0.8803],\n",
      "          [-0.7052, -0.7052, -0.7052,  ..., -0.8277, -0.8452, -0.8277],\n",
      "          [-0.6702, -0.6877, -0.6877,  ..., -0.7927, -0.8102, -0.8102]],\n",
      "\n",
      "         [[-0.5670, -0.5670, -0.6018,  ..., -0.3753, -0.4101, -0.4101],\n",
      "          [-0.5495, -0.5670, -0.5670,  ..., -0.4101, -0.4101, -0.4101],\n",
      "          [-0.4973, -0.4973, -0.5147,  ..., -0.4101, -0.4101, -0.4101],\n",
      "          ...,\n",
      "          [-0.4973, -0.4973, -0.4973,  ..., -0.6541, -0.6715, -0.6541],\n",
      "          [-0.4798, -0.4624, -0.4798,  ..., -0.5844, -0.6018, -0.5844],\n",
      "          [-0.4275, -0.4450, -0.4450,  ..., -0.5495, -0.5670, -0.5670]]],\n",
      "\n",
      "\n",
      "        [[[-0.3027, -0.3369, -0.3712,  ..., -0.7308, -0.7308, -0.7308],\n",
      "          [-0.3198, -0.3712, -0.3883,  ..., -0.7650, -0.7822, -0.7650],\n",
      "          [-0.3198, -0.3541, -0.3712,  ..., -0.7993, -0.7993, -0.7650],\n",
      "          ...,\n",
      "          [-2.1179, -2.1179, -2.1179,  ..., -1.2103, -1.2274, -1.2445],\n",
      "          [-2.1179, -2.1179, -2.1179,  ..., -1.2274, -1.2445, -1.2617],\n",
      "          [-2.1179, -2.1179, -2.1179,  ..., -1.2103, -1.2103, -1.2274]],\n",
      "\n",
      "         [[-0.3550, -0.3725, -0.4251,  ..., -0.8452, -0.8452, -0.8452],\n",
      "          [-0.3725, -0.4251, -0.4426,  ..., -0.8803, -0.8978, -0.8803],\n",
      "          [-0.3725, -0.3901, -0.4251,  ..., -0.9153, -0.9153, -0.8803],\n",
      "          ...,\n",
      "          [-2.0357, -2.0357, -2.0357,  ..., -1.2829, -1.3179, -1.3354],\n",
      "          [-2.0357, -2.0357, -2.0357,  ..., -1.3179, -1.3354, -1.3529],\n",
      "          [-2.0357, -2.0357, -2.0357,  ..., -1.3179, -1.3179, -1.3179]],\n",
      "\n",
      "         [[-0.4624, -0.4973, -0.5321,  ..., -0.9156, -0.9156, -0.9156],\n",
      "          [-0.4798, -0.5321, -0.5495,  ..., -0.9504, -0.9678, -0.9504],\n",
      "          [-0.4798, -0.5147, -0.5321,  ..., -0.9853, -0.9853, -0.9504],\n",
      "          ...,\n",
      "          [-1.8044, -1.8044, -1.8044,  ..., -1.3861, -1.4036, -1.3687],\n",
      "          [-1.8044, -1.8044, -1.8044,  ..., -1.3687, -1.3861, -1.3861],\n",
      "          [-1.8044, -1.8044, -1.8044,  ..., -1.2990, -1.3339, -1.3513]]],\n",
      "\n",
      "\n",
      "        [[[-1.0904, -1.0219, -0.9534,  ..., -1.3302, -1.3644, -1.3302],\n",
      "          [-1.0562, -1.0219, -0.9192,  ..., -1.2617, -1.2617, -1.2959],\n",
      "          [-1.1247, -1.0562, -0.8849,  ..., -1.2274, -1.2274, -1.2617],\n",
      "          ...,\n",
      "          [-0.7822, -0.7137, -0.6452,  ..., -0.7479, -0.7479, -0.7479],\n",
      "          [-0.8507, -0.7479, -0.8164,  ..., -0.7137, -0.7137, -0.7479],\n",
      "          [-0.8849, -0.8164, -0.8507,  ..., -0.7137, -0.7479, -0.7822]],\n",
      "\n",
      "         [[-0.5651, -0.4951, -0.4951,  ..., -0.8102, -0.7752, -0.7402],\n",
      "          [-0.5651, -0.5651, -0.5651,  ..., -0.8803, -0.8102, -0.7752],\n",
      "          [-0.5651, -0.6001, -0.5651,  ..., -0.8452, -0.8102, -0.7752],\n",
      "          ...,\n",
      "          [-0.5651, -0.5651, -0.4951,  ..., -0.6352, -0.6001, -0.5651],\n",
      "          [-0.6001, -0.6001, -0.5651,  ..., -0.6001, -0.5651, -0.5651],\n",
      "          [-0.6001, -0.6001, -0.5651,  ..., -0.6001, -0.6001, -0.6001]],\n",
      "\n",
      "         [[-1.4907, -1.4907, -1.5604,  ..., -1.6302, -1.6999, -1.7347],\n",
      "          [-1.4559, -1.4559, -1.4559,  ..., -1.5256, -1.5604, -1.6302],\n",
      "          [-1.5256, -1.4907, -1.4210,  ..., -1.4559, -1.4907, -1.5604],\n",
      "          ...,\n",
      "          [-0.8284, -0.7587, -0.7238,  ..., -0.9678, -1.0027, -1.0027],\n",
      "          [-0.8284, -0.7587, -0.7587,  ..., -0.9330, -1.0027, -1.0027],\n",
      "          [-0.8284, -0.7238, -0.7587,  ..., -0.9678, -1.0027, -1.0376]]],\n",
      "\n",
      "\n",
      "        ...,\n",
      "\n",
      "\n",
      "        [[[ 0.2967,  0.2796,  0.2796,  ...,  0.6392,  0.5878,  0.5193],\n",
      "          [ 0.3138,  0.2967,  0.2796,  ...,  0.6392,  0.6221,  0.5707],\n",
      "          [ 0.3309,  0.2967,  0.2967,  ...,  0.6221,  0.6221,  0.6049],\n",
      "          ...,\n",
      "          [ 0.4851,  0.4851,  0.5022,  ...,  0.3652,  0.3481,  0.3309],\n",
      "          [ 0.5193,  0.5193,  0.5193,  ...,  0.3652,  0.3652,  0.3309],\n",
      "          [ 0.5536,  0.5536,  0.5536,  ...,  0.3652,  0.3481,  0.3138]],\n",
      "\n",
      "         [[ 0.0826,  0.0651,  0.0651,  ...,  0.3803,  0.3102,  0.2577],\n",
      "          [ 0.0826,  0.0651,  0.0651,  ...,  0.3803,  0.3627,  0.2927],\n",
      "          [ 0.1176,  0.0651,  0.0651,  ...,  0.3627,  0.3627,  0.3277],\n",
      "          ...,\n",
      "          [ 0.2227,  0.2227,  0.2402,  ...,  0.0826,  0.0651,  0.0476],\n",
      "          [ 0.2577,  0.2577,  0.2577,  ...,  0.0651,  0.0651,  0.0301],\n",
      "          [ 0.2752,  0.2752,  0.2752,  ...,  0.0826,  0.0651,  0.0301]],\n",
      "\n",
      "         [[-0.3404, -0.3578, -0.3578,  ..., -0.0615, -0.1138, -0.1835],\n",
      "          [-0.3055, -0.3230, -0.3230,  ..., -0.0615, -0.0790, -0.1312],\n",
      "          [-0.2358, -0.2707, -0.2707,  ..., -0.0790, -0.0790, -0.0964],\n",
      "          ...,\n",
      "          [-0.1661, -0.1661, -0.1661,  ..., -0.3404, -0.3578, -0.3578],\n",
      "          [-0.1312, -0.1312, -0.1312,  ..., -0.3055, -0.3055, -0.3404],\n",
      "          [-0.0964, -0.0964, -0.0964,  ..., -0.2881, -0.3055, -0.3404]]],\n",
      "\n",
      "\n",
      "        [[[-0.9192, -0.9534, -1.0219,  ..., -0.8164, -0.8335, -0.8507],\n",
      "          [-0.9534, -0.9534, -1.0219,  ..., -0.8164, -0.8335, -0.8507],\n",
      "          [-0.9705, -0.9877, -1.0562,  ..., -0.8507, -0.8507, -0.8507],\n",
      "          ...,\n",
      "          [-0.8164, -0.8335, -0.8678,  ...,  0.0741,  0.0569,  0.0227],\n",
      "          [-0.7479, -0.7822, -0.8335,  ...,  0.0912,  0.0741,  0.0569],\n",
      "          [-0.7822, -0.7822, -0.8507,  ...,  0.1254,  0.0912,  0.0912]],\n",
      "\n",
      "         [[-0.8102, -0.8803, -0.9153,  ..., -0.6527, -0.6527, -0.6877],\n",
      "          [-0.8452, -0.8803, -0.8803,  ..., -0.6352, -0.6352, -0.6527],\n",
      "          [-0.8102, -0.8452, -0.8803,  ..., -0.6352, -0.6001, -0.6352],\n",
      "          ...,\n",
      "          [-0.7052, -0.7052, -0.7227,  ...,  0.4153,  0.3803,  0.3627],\n",
      "          [-0.6527, -0.6352, -0.6702,  ...,  0.4328,  0.3803,  0.3627],\n",
      "          [-0.6702, -0.6527, -0.6877,  ...,  0.4328,  0.3803,  0.4153]],\n",
      "\n",
      "         [[-0.7936, -0.7936, -0.8284,  ..., -0.3230, -0.3404, -0.3753],\n",
      "          [-0.7413, -0.7064, -0.7064,  ..., -0.2881, -0.3230, -0.3404],\n",
      "          [-0.7064, -0.6367, -0.6018,  ..., -0.3404, -0.3230, -0.3404],\n",
      "          ...,\n",
      "          [-0.4101, -0.4101, -0.4798,  ...,  0.4962,  0.4962,  0.4614],\n",
      "          [-0.2707, -0.2707, -0.3753,  ...,  0.6531,  0.6182,  0.6008],\n",
      "          [-0.2881, -0.2358, -0.3404,  ...,  0.7402,  0.7228,  0.7228]]],\n",
      "\n",
      "\n",
      "        [[[-0.6281, -0.5767, -0.5596,  ..., -0.5253, -0.5082, -0.5596],\n",
      "          [-0.6109, -0.5767, -0.5596,  ..., -0.5253, -0.5082, -0.5082],\n",
      "          [-0.5596, -0.5424, -0.5424,  ..., -0.4568, -0.4739, -0.4739],\n",
      "          ...,\n",
      "          [-0.4397, -0.4397, -0.4226,  ..., -0.0629, -0.0629, -0.0629],\n",
      "          [-0.4568, -0.4568, -0.4226,  ..., -0.0801, -0.0629, -0.0972],\n",
      "          [-0.5082, -0.4739, -0.4226,  ..., -0.1143, -0.1143, -0.1143]],\n",
      "\n",
      "         [[-0.4076, -0.3550, -0.3375,  ..., -0.2850, -0.2850, -0.2850],\n",
      "          [-0.3901, -0.3550, -0.3375,  ..., -0.2500, -0.2850, -0.2850],\n",
      "          [-0.3725, -0.3550, -0.3375,  ..., -0.2500, -0.2500, -0.2500],\n",
      "          ...,\n",
      "          [-0.2150, -0.2150, -0.2150,  ..., -0.4426, -0.4076, -0.3901],\n",
      "          [-0.2325, -0.2325, -0.2325,  ..., -0.4076, -0.3725, -0.3725],\n",
      "          [-0.2675, -0.2500, -0.2325,  ..., -0.3901, -0.3375, -0.2675]],\n",
      "\n",
      "         [[-0.3927, -0.3404, -0.3055,  ..., -0.2532, -0.2707, -0.3230],\n",
      "          [-0.3404, -0.3230, -0.2881,  ..., -0.2358, -0.2532, -0.2707],\n",
      "          [-0.2881, -0.2881, -0.2881,  ..., -0.1835, -0.2010, -0.2184],\n",
      "          ...,\n",
      "          [-0.2010, -0.1835, -0.1487,  ..., -0.4798, -0.4450, -0.4450],\n",
      "          [-0.2010, -0.2010, -0.1487,  ..., -0.4624, -0.4450, -0.4101],\n",
      "          [-0.2532, -0.2010, -0.1487,  ..., -0.4450, -0.3927, -0.3404]]]]), [tensor([80, 80, 80, 80, 80, 80, 80, 80, 80, 80, 80, 80, 80, 80, 80, 80, 80, 80,\n",
      "        80, 80, 80, 80, 80, 80, 80, 80, 80, 80, 80, 80, 80, 80, 80, 80, 80, 80,\n",
      "        80, 80, 80, 80, 80, 80, 80, 80, 80, 80, 80, 80, 80, 80, 80, 80, 80, 80,\n",
      "        80, 80, 80, 80, 80, 80, 80, 80, 80, 80]), tensor([[0.0000, 0.0000, 0.0000,  ..., 0.0772, 0.3459, 0.5703],\n",
      "        [0.0000, 0.0000, 0.0000,  ..., 0.0772, 0.3459, 0.5703],\n",
      "        [0.0000, 0.0000, 0.0000,  ..., 0.0772, 0.3459, 0.5703],\n",
      "        ...,\n",
      "        [0.0000, 0.0000, 0.0000,  ..., 0.0772, 0.3459, 0.5703],\n",
      "        [0.0000, 0.0000, 0.0000,  ..., 0.0772, 0.3459, 0.5703],\n",
      "        [0.0000, 0.0000, 0.0000,  ..., 0.0772, 0.3459, 0.5703]],\n",
      "       dtype=torch.float64)]]\n"
     ]
    }
   ],
   "source": [
    "for d in dl_train_balanced:\n",
    "    print(d)\n",
    "    break"
   ]
  },
  {
   "cell_type": "code",
   "execution_count": 10,
   "metadata": {},
   "outputs": [
    {
     "name": "stdout",
     "output_type": "stream",
     "text": [
      "giggi\n"
     ]
    }
   ],
   "source": [
    "if (max([0]) < torch.tensor(1.0)):\n",
    "    print(\"giggi\")"
   ]
  },
  {
   "cell_type": "code",
   "execution_count": 10,
   "metadata": {},
   "outputs": [
    {
     "name": "stdout",
     "output_type": "stream",
     "text": [
      "tensor([80, 80, 80, 80, 80, 80, 80, 80, 80, 80, 80, 80, 80, 80, 80, 80, 80, 80,\n",
      "        80, 80, 80, 80, 80, 80, 80, 80, 80, 80, 80, 80, 80, 80, 80, 80, 80, 80,\n",
      "        80, 80, 80, 80, 80, 80, 80, 80, 80, 80, 80, 80, 80, 80, 80, 80, 80, 80,\n",
      "        80, 80, 80, 80, 80, 80, 80, 80, 80, 80])\n",
      "tensor([79., 79., 79., 79., 79., 79., 79., 79., 79., 79., 79., 79., 79., 79.,\n",
      "        79., 79., 79., 79., 79., 79., 79., 79., 79., 79., 79., 79., 79., 79.,\n",
      "        79., 79., 79., 79., 79., 79., 79., 79., 79., 79., 79., 79., 79., 79.,\n",
      "        79., 79., 79., 79., 79., 79., 79., 79., 79., 79., 79., 79., 79., 79.,\n",
      "        79., 79., 79., 79., 79., 79., 79., 79.], dtype=torch.float64)\n",
      "tensor([79.4799, 79.4799, 79.4799, 79.4799, 79.4799, 79.4799, 79.4799, 79.4799,\n",
      "        79.4799, 79.4799, 79.4799, 79.4799, 79.4799, 79.4799, 79.4799, 79.4799,\n",
      "        79.4799, 79.4799, 79.4799, 79.4799, 79.4799, 79.4799, 79.4799, 79.4799,\n",
      "        79.4799, 79.4799, 79.4799, 79.4799, 79.4799, 79.4799, 79.4799, 79.4799,\n",
      "        79.4799, 79.4799, 79.4799, 79.4799, 79.4799, 79.4799, 79.4799, 79.4799,\n",
      "        79.4799, 79.4799, 79.4799, 79.4799, 79.4799, 79.4799, 79.4799, 79.4799,\n",
      "        79.4799, 79.4799, 79.4799, 79.4799, 79.4799, 79.4799, 79.4799, 79.4799,\n",
      "        79.4799, 79.4799, 79.4799, 79.4799, 79.4799, 79.4799, 79.4799, 79.4799],\n",
      "       dtype=torch.float64)\n"
     ]
    }
   ],
   "source": [
    "print(d[1][0])\n",
    "t: torch.Tensor = d[1][1]\n",
    "# t.sum(dim=-1)\n",
    "print(torch.round(AgeConversion.EVAge(d[1][1])))\n",
    "print(AgeConversion.EVAge(d[1][1] / t.sum(dim=-1, keepdim=True).expand(-1, 81)))"
   ]
  },
  {
   "cell_type": "code",
   "execution_count": 6,
   "metadata": {},
   "outputs": [
    {
     "data": {
      "text/plain": [
       "torch.Size([64, 81])"
      ]
     },
     "execution_count": 6,
     "metadata": {},
     "output_type": "execute_result"
    }
   ],
   "source": [
    "t.shape"
   ]
  },
  {
   "cell_type": "code",
   "execution_count": 13,
   "metadata": {},
   "outputs": [
    {
     "data": {
      "text/plain": [
       "array([0.2 , 0.5 , 0.2 , 0.02, 0.02, 0.02, 0.02, 0.02])"
      ]
     },
     "execution_count": 13,
     "metadata": {},
     "output_type": "execute_result"
    }
   ],
   "source": [
    "import numpy as np\n",
    "\n",
    "def set_p(worst_index):\n",
    "    if worst_index == 0:\n",
    "        return np.array([0.68, 0.2, 0.02, 0.02, 0.02, 0.02, 0.02, 0.02])\n",
    "    if worst_index == 7:\n",
    "        return np.array([0.02, 0.02, 0.02, 0.02, 0.02, 0.02, 0.2, 0.68])\n",
    "    p = np.array([0.02]*8)\n",
    "    p[worst_index-1:worst_index+2] = np.array([0.2, 0.5, 0.2])\n",
    "    return p\n",
    "\n",
    "set_p(1)"
   ]
  },
  {
   "cell_type": "code",
   "execution_count": 7,
   "metadata": {},
   "outputs": [
    {
     "data": {
      "text/plain": [
       "array([[1., 1., 1., ..., 1., 1., 1.],\n",
       "       [1., 1., 1., ..., 1., 1., 1.],\n",
       "       [1., 1., 1., ..., 1., 1., 1.],\n",
       "       ...,\n",
       "       [1., 1., 1., ..., 1., 1., 1.],\n",
       "       [1., 1., 1., ..., 1., 1., 1.],\n",
       "       [1., 1., 1., ..., 1., 1., 1.]])"
      ]
     },
     "execution_count": 7,
     "metadata": {},
     "output_type": "execute_result"
    }
   ],
   "source": [
    "np.tile(np.sum(t.numpy(), axis=-1, keepdims=True), (1, 81))"
   ]
  },
  {
   "cell_type": "code",
   "execution_count": 8,
   "metadata": {},
   "outputs": [],
   "source": [
    "import numpy as np\n",
    "def _to_kl_labels(y, n_classes):\n",
    "    std = 1.0\n",
    "    _y = np.arange(n_classes)\n",
    "    return 1/(std * np.sqrt(2*np.pi)) * np.exp(-np.square(_y-y) / (2*std**2))"
   ]
  },
  {
   "cell_type": "code",
   "execution_count": 9,
   "metadata": {},
   "outputs": [],
   "source": [
    "t = _to_kl_labels(1, 81)"
   ]
  },
  {
   "cell_type": "code",
   "execution_count": 10,
   "metadata": {},
   "outputs": [
    {
     "data": {
      "text/plain": [
       "array([2.41970725e-001, 3.98942280e-001, 2.41970725e-001, 5.39909665e-002,\n",
       "       4.43184841e-003, 1.33830226e-004, 1.48671951e-006, 6.07588285e-009,\n",
       "       9.13472041e-012, 5.05227108e-015, 1.02797736e-018, 7.69459863e-023,\n",
       "       2.11881925e-027, 2.14638374e-032, 7.99882776e-038, 1.09660656e-043,\n",
       "       5.53070955e-050, 1.02616307e-056, 7.00418213e-064, 1.75874954e-071,\n",
       "       1.62463604e-079, 5.52094836e-088, 6.90202942e-097, 3.17428155e-106,\n",
       "       5.37056037e-116, 3.34271444e-126, 7.65392974e-137, 6.44725997e-148,\n",
       "       1.99788926e-159, 2.27757748e-171, 9.55169454e-184, 1.47364613e-196,\n",
       "       8.36395161e-210, 1.74636626e-223, 1.34141967e-237, 3.79052640e-252,\n",
       "       3.94039628e-267, 1.50690472e-282, 2.12000655e-298, 1.09722105e-314,\n",
       "       0.00000000e+000, 0.00000000e+000, 0.00000000e+000, 0.00000000e+000,\n",
       "       0.00000000e+000, 0.00000000e+000, 0.00000000e+000, 0.00000000e+000,\n",
       "       0.00000000e+000, 0.00000000e+000, 0.00000000e+000, 0.00000000e+000,\n",
       "       0.00000000e+000, 0.00000000e+000, 0.00000000e+000, 0.00000000e+000,\n",
       "       0.00000000e+000, 0.00000000e+000, 0.00000000e+000, 0.00000000e+000,\n",
       "       0.00000000e+000, 0.00000000e+000, 0.00000000e+000, 0.00000000e+000,\n",
       "       0.00000000e+000, 0.00000000e+000, 0.00000000e+000, 0.00000000e+000,\n",
       "       0.00000000e+000, 0.00000000e+000, 0.00000000e+000, 0.00000000e+000,\n",
       "       0.00000000e+000, 0.00000000e+000, 0.00000000e+000, 0.00000000e+000,\n",
       "       0.00000000e+000, 0.00000000e+000, 0.00000000e+000, 0.00000000e+000,\n",
       "       0.00000000e+000])"
      ]
     },
     "execution_count": 10,
     "metadata": {},
     "output_type": "execute_result"
    }
   ],
   "source": [
    "t"
   ]
  },
  {
   "cell_type": "code",
   "execution_count": 11,
   "metadata": {},
   "outputs": [
    {
     "data": {
      "text/plain": [
       "tensor([1.1294], dtype=torch.float64)"
      ]
     },
     "execution_count": 11,
     "metadata": {},
     "output_type": "execute_result"
    }
   ],
   "source": [
    "AgeConversion.EVAge(torch.unsqueeze(torch.tensor(_to_kl_labels(1, 81)), dim=0) / torch.unsqueeze(torch.tensor(_to_kl_labels(1, 81)), dim=0).sum())"
   ]
  },
  {
   "cell_type": "code",
   "execution_count": 12,
   "metadata": {},
   "outputs": [
    {
     "data": {
      "text/plain": [
       "tensor([0.3638], dtype=torch.float64)"
      ]
     },
     "execution_count": 12,
     "metadata": {},
     "output_type": "execute_result"
    }
   ],
   "source": [
    "AgeConversion.EVAge(torch.unsqueeze(torch.tensor(_to_kl_labels(0, 81)), dim=0))"
   ]
  },
  {
   "cell_type": "code",
   "execution_count": 3,
   "metadata": {},
   "outputs": [
    {
     "name": "stderr",
     "output_type": "stream",
     "text": [
      "c:\\Users\\Gio\\.conda\\envs\\AV_project\\lib\\site-packages\\torchvision\\models\\_utils.py:135: UserWarning: Using 'weights' as positional parameter(s) is deprecated since 0.13 and may be removed in the future. Please use keyword parameter(s) instead.\n",
      "  warnings.warn(\n"
     ]
    },
    {
     "data": {
      "text/plain": [
       "<All keys matched successfully>"
      ]
     },
     "execution_count": 3,
     "metadata": {},
     "output_type": "execute_result"
    }
   ],
   "source": [
    "from ResNetFilmed.resnet import ResNetFiLMed, BackBone, ResNetNotFiLMed, DoNothingLayer\n",
    "from torchvision.models import resnet18, ResNet18_Weights, efficientnet_b0, EfficientNet_B0_Weights\n",
    "import torch\n",
    "from torch import optim\n",
    "import torch.nn.functional as F\n",
    "from torch import nn\n",
    "\n",
    "####################################################\n",
    "EPOCHS = 24\n",
    "####################################################\n",
    "\n",
    "backbone = resnet18(ResNet18_Weights.IMAGENET1K_V1)\n",
    "backbone.fc = DoNothingLayer()\n",
    "backbone.train()\n",
    "backbone.requires_grad_(True)\n",
    "backbone.to(\"cuda\")\n",
    "model_age = ResNetNotFiLMed(backbone, 81)\n",
    "model_age.load_state_dict(torch.load(\"./model_age_classification_simple.pt\", map_location=\"cuda:0\"))"
   ]
  },
  {
   "cell_type": "code",
   "execution_count": 4,
   "metadata": {},
   "outputs": [
    {
     "name": "stderr",
     "output_type": "stream",
     "text": [
      "100%|██████████| 4493/4493 [02:28<00:00, 30.16 batch/s]\n"
     ]
    }
   ],
   "source": [
    "def forward_function(x):\n",
    "    out = model_age(x)\n",
    "    out = F.softmax(out, dim=-1)\n",
    "    return out\n",
    "\n",
    "sig, ae_age, ae, mae_, val_aar, val_aar_old = validator.validate_ext4(forward_function)"
   ]
  },
  {
   "cell_type": "code",
   "execution_count": 8,
   "metadata": {},
   "outputs": [],
   "source": [
    "n_classes = 81\n",
    "n_worst = 16\n",
    "worst = sorted([(i, float(torch.nan_to_num(ae_age[i]))) for i in range(n_classes)], reverse=True, key=lambda x: x[1])[:n_worst]\n",
    "sampler.p = np.array([0.2 / (n_classes - n_worst)]*n_classes)\n",
    "for w in worst:\n",
    "    index, _ = w\n",
    "    sampler.p[index] = 0.8 / n_worst"
   ]
  },
  {
   "cell_type": "code",
   "execution_count": 9,
   "metadata": {},
   "outputs": [
    {
     "data": {
      "text/plain": [
       "array([0.05      , 0.05      , 0.05      , 0.05      , 0.05      ,\n",
       "       0.05      , 0.05      , 0.05      , 0.05      , 0.00307692,\n",
       "       0.05      , 0.05      , 0.05      , 0.05      , 0.05      ,\n",
       "       0.00307692, 0.00307692, 0.00307692, 0.00307692, 0.00307692,\n",
       "       0.00307692, 0.00307692, 0.00307692, 0.00307692, 0.00307692,\n",
       "       0.00307692, 0.00307692, 0.00307692, 0.00307692, 0.00307692,\n",
       "       0.00307692, 0.00307692, 0.00307692, 0.00307692, 0.00307692,\n",
       "       0.00307692, 0.00307692, 0.00307692, 0.00307692, 0.00307692,\n",
       "       0.00307692, 0.00307692, 0.00307692, 0.00307692, 0.00307692,\n",
       "       0.00307692, 0.00307692, 0.00307692, 0.00307692, 0.00307692,\n",
       "       0.00307692, 0.00307692, 0.00307692, 0.00307692, 0.00307692,\n",
       "       0.00307692, 0.00307692, 0.00307692, 0.00307692, 0.00307692,\n",
       "       0.00307692, 0.00307692, 0.00307692, 0.00307692, 0.00307692,\n",
       "       0.00307692, 0.00307692, 0.00307692, 0.05      , 0.00307692,\n",
       "       0.00307692, 0.00307692, 0.00307692, 0.00307692, 0.00307692,\n",
       "       0.00307692, 0.00307692, 0.00307692, 0.00307692, 0.05      ,\n",
       "       0.00307692])"
      ]
     },
     "execution_count": 9,
     "metadata": {},
     "output_type": "execute_result"
    }
   ],
   "source": [
    "sampler.p"
   ]
  },
  {
   "cell_type": "code",
   "execution_count": 5,
   "metadata": {},
   "outputs": [],
   "source": [
    "import numpy as np\n",
    "def get_centers(outs, ys, old):\n",
    "    centers_for_age = {x: [] for x in range(81)}\n",
    "\n",
    "    for out, y in zip(outs, ys):\n",
    "        for _out, _y in zip(out, y):\n",
    "            centers_for_age[int(_y)].append(_out.detach().cpu().numpy())\n",
    "\n",
    "    for i in centers_for_age:\n",
    "        if len(centers_for_age[i]) > 0:\n",
    "            centers_for_age[i] = torch.tensor(np.array(centers_for_age[i])).mean(dim=0).to(\"cuda\")\n",
    "        else:\n",
    "            centers_for_age[i] = old[i]\n",
    "    return centers_for_age\n",
    "\n",
    "def update_centers(old, new, alpha=0.5):\n",
    "    for i in new:\n",
    "        new[i] = new[i] - alpha*(new[i] - old[i])\n",
    "    return new\n",
    "\n",
    "def get_centers_loss(out, y, centers_for_age):\n",
    "    loss = None\n",
    "    for _out, _y in zip(out, y):\n",
    "        if loss is None:\n",
    "            loss = torch.mean(torch.square(_out - centers_for_age[int(_y)]))\n",
    "        else:    \n",
    "            loss += torch.mean(torch.square(_out - centers_for_age[int(_y)]))\n",
    "    return loss.to(\"cuda\")"
   ]
  },
  {
   "cell_type": "code",
   "execution_count": 6,
   "metadata": {},
   "outputs": [
    {
     "name": "stderr",
     "output_type": "stream",
     "text": [
      "233 batch [01:47,  2.20 batch/s, loss_age=2.5409758, loss_age_bal=2.5297728, loss_age_kl=1.2492404040357374, loss_age_kl_bal=1.21976906498012, loss_repr=0.61008906, loss_repr_bal=0.5650206, total_loss=6.465754131539128]   "
     ]
    }
   ],
   "source": [
    "centers_for_age = {x: torch.zeros(size=(512,), device=\"cuda\") for x in range(81)}\n",
    "best_val_aar = val_aar\n",
    "\n",
    "for e in range(EPOCHS):\n",
    "    with tqdm(zip(dl_train, dl_train_balanced), unit=\" batch\") as tepoch:\n",
    "        for batch, batch_balanced in tepoch:\n",
    "            opt.zero_grad()\n",
    "            x, y = batch\n",
    "            x_bal, y_bal = batch_balanced\n",
    "\n",
    "            x = x.to(\"cuda\")\n",
    "            y_age: torch.Tensor = y[0].to(\"cuda\")\n",
    "            y_age_kl: torch.Tensor = y[1].to(\"cuda\")\n",
    "\n",
    "            x_bal = x_bal.to(\"cuda\")\n",
    "            y_age_bal: torch.Tensor = y_bal[0].to(\"cuda\")\n",
    "            y_age_kl_bal: torch.Tensor = y_bal[1].to(\"cuda\")\n",
    "\n",
    "            out_rep, out_age = model_age.forward_with_repr(x)\n",
    "            loss_age_kl: torch.Tensor = kl(F.log_softmax(out_age, dim=-1), y_age_kl)\n",
    "            out_age = F.softmax(out_age, dim=-1)\n",
    "            out = AgeConversion.EVAge(out_age).to(\"cuda\")\n",
    "            loss_age = torch.mean(torch.abs(y_age - out))\n",
    "            loss = loss_age_kl + loss_age\n",
    "\n",
    "            out_rep_bal, out_age_bal = model_age.forward_with_repr(x_bal)\n",
    "            loss_age_kl_bal: torch.Tensor = kl(F.log_softmax(out_age_bal, dim=-1), y_age_kl_bal)\n",
    "            out_age_bal = F.softmax(out_age_bal, dim=-1)\n",
    "            out_bal = AgeConversion.EVAge(out_age_bal).to(\"cuda\")\n",
    "            loss_age_bal = torch.mean(torch.abs(y_age_bal - out_bal))\n",
    "            loss_bal = loss_age_kl_bal + torch.square(loss_age_bal - 2.0)\n",
    "\n",
    "            loss_repr = get_centers_loss(out_rep, y_age, centers_for_age)\n",
    "            loss_repr_bal = get_centers_loss(out_rep_bal, y_age_bal, centers_for_age)\n",
    "\n",
    "            total_loss = loss + loss_bal + loss_repr + loss_repr_bal\n",
    "\n",
    "            total_loss.backward()\n",
    "            opt.step()\n",
    "            scheduler.step()\n",
    "\n",
    "            centers_for_age = update_centers(centers_for_age, get_centers((out_rep, out_rep_bal), (y_age, y_age_bal), centers_for_age), alpha=0.5)\n",
    "\n",
    "            tepoch.set_postfix(loss_age_kl=loss_age_kl.detach().cpu().numpy(), loss_age=loss_age.detach().cpu().numpy(),\n",
    "                                loss_age_kl_bal=loss_age_kl_bal.detach().cpu().numpy(), loss_age_bal=loss_age_bal.detach().cpu().numpy(),\n",
    "                                loss_repr=loss_repr.detach().cpu().numpy(), loss_repr_bal=loss_repr_bal.detach().cpu().numpy(),\n",
    "                                total_loss=total_loss.detach().cpu().numpy())\n",
    "\n",
    "    def forward_function(x):\n",
    "        out = model_age(x)\n",
    "        out = F.softmax(out, dim=-1)\n",
    "        return out\n",
    " \n",
    "    ae, mae_, val_aar, val_aar_old = validator.validate_ext2(forward_function)\n",
    "    print(ae, mae_, val_aar, val_aar_old)\n",
    "\n",
    "    if best_val_aar < val_aar:\n",
    "        best_val_aar = val_aar\n",
    "        torch.save(model_age.state_dict(), \"./model_age_feature_simple_no_loss.pt\")\n",
    "        print(\"Saved model\")"
   ]
  }
 ],
 "metadata": {
  "kernelspec": {
   "display_name": "AV_project",
   "language": "python",
   "name": "python3"
  },
  "language_info": {
   "codemirror_mode": {
    "name": "ipython",
    "version": 3
   },
   "file_extension": ".py",
   "mimetype": "text/x-python",
   "name": "python",
   "nbconvert_exporter": "python",
   "pygments_lexer": "ipython3",
   "version": "3.8.10"
  },
  "orig_nbformat": 4,
  "vscode": {
   "interpreter": {
    "hash": "cb944c2b40f40877ef78d83ae6cee61e5f12ef7b90668598de820bc310ff39a2"
   }
  }
 },
 "nbformat": 4,
 "nbformat_minor": 2
}
