{
 "cells": [
  {
   "cell_type": "code",
   "execution_count": 1,
   "metadata": {},
   "outputs": [
    {
     "name": "stderr",
     "output_type": "stream",
     "text": [
      "c:\\Users\\Gio\\.conda\\envs\\AV_project\\lib\\site-packages\\tqdm\\auto.py:22: TqdmWarning: IProgress not found. Please update jupyter and ipywidgets. See https://ipywidgets.readthedocs.io/en/stable/user_install.html\n",
      "  from .autonotebook import tqdm as notebook_tqdm\n"
     ]
    }
   ],
   "source": [
    "from typing import List\n",
    "from Dataset.CustomDataset import AgeGroupAndAgeDataset, StandardDataset, AgeDatasetKL\n",
    "from Dataset.CustomDataLoaders import CustomDataLoader\n",
    "from sklearn.model_selection import train_test_split\n",
    "from tqdm import tqdm\n",
    "from Utils import AAR, CSVUtils, AgeConversion\n",
    "from Utils.Validator import Validator"
   ]
  },
  {
   "cell_type": "code",
   "execution_count": 7,
   "metadata": {},
   "outputs": [],
   "source": [
    "#########################\n",
    "import pandas as pd\n",
    "df = CSVUtils.get_df_from_csv(\"./training_caip_contest.csv\", \"./training_caip_contest/\")\n",
    "df_train, df_val = train_test_split(df, test_size=0.25, random_state=42)\n",
    "aug = CSVUtils.get_df_from_csv(\"./augumentation_balanced_remove.csv\", \"./newAugmentationDataset/\")\n",
    "df_train_aug = pd.concat([df_train, aug], ignore_index=True)\n",
    "df_train_aug = df_train_aug.reset_index(drop=True)\n",
    "df_train = df_train.reset_index(drop=True)\n",
    "df_val = df_val.reset_index(drop=True)\n",
    "#########################\n",
    "\n",
    "from torchvision import transforms\n",
    "import torch\n",
    "import numpy as np\n",
    "\n",
    "transform_func = transforms.Compose([\n",
    "    transforms.Resize(224),\n",
    "    transforms.RandomHorizontalFlip(),\n",
    "    transforms.ColorJitter(0.1, 0.1, 0.1, 0.1),\n",
    "    transforms.RandAugment(2, 9),\n",
    "    transforms.PILToTensor(),\n",
    "    transforms.ConvertImageDtype(torch.float),\n",
    "    transforms.Normalize(\n",
    "        mean=[0.485, 0.456, 0.406],\n",
    "        std=[0.229, 0.224, 0.225]\n",
    "    ),\n",
    "])\n",
    "\n",
    "transform_func_val = transforms.Compose([\n",
    "    transforms.Resize(224),\n",
    "    transforms.PILToTensor(),\n",
    "    transforms.ConvertImageDtype(torch.float),\n",
    "    transforms.Normalize(\n",
    "        mean=[0.485, 0.456, 0.406],\n",
    "        std=[0.229, 0.224, 0.225]\n",
    "    ),\n",
    "])\n",
    "\n",
    "# Implementazione di un Dataset utilizzando \"CustomDataset\" per l'architettura con Film\n",
    "cd_train_balanced = AgeDatasetKL(df_train_aug, path_col=\"path\", label_col=\"age\", label_function=\"Linear\", \n",
    "                                transform_func=transform_func)\n",
    "cd_train_balanced.set_n_classes(81)\n",
    "cd_train_balanced.set_starting_class(1)\n",
    "dm_train_balanced = CustomDataLoader(cd_train_balanced)\n",
    "dl_train_balanced, sampler = dm_train_balanced.get_balanced_class_dataloader2(class_ranges=[(0, 11), (11, 21), (21, 31), (31, 41), (41, 51), (51, 61), (61, 71), (71, 91)], \n",
    "                                                                            batch_size=64, num_workers=1, prefetch_factor=2)\n",
    "sampler.n_batches = 10\n",
    "sampler.p = np.array([1, 0, 0, 0, 0, 0, 0, 0])\n",
    "\n",
    "cd_val = StandardDataset(df_val, path_col=\"path\", label_col=\"age\", label_function=\"CAE\", transform_func=transform_func_val)\n",
    "cd_val.set_n_classes(81)\n",
    "cd_val.set_starting_class(1)\n",
    "validator = Validator(cd_val, AgeConversion.ArgMaxAge, 32, num_workers=4, prefetch_factor=2)"
   ]
  },
  {
   "cell_type": "code",
   "execution_count": 4,
   "metadata": {},
   "outputs": [
    {
     "name": "stdout",
     "output_type": "stream",
     "text": [
      "[tensor([[[[ 0.0569,  0.0569,  0.0398,  ..., -0.2342, -0.2856, -0.2513],\n",
      "          [ 0.0398,  0.0569,  0.0569,  ..., -0.2856, -0.2513, -0.2856],\n",
      "          [ 0.0569,  0.0398, -0.0116,  ..., -0.3027, -0.2856, -0.2342],\n",
      "          ...,\n",
      "          [-2.1179, -2.1179, -2.1179,  ...,  0.7077,  0.6906,  0.6734],\n",
      "          [-2.1179, -2.1179, -2.1179,  ...,  0.6392,  0.6392,  0.6221],\n",
      "          [-2.1179, -2.1179, -2.1179,  ...,  0.6049,  0.5878,  0.5707]],\n",
      "\n",
      "         [[-0.0049,  0.0126,  0.0301,  ..., -0.3025, -0.2850, -0.2675],\n",
      "          [-0.0049, -0.0049,  0.0301,  ..., -0.3375, -0.3200, -0.2850],\n",
      "          [ 0.0126,  0.0301,  0.0126,  ..., -0.3725, -0.3375, -0.3025],\n",
      "          ...,\n",
      "          [-2.0357, -2.0357, -2.0357,  ...,  0.5028,  0.5028,  0.5028],\n",
      "          [-2.0357, -2.0357, -2.0357,  ...,  0.4853,  0.4678,  0.4328],\n",
      "          [-2.0357, -2.0357, -2.0357,  ...,  0.4678,  0.4328,  0.3803]],\n",
      "\n",
      "         [[ 0.2522,  0.3742,  0.4614,  ...,  0.1128,  0.0082, -0.0092],\n",
      "          [ 0.3568,  0.4439,  0.4962,  ...,  0.1128,  0.0953,  0.0082],\n",
      "          [ 0.4614,  0.4962,  0.5659,  ...,  0.1651,  0.1128,  0.1128],\n",
      "          ...,\n",
      "          [-1.8044, -1.8044, -1.8044,  ...,  0.1302,  0.1302,  0.0953],\n",
      "          [-1.8044, -1.8044, -1.8044,  ...,  0.1128,  0.0953,  0.0953],\n",
      "          [-1.8044, -1.8044, -1.8044,  ...,  0.0779,  0.0605,  0.0779]]],\n",
      "\n",
      "\n",
      "        [[[-2.1179, -2.1179, -2.1179,  ..., -2.1179, -2.1179, -2.1179],\n",
      "          [-2.1179, -2.1179, -2.1179,  ..., -2.1179, -2.1179, -2.1179],\n",
      "          [-2.1179, -2.1179, -2.1179,  ..., -2.1179, -2.1179, -2.1179],\n",
      "          ...,\n",
      "          [-1.2103, -1.1760, -1.2103,  ..., -1.8268, -1.7925, -1.7412],\n",
      "          [-1.1075, -1.1247, -1.1589,  ..., -1.8782, -1.8097, -1.7754],\n",
      "          [-0.9705, -1.0562, -1.1075,  ..., -1.8610, -1.8097, -1.7412]],\n",
      "\n",
      "         [[-2.0357, -2.0357, -2.0357,  ..., -2.0357, -2.0357, -2.0357],\n",
      "          [-2.0357, -2.0357, -2.0357,  ..., -2.0357, -2.0357, -2.0357],\n",
      "          [-2.0357, -2.0357, -2.0357,  ..., -2.0357, -2.0357, -2.0357],\n",
      "          ...,\n",
      "          [-0.8452, -0.8277, -0.8452,  ..., -1.6331, -1.5805, -1.5280],\n",
      "          [-0.7402, -0.7402, -0.7402,  ..., -1.6681, -1.5805, -1.5455],\n",
      "          [-0.6176, -0.6527, -0.6176,  ..., -1.6681, -1.5805, -1.5280]],\n",
      "\n",
      "         [[-1.8044, -1.8044, -1.8044,  ..., -1.8044, -1.8044, -1.8044],\n",
      "          [-1.8044, -1.8044, -1.8044,  ..., -1.8044, -1.8044, -1.8044],\n",
      "          [-1.8044, -1.8044, -1.8044,  ..., -1.8044, -1.8044, -1.8044],\n",
      "          ...,\n",
      "          [-0.4101, -0.3927, -0.4101,  ..., -1.3164, -1.2293, -1.1596],\n",
      "          [-0.3230, -0.3230, -0.3578,  ..., -1.4384, -1.2816, -1.2119],\n",
      "          [-0.2707, -0.2707, -0.2881,  ..., -1.3861, -1.2816, -1.1944]]],\n",
      "\n",
      "\n",
      "        [[[-1.2445, -1.3987, -1.5357,  ..., -1.3987, -1.4500, -1.3473],\n",
      "          [-1.3473, -1.4843, -1.5357,  ..., -1.4843, -1.4843, -1.4500],\n",
      "          [-1.3473, -1.4500, -1.5357,  ..., -1.5357, -1.4843, -1.3987],\n",
      "          ...,\n",
      "          [ 0.9646,  1.0502,  1.1529,  ...,  0.3823,  0.0398,  0.2624],\n",
      "          [ 0.9988,  1.0502,  1.1529,  ...,  0.4508,  0.1939,  0.3138],\n",
      "          [ 0.9988,  1.0844,  1.1872,  ...,  0.5193,  0.2624,  0.3823]],\n",
      "\n",
      "         [[-1.0903, -1.2479, -1.3880,  ..., -1.3354, -1.3880, -1.3004],\n",
      "          [-1.1954, -1.3354, -1.3880,  ..., -1.4230, -1.4230, -1.3880],\n",
      "          [-1.1954, -1.3004, -1.3880,  ..., -1.4580, -1.4230, -1.3354],\n",
      "          ...,\n",
      "          [ 1.2206,  1.3081,  1.4132,  ...,  0.6254,  0.5378,  0.7654],\n",
      "          [ 1.2731,  1.3081,  1.4132,  ...,  0.6954,  0.6254,  0.8354],\n",
      "          [ 1.2731,  1.3431,  1.4482,  ...,  0.7654,  0.7654,  0.9055]],\n",
      "\n",
      "         [[-0.1138, -0.3753, -0.6193,  ..., -0.6890, -0.7587, -0.6193],\n",
      "          [-0.3055, -0.5321, -0.6193,  ..., -0.8284, -0.8284, -0.7587],\n",
      "          [-0.3055, -0.4624, -0.6193,  ..., -0.8981, -0.8284, -0.6890],\n",
      "          ...,\n",
      "          [ 1.1237,  1.1237,  1.0539,  ..., -0.4624, -0.3753, -0.1138],\n",
      "          [ 1.1237,  1.1237,  1.1237,  ..., -0.3753, -0.3055, -0.1138],\n",
      "          [ 1.2457,  1.1237,  1.1237,  ..., -0.3055, -0.1138,  0.1128]]],\n",
      "\n",
      "\n",
      "        ...,\n",
      "\n",
      "\n",
      "        [[[-2.1179, -2.1179, -2.1179,  ..., -2.1179, -2.1179, -2.1179],\n",
      "          [-2.1179, -2.1179, -2.1179,  ..., -2.1179, -2.1179, -2.1179],\n",
      "          [-2.1179, -2.1179, -2.1179,  ..., -2.1179, -2.1179, -2.1179],\n",
      "          ...,\n",
      "          [-2.1179, -2.1179, -2.1179,  ..., -2.1179, -2.1179, -2.1179],\n",
      "          [-2.1179, -2.1179, -2.1179,  ..., -2.1179, -2.1179, -2.1179],\n",
      "          [-2.1179, -2.1179, -2.1179,  ..., -2.1179, -2.1179, -2.1179]],\n",
      "\n",
      "         [[-2.0357, -2.0357, -2.0357,  ..., -2.0357, -2.0357, -2.0357],\n",
      "          [-2.0357, -2.0357, -2.0357,  ..., -2.0357, -2.0357, -2.0357],\n",
      "          [-2.0357, -2.0357, -2.0357,  ..., -2.0357, -2.0357, -2.0357],\n",
      "          ...,\n",
      "          [-2.0357, -2.0357, -2.0357,  ..., -2.0357, -2.0357, -2.0357],\n",
      "          [-2.0357, -2.0357, -2.0357,  ..., -2.0357, -2.0357, -2.0357],\n",
      "          [-2.0357, -2.0357, -2.0357,  ..., -2.0357, -2.0357, -2.0357]],\n",
      "\n",
      "         [[-1.8044, -1.8044, -1.8044,  ..., -1.8044, -1.8044, -1.8044],\n",
      "          [-1.8044, -1.8044, -1.8044,  ..., -1.8044, -1.8044, -1.8044],\n",
      "          [-1.8044, -1.8044, -1.8044,  ..., -1.8044, -1.8044, -1.8044],\n",
      "          ...,\n",
      "          [-1.8044, -1.8044, -1.8044,  ..., -1.8044, -1.8044, -1.8044],\n",
      "          [-1.8044, -1.8044, -1.8044,  ..., -1.8044, -1.8044, -1.8044],\n",
      "          [-1.8044, -1.8044, -1.8044,  ..., -1.8044, -1.8044, -1.8044]]],\n",
      "\n",
      "\n",
      "        [[[-0.5767, -0.5938, -0.6281,  ..., -0.0287, -0.0116,  0.0056],\n",
      "          [-0.6452, -0.7137, -0.7137,  ..., -0.0801, -0.0287,  0.0056],\n",
      "          [-0.7137, -0.7308, -0.7650,  ..., -0.0458, -0.0287,  0.0056],\n",
      "          ...,\n",
      "          [-0.1657, -0.2171, -0.1999,  ..., -1.1075, -1.0733, -0.9877],\n",
      "          [-0.1486, -0.1657, -0.1828,  ..., -1.1247, -1.0219, -0.9534],\n",
      "          [-0.1486, -0.1486, -0.1486,  ..., -1.0904, -0.9877, -0.9192]],\n",
      "\n",
      "         [[-0.9853, -1.0028, -1.0378,  ..., -0.6352, -0.6001, -0.5826],\n",
      "          [-1.0378, -1.0903, -1.1078,  ..., -0.6527, -0.6527, -0.5826],\n",
      "          [-1.0553, -1.0728, -1.1078,  ..., -0.6352, -0.6176, -0.6001],\n",
      "          ...,\n",
      "          [-0.6001, -0.6176, -0.6352,  ...,  0.7479,  0.6954,  0.6078],\n",
      "          [-0.6001, -0.6001, -0.6176,  ...,  0.7479,  0.6429,  0.5553],\n",
      "          [-0.5826, -0.6001, -0.6001,  ...,  0.7129,  0.6078,  0.5203]],\n",
      "\n",
      "         [[-0.8981, -0.8981, -0.9504,  ..., -0.7761, -0.7413, -0.7238],\n",
      "          [-0.9678, -1.0201, -1.0376,  ..., -0.7936, -0.7761, -0.7238],\n",
      "          [-1.0027, -1.0550, -1.0898,  ..., -0.7238, -0.7064, -0.6890],\n",
      "          ...,\n",
      "          [-0.6018, -0.6367, -0.6715,  ...,  0.6182,  0.5485,  0.4439],\n",
      "          [-0.5670, -0.5670, -0.5844,  ...,  0.6182,  0.4614,  0.4091],\n",
      "          [-0.4973, -0.5321, -0.5321,  ...,  0.5834,  0.4439,  0.3742]]],\n",
      "\n",
      "\n",
      "        [[[-0.9534, -1.0048, -1.0904,  ...,  1.5810,  1.5810,  1.5810],\n",
      "          [-0.9534, -1.0048, -1.1418,  ...,  1.5810,  1.5982,  1.5810],\n",
      "          [-0.9705, -1.0390, -1.1418,  ...,  1.5810,  1.5982,  1.5810],\n",
      "          ...,\n",
      "          [-2.1179, -2.1179, -2.1179,  ..., -2.1179, -2.1179, -2.1179],\n",
      "          [-2.1179, -2.1179, -2.1179,  ..., -2.1179, -2.1179, -2.1179],\n",
      "          [-2.1179, -2.1179, -2.1179,  ..., -2.1179, -2.1179, -2.1179]],\n",
      "\n",
      "         [[-1.1078, -1.1954, -1.3004,  ...,  1.2381,  1.1856,  1.0980],\n",
      "          [-1.1078, -1.1954, -1.3004,  ...,  1.2381,  1.1856,  1.0980],\n",
      "          [-1.1253, -1.2129, -1.3004,  ...,  1.2381,  1.1856,  1.0980],\n",
      "          ...,\n",
      "          [-2.0357, -2.0357, -2.0357,  ..., -2.0357, -2.0357, -2.0357],\n",
      "          [-2.0357, -2.0357, -2.0357,  ..., -2.0357, -2.0357, -2.0357],\n",
      "          [-2.0357, -2.0357, -2.0357,  ..., -2.0357, -2.0357, -2.0357]],\n",
      "\n",
      "         [[-1.0376, -1.1247, -1.2119,  ...,  1.1411,  1.1062,  1.0539],\n",
      "          [-1.0376, -1.1247, -1.2293,  ...,  1.1411,  1.1062,  1.0539],\n",
      "          [-1.0550, -1.1421, -1.2293,  ...,  1.1411,  1.1062,  1.0539],\n",
      "          ...,\n",
      "          [-1.8044, -1.8044, -1.8044,  ..., -1.8044, -1.8044, -1.8044],\n",
      "          [-1.8044, -1.8044, -1.8044,  ..., -1.8044, -1.8044, -1.8044],\n",
      "          [-1.8044, -1.8044, -1.8044,  ..., -1.8044, -1.8044, -1.8044]]]]), [tensor([2, 3, 8, 0, 7, 7, 7, 7, 2, 8, 6, 6, 7, 4, 6, 9, 4, 4, 2, 5, 0, 3, 1, 8,\n",
      "        2, 5, 1, 3, 7, 7, 9, 8, 1, 8, 9, 8, 6, 2, 6, 2, 4, 3, 6, 9, 9, 6, 4, 2,\n",
      "        6, 4, 5, 2, 7, 8, 1, 6, 9, 5, 2, 7, 6, 5, 2, 3]), tensor([[5.4239e-02, 2.4308e-01, 4.0077e-01,  ..., 0.0000e+00, 0.0000e+00,\n",
      "         0.0000e+00],\n",
      "        [4.4324e-03, 5.3998e-02, 2.4200e-01,  ..., 0.0000e+00, 0.0000e+00,\n",
      "         0.0000e+00],\n",
      "        [5.0523e-15, 9.1347e-12, 6.0759e-09,  ..., 0.0000e+00, 0.0000e+00,\n",
      "         0.0000e+00],\n",
      "        ...,\n",
      "        [1.4867e-06, 1.3383e-04, 4.4318e-03,  ..., 0.0000e+00, 0.0000e+00,\n",
      "         0.0000e+00],\n",
      "        [5.4239e-02, 2.4308e-01, 4.0077e-01,  ..., 0.0000e+00, 0.0000e+00,\n",
      "         0.0000e+00],\n",
      "        [4.4324e-03, 5.3998e-02, 2.4200e-01,  ..., 0.0000e+00, 0.0000e+00,\n",
      "         0.0000e+00]], dtype=torch.float64)]]\n"
     ]
    }
   ],
   "source": [
    "for d in dl_train_balanced:\n",
    "    print(d)\n",
    "    break"
   ]
  },
  {
   "cell_type": "code",
   "execution_count": 5,
   "metadata": {},
   "outputs": [
    {
     "name": "stdout",
     "output_type": "stream",
     "text": [
      "tensor([2, 3, 8, 0, 7, 7, 7, 7, 2, 8, 6, 6, 7, 4, 6, 9, 4, 4, 2, 5, 0, 3, 1, 8,\n",
      "        2, 5, 1, 3, 7, 7, 9, 8, 1, 8, 9, 8, 6, 2, 6, 2, 4, 3, 6, 9, 9, 6, 4, 2,\n",
      "        6, 4, 5, 2, 7, 8, 1, 6, 9, 5, 2, 7, 6, 5, 2, 3])\n",
      "tensor([2., 3., 8., 1., 7., 7., 7., 7., 2., 8., 6., 6., 7., 4., 6., 9., 4., 4.,\n",
      "        2., 5., 1., 3., 1., 8., 2., 5., 1., 3., 7., 7., 9., 8., 1., 8., 9., 8.,\n",
      "        6., 2., 6., 2., 4., 3., 6., 9., 9., 6., 4., 2., 6., 4., 5., 2., 7., 8.,\n",
      "        1., 6., 9., 5., 2., 7., 6., 5., 2., 3.], dtype=torch.float64)\n",
      "tensor([2.0139, 3.0005, 8.0000, 0.5201, 7.0000, 7.0000, 7.0000, 7.0000, 2.0139,\n",
      "        8.0000, 6.0000, 6.0000, 7.0000, 4.0000, 6.0000, 9.0000, 4.0000, 4.0000,\n",
      "        2.0139, 5.0000, 0.5201, 3.0005, 1.1294, 8.0000, 2.0139, 5.0000, 1.1294,\n",
      "        3.0005, 7.0000, 7.0000, 9.0000, 8.0000, 1.1294, 8.0000, 9.0000, 8.0000,\n",
      "        6.0000, 2.0139, 6.0000, 2.0139, 4.0000, 3.0005, 6.0000, 9.0000, 9.0000,\n",
      "        6.0000, 4.0000, 2.0139, 6.0000, 4.0000, 5.0000, 2.0139, 7.0000, 8.0000,\n",
      "        1.1294, 6.0000, 9.0000, 5.0000, 2.0139, 7.0000, 6.0000, 5.0000, 2.0139,\n",
      "        3.0005], dtype=torch.float64)\n"
     ]
    }
   ],
   "source": [
    "print(d[1][0])\n",
    "t: torch.Tensor = d[1][1]\n",
    "# t.sum(dim=-1)\n",
    "print(torch.round(AgeConversion.EVAge(d[1][1])))\n",
    "print(AgeConversion.EVAge(d[1][1] / t.sum(dim=-1, keepdim=True).expand(-1, 81)))"
   ]
  },
  {
   "cell_type": "code",
   "execution_count": 6,
   "metadata": {},
   "outputs": [
    {
     "data": {
      "text/plain": [
       "torch.Size([64, 81])"
      ]
     },
     "execution_count": 6,
     "metadata": {},
     "output_type": "execute_result"
    }
   ],
   "source": [
    "t.shape"
   ]
  },
  {
   "cell_type": "code",
   "execution_count": 7,
   "metadata": {},
   "outputs": [
    {
     "data": {
      "text/plain": [
       "array([[1., 1., 1., ..., 1., 1., 1.],\n",
       "       [1., 1., 1., ..., 1., 1., 1.],\n",
       "       [1., 1., 1., ..., 1., 1., 1.],\n",
       "       ...,\n",
       "       [1., 1., 1., ..., 1., 1., 1.],\n",
       "       [1., 1., 1., ..., 1., 1., 1.],\n",
       "       [1., 1., 1., ..., 1., 1., 1.]])"
      ]
     },
     "execution_count": 7,
     "metadata": {},
     "output_type": "execute_result"
    }
   ],
   "source": [
    "np.tile(np.sum(t.numpy(), axis=-1, keepdims=True), (1, 81))"
   ]
  },
  {
   "cell_type": "code",
   "execution_count": 8,
   "metadata": {},
   "outputs": [],
   "source": [
    "import numpy as np\n",
    "def _to_kl_labels(y, n_classes):\n",
    "    std = 1.0\n",
    "    _y = np.arange(n_classes)\n",
    "    return 1/(std * np.sqrt(2*np.pi)) * np.exp(-np.square(_y-y) / (2*std**2))"
   ]
  },
  {
   "cell_type": "code",
   "execution_count": 9,
   "metadata": {},
   "outputs": [],
   "source": [
    "t = _to_kl_labels(1, 81)"
   ]
  },
  {
   "cell_type": "code",
   "execution_count": 10,
   "metadata": {},
   "outputs": [
    {
     "data": {
      "text/plain": [
       "array([2.41970725e-001, 3.98942280e-001, 2.41970725e-001, 5.39909665e-002,\n",
       "       4.43184841e-003, 1.33830226e-004, 1.48671951e-006, 6.07588285e-009,\n",
       "       9.13472041e-012, 5.05227108e-015, 1.02797736e-018, 7.69459863e-023,\n",
       "       2.11881925e-027, 2.14638374e-032, 7.99882776e-038, 1.09660656e-043,\n",
       "       5.53070955e-050, 1.02616307e-056, 7.00418213e-064, 1.75874954e-071,\n",
       "       1.62463604e-079, 5.52094836e-088, 6.90202942e-097, 3.17428155e-106,\n",
       "       5.37056037e-116, 3.34271444e-126, 7.65392974e-137, 6.44725997e-148,\n",
       "       1.99788926e-159, 2.27757748e-171, 9.55169454e-184, 1.47364613e-196,\n",
       "       8.36395161e-210, 1.74636626e-223, 1.34141967e-237, 3.79052640e-252,\n",
       "       3.94039628e-267, 1.50690472e-282, 2.12000655e-298, 1.09722105e-314,\n",
       "       0.00000000e+000, 0.00000000e+000, 0.00000000e+000, 0.00000000e+000,\n",
       "       0.00000000e+000, 0.00000000e+000, 0.00000000e+000, 0.00000000e+000,\n",
       "       0.00000000e+000, 0.00000000e+000, 0.00000000e+000, 0.00000000e+000,\n",
       "       0.00000000e+000, 0.00000000e+000, 0.00000000e+000, 0.00000000e+000,\n",
       "       0.00000000e+000, 0.00000000e+000, 0.00000000e+000, 0.00000000e+000,\n",
       "       0.00000000e+000, 0.00000000e+000, 0.00000000e+000, 0.00000000e+000,\n",
       "       0.00000000e+000, 0.00000000e+000, 0.00000000e+000, 0.00000000e+000,\n",
       "       0.00000000e+000, 0.00000000e+000, 0.00000000e+000, 0.00000000e+000,\n",
       "       0.00000000e+000, 0.00000000e+000, 0.00000000e+000, 0.00000000e+000,\n",
       "       0.00000000e+000, 0.00000000e+000, 0.00000000e+000, 0.00000000e+000,\n",
       "       0.00000000e+000])"
      ]
     },
     "execution_count": 10,
     "metadata": {},
     "output_type": "execute_result"
    }
   ],
   "source": [
    "t"
   ]
  },
  {
   "cell_type": "code",
   "execution_count": 11,
   "metadata": {},
   "outputs": [
    {
     "data": {
      "text/plain": [
       "tensor([1.1294], dtype=torch.float64)"
      ]
     },
     "execution_count": 11,
     "metadata": {},
     "output_type": "execute_result"
    }
   ],
   "source": [
    "AgeConversion.EVAge(torch.unsqueeze(torch.tensor(_to_kl_labels(1, 81)), dim=0) / torch.unsqueeze(torch.tensor(_to_kl_labels(1, 81)), dim=0).sum())"
   ]
  },
  {
   "cell_type": "code",
   "execution_count": 12,
   "metadata": {},
   "outputs": [
    {
     "data": {
      "text/plain": [
       "tensor([0.3638], dtype=torch.float64)"
      ]
     },
     "execution_count": 12,
     "metadata": {},
     "output_type": "execute_result"
    }
   ],
   "source": [
    "AgeConversion.EVAge(torch.unsqueeze(torch.tensor(_to_kl_labels(0, 81)), dim=0))"
   ]
  },
  {
   "cell_type": "code",
   "execution_count": 8,
   "metadata": {},
   "outputs": [
    {
     "name": "stderr",
     "output_type": "stream",
     "text": [
      "c:\\Users\\Gio\\.conda\\envs\\AV_project\\lib\\site-packages\\torchvision\\models\\_utils.py:135: UserWarning: Using 'weights' as positional parameter(s) is deprecated since 0.13 and may be removed in the future. Please use keyword parameter(s) instead.\n",
      "  warnings.warn(\n"
     ]
    },
    {
     "data": {
      "text/plain": [
       "<All keys matched successfully>"
      ]
     },
     "execution_count": 8,
     "metadata": {},
     "output_type": "execute_result"
    }
   ],
   "source": [
    "from ResNetFilmed.resnet import ResNetFiLMed, BackBone, ResNetNotFiLMed, DoNothingLayer\n",
    "from torchvision.models import resnet18, ResNet18_Weights, efficientnet_b0, EfficientNet_B0_Weights\n",
    "import torch\n",
    "from torch import optim\n",
    "import torch.nn.functional as F\n",
    "from torch import nn\n",
    "\n",
    "####################################################\n",
    "EPOCHS = 24\n",
    "####################################################\n",
    "\n",
    "backbone = resnet18(ResNet18_Weights.IMAGENET1K_V1)\n",
    "backbone.fc = DoNothingLayer()\n",
    "backbone.train()\n",
    "backbone.requires_grad_(True)\n",
    "backbone.to(\"cuda\")\n",
    "model_age = ResNetNotFiLMed(backbone, 81)\n",
    "model_age.load_state_dict(torch.load(\"./model_age_classification_simple.pt\", map_location=\"cuda:0\"))"
   ]
  },
  {
   "cell_type": "code",
   "execution_count": 9,
   "metadata": {},
   "outputs": [
    {
     "name": "stderr",
     "output_type": "stream",
     "text": [
      "  0%|          | 0/4493 [00:00<?, ? batch/s]"
     ]
    }
   ],
   "source": [
    "def forward_function(x):\n",
    "    out = model_age(x)\n",
    "    out = F.softmax(out, dim=-1)\n",
    "    return out\n",
    "\n",
    "print(validator.validate_ext3(forward_function))"
   ]
  },
  {
   "cell_type": "code",
   "execution_count": 5,
   "metadata": {},
   "outputs": [],
   "source": [
    "import numpy as np\n",
    "def get_centers(outs, ys, old):\n",
    "    centers_for_age = {x: [] for x in range(81)}\n",
    "\n",
    "    for out, y in zip(outs, ys):\n",
    "        for _out, _y in zip(out, y):\n",
    "            centers_for_age[int(_y)].append(_out.detach().cpu().numpy())\n",
    "\n",
    "    for i in centers_for_age:\n",
    "        if len(centers_for_age[i]) > 0:\n",
    "            centers_for_age[i] = torch.tensor(np.array(centers_for_age[i])).mean(dim=0).to(\"cuda\")\n",
    "        else:\n",
    "            centers_for_age[i] = old[i]\n",
    "    return centers_for_age\n",
    "\n",
    "def update_centers(old, new, alpha=0.5):\n",
    "    for i in new:\n",
    "        new[i] = new[i] - alpha*(new[i] - old[i])\n",
    "    return new\n",
    "\n",
    "def get_centers_loss(out, y, centers_for_age):\n",
    "    loss = None\n",
    "    for _out, _y in zip(out, y):\n",
    "        if loss is None:\n",
    "            loss = torch.mean(torch.square(_out - centers_for_age[int(_y)]))\n",
    "        else:    \n",
    "            loss += torch.mean(torch.square(_out - centers_for_age[int(_y)]))\n",
    "    return loss.to(\"cuda\")"
   ]
  },
  {
   "cell_type": "code",
   "execution_count": 6,
   "metadata": {},
   "outputs": [
    {
     "name": "stderr",
     "output_type": "stream",
     "text": [
      "233 batch [01:47,  2.20 batch/s, loss_age=2.5409758, loss_age_bal=2.5297728, loss_age_kl=1.2492404040357374, loss_age_kl_bal=1.21976906498012, loss_repr=0.61008906, loss_repr_bal=0.5650206, total_loss=6.465754131539128]   "
     ]
    }
   ],
   "source": [
    "centers_for_age = {x: torch.zeros(size=(512,), device=\"cuda\") for x in range(81)}\n",
    "best_val_aar = val_aar\n",
    "\n",
    "for e in range(EPOCHS):\n",
    "    with tqdm(zip(dl_train, dl_train_balanced), unit=\" batch\") as tepoch:\n",
    "        for batch, batch_balanced in tepoch:\n",
    "            opt.zero_grad()\n",
    "            x, y = batch\n",
    "            x_bal, y_bal = batch_balanced\n",
    "\n",
    "            x = x.to(\"cuda\")\n",
    "            y_age: torch.Tensor = y[0].to(\"cuda\")\n",
    "            y_age_kl: torch.Tensor = y[1].to(\"cuda\")\n",
    "\n",
    "            x_bal = x_bal.to(\"cuda\")\n",
    "            y_age_bal: torch.Tensor = y_bal[0].to(\"cuda\")\n",
    "            y_age_kl_bal: torch.Tensor = y_bal[1].to(\"cuda\")\n",
    "\n",
    "            out_rep, out_age = model_age.forward_with_repr(x)\n",
    "            loss_age_kl: torch.Tensor = kl(F.log_softmax(out_age, dim=-1), y_age_kl)\n",
    "            out_age = F.softmax(out_age, dim=-1)\n",
    "            out = AgeConversion.EVAge(out_age).to(\"cuda\")\n",
    "            loss_age = torch.mean(torch.abs(y_age - out))\n",
    "            loss = loss_age_kl + loss_age\n",
    "\n",
    "            out_rep_bal, out_age_bal = model_age.forward_with_repr(x_bal)\n",
    "            loss_age_kl_bal: torch.Tensor = kl(F.log_softmax(out_age_bal, dim=-1), y_age_kl_bal)\n",
    "            out_age_bal = F.softmax(out_age_bal, dim=-1)\n",
    "            out_bal = AgeConversion.EVAge(out_age_bal).to(\"cuda\")\n",
    "            loss_age_bal = torch.mean(torch.abs(y_age_bal - out_bal))\n",
    "            loss_bal = loss_age_kl_bal + torch.square(loss_age_bal - 2.0)\n",
    "\n",
    "            loss_repr = get_centers_loss(out_rep, y_age, centers_for_age)\n",
    "            loss_repr_bal = get_centers_loss(out_rep_bal, y_age_bal, centers_for_age)\n",
    "\n",
    "            total_loss = loss + loss_bal + loss_repr + loss_repr_bal\n",
    "\n",
    "            total_loss.backward()\n",
    "            opt.step()\n",
    "            scheduler.step()\n",
    "\n",
    "            centers_for_age = update_centers(centers_for_age, get_centers((out_rep, out_rep_bal), (y_age, y_age_bal), centers_for_age), alpha=0.5)\n",
    "\n",
    "            tepoch.set_postfix(loss_age_kl=loss_age_kl.detach().cpu().numpy(), loss_age=loss_age.detach().cpu().numpy(),\n",
    "                                loss_age_kl_bal=loss_age_kl_bal.detach().cpu().numpy(), loss_age_bal=loss_age_bal.detach().cpu().numpy(),\n",
    "                                loss_repr=loss_repr.detach().cpu().numpy(), loss_repr_bal=loss_repr_bal.detach().cpu().numpy(),\n",
    "                                total_loss=total_loss.detach().cpu().numpy())\n",
    "\n",
    "    def forward_function(x):\n",
    "        out = model_age(x)\n",
    "        out = F.softmax(out, dim=-1)\n",
    "        return out\n",
    " \n",
    "    ae, mae_, val_aar, val_aar_old = validator.validate_ext2(forward_function)\n",
    "    print(ae, mae_, val_aar, val_aar_old)\n",
    "\n",
    "    if best_val_aar < val_aar:\n",
    "        best_val_aar = val_aar\n",
    "        torch.save(model_age.state_dict(), \"./model_age_feature_simple_no_loss.pt\")\n",
    "        print(\"Saved model\")"
   ]
  }
 ],
 "metadata": {
  "kernelspec": {
   "display_name": "AV_project",
   "language": "python",
   "name": "python3"
  },
  "language_info": {
   "codemirror_mode": {
    "name": "ipython",
    "version": 3
   },
   "file_extension": ".py",
   "mimetype": "text/x-python",
   "name": "python",
   "nbconvert_exporter": "python",
   "pygments_lexer": "ipython3",
   "version": "3.8.10"
  },
  "orig_nbformat": 4,
  "vscode": {
   "interpreter": {
    "hash": "cb944c2b40f40877ef78d83ae6cee61e5f12ef7b90668598de820bc310ff39a2"
   }
  }
 },
 "nbformat": 4,
 "nbformat_minor": 2
}
