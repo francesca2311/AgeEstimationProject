{
 "cells": [
  {
   "cell_type": "code",
   "execution_count": 1,
   "metadata": {},
   "outputs": [
    {
     "name": "stderr",
     "output_type": "stream",
     "text": [
      "c:\\Users\\Gio\\.conda\\envs\\AV_project\\lib\\site-packages\\tqdm\\auto.py:22: TqdmWarning: IProgress not found. Please update jupyter and ipywidgets. See https://ipywidgets.readthedocs.io/en/stable/user_install.html\n",
      "  from .autonotebook import tqdm as notebook_tqdm\n"
     ]
    }
   ],
   "source": [
    "from typing import List\n",
    "from Dataset.CustomDataset import AgeGroupAndAgeDataset, StandardDataset\n",
    "from Dataset.CustomDataLoaders import CustomDataLoader\n",
    "from sklearn.model_selection import train_test_split\n",
    "from tqdm import tqdm\n",
    "from Utils import AAR, CSVUtils, AgeConversion\n",
    "from Utils.Validator import Validator"
   ]
  },
  {
   "cell_type": "code",
   "execution_count": 2,
   "metadata": {},
   "outputs": [],
   "source": [
    "#Caricamento del dataframe\n",
    "df = CSVUtils.get_df_from_csv(\"./training_caip_contest.csv\", \"./training_caip_contest/\")\n",
    "\n",
    "#Suddivisione del dataframe in 3 age groups\n",
    "_, label_map = CSVUtils.get_df_with_age_subdivision(df, 3)"
   ]
  },
  {
   "cell_type": "code",
   "execution_count": 3,
   "metadata": {},
   "outputs": [],
   "source": [
    "df_train, df_val = train_test_split(df, test_size=0.25, random_state=42)\n",
    "df_train = df_train.reset_index(drop=True)\n",
    "df_val = df_val.reset_index(drop=True)\n",
    "\n",
    "from PIL import Image\n",
    "import numpy as np\n",
    "def transform_image(image: Image):\n",
    "    _image = (np.array(image.resize((224, 224))) / 255.0).transpose(2, 0, 1).astype(np.float32)\n",
    "    # From: https://github.com/pytorch/examples/blob/main/imagenet/main.py\n",
    "    _image[0] = (_image[0] - 0.485)/0.229\n",
    "    _image[1] = (_image[1] - 0.456)/0.224\n",
    "    _image[2] = (_image[2] - 0.406)/0.225\n",
    "    return _image\n",
    "\n",
    "#Implementazione di un Dataset utilizzando \"CustomDataset\" per l'architettura con Film\n",
    "cd_train = AgeGroupAndAgeDataset(df_train, path_col=\"path\", label_col=\"age\", label_function=\"CAE\", \n",
    "                                 label_map=label_map, label_map_n_classes=3, transform_func=transform_image)\n",
    "\n",
    "cd_val = StandardDataset(df_val, path_col=\"path\", label_col=\"age\", label_function=\"CAE\", transform_func=transform_image)\n",
    "cd_val.set_n_classes(81)\n",
    "cd_val.set_starting_class(1)\n",
    "\n",
    "dm_train = CustomDataLoader(cd_train)\n",
    "dl_train = dm_train.get_unbalanced_dataloader(batch_size=128, shuffle=True, drop_last=True)"
   ]
  },
  {
   "cell_type": "code",
   "execution_count": 4,
   "metadata": {},
   "outputs": [],
   "source": [
    "from ResNetFilmed.resnet import ResNetFiLMed, BackBone\n",
    "import torch\n",
    "from torch import optim\n",
    "import torch.nn.functional as F\n",
    "from torch import nn\n",
    "\n",
    "####################################################\n",
    "EPOCHS = 10\n",
    "####################################################\n",
    "\n",
    "backbone = BackBone(pretrained=True)\n",
    "model_age_group = ResNetFiLMed(backbone, 3)\n",
    "model_age = ResNetFiLMed(backbone, 81)\n",
    "# opt = optim.Adam(set([*model_age_group.parameters(), *model_age.parameters()]), lr=1e-4)\n",
    "opt = optim.SGD(set([*model_age_group.parameters(), *model_age.parameters()]), lr=1e-1, weight_decay=1e-4)\n",
    "scheduler = optim.lr_scheduler.OneCycleLR(opt, 1e-2, steps_per_epoch=len(dl_train), epochs=EPOCHS)\n",
    "cross_entropy = nn.CrossEntropyLoss()"
   ]
  },
  {
   "cell_type": "code",
   "execution_count": 5,
   "metadata": {},
   "outputs": [],
   "source": [
    "validator = Validator(cd_val, AgeConversion.EVAge, 32)"
   ]
  },
  {
   "cell_type": "code",
   "execution_count": 6,
   "metadata": {},
   "outputs": [
    {
     "name": "stderr",
     "output_type": "stream",
     "text": [
      "100%|██████████| 3369/3369 [22:38<00:00,  2.48 batch/s, loss_age=6.25, loss_age_group=0.7837388041079976]\n",
      "100%|██████████| 4493/4493 [07:11<00:00, 10.40 batch/s]\n"
     ]
    },
    {
     "name": "stdout",
     "output_type": "stream",
     "text": [
      "tensor(0., dtype=torch.float64) tensor(0.1802, dtype=torch.float64)\n",
      "Saved model\n"
     ]
    },
    {
     "name": "stderr",
     "output_type": "stream",
     "text": [
      "100%|██████████| 3369/3369 [22:42<00:00,  2.47 batch/s, loss_age=5.81, loss_age_group=0.6936754291818943]\n",
      "100%|██████████| 4493/4493 [07:38<00:00,  9.79 batch/s]\n"
     ]
    },
    {
     "name": "stdout",
     "output_type": "stream",
     "text": [
      "tensor(0., dtype=torch.float64) tensor(0.9474, dtype=torch.float64)\n"
     ]
    },
    {
     "name": "stderr",
     "output_type": "stream",
     "text": [
      "100%|██████████| 3369/3369 [22:17<00:00,  2.52 batch/s, loss_age=5.49, loss_age_group=0.798656390297765]  \n",
      "100%|██████████| 4493/4493 [07:14<00:00, 10.33 batch/s]\n"
     ]
    },
    {
     "name": "stdout",
     "output_type": "stream",
     "text": [
      "tensor(0., dtype=torch.float64) tensor(1.1337, dtype=torch.float64)\n"
     ]
    },
    {
     "name": "stderr",
     "output_type": "stream",
     "text": [
      "100%|██████████| 3369/3369 [22:14<00:00,  2.52 batch/s, loss_age=5.36, loss_age_group=0.7224537784142626] \n",
      "100%|██████████| 4493/4493 [07:06<00:00, 10.53 batch/s]\n"
     ]
    },
    {
     "name": "stdout",
     "output_type": "stream",
     "text": [
      "tensor(0., dtype=torch.float64) tensor(1.3614, dtype=torch.float64)\n"
     ]
    },
    {
     "name": "stderr",
     "output_type": "stream",
     "text": [
      "100%|██████████| 3369/3369 [21:51<00:00,  2.57 batch/s, loss_age=5.55, loss_age_group=0.6098237217540827] \n",
      "100%|██████████| 4493/4493 [06:55<00:00, 10.82 batch/s]\n"
     ]
    },
    {
     "name": "stdout",
     "output_type": "stream",
     "text": [
      "tensor(0., dtype=torch.float64) tensor(1.3778, dtype=torch.float64)\n"
     ]
    },
    {
     "name": "stderr",
     "output_type": "stream",
     "text": [
      "100%|██████████| 3369/3369 [21:59<00:00,  2.55 batch/s, loss_age=4.87, loss_age_group=0.5902453234220957] \n",
      "100%|██████████| 4493/4493 [06:59<00:00, 10.71 batch/s]\n"
     ]
    },
    {
     "name": "stdout",
     "output_type": "stream",
     "text": [
      "tensor(0., dtype=torch.float64) tensor(1.5133, dtype=torch.float64)\n"
     ]
    },
    {
     "name": "stderr",
     "output_type": "stream",
     "text": [
      "100%|██████████| 3369/3369 [21:57<00:00,  2.56 batch/s, loss_age=5.14, loss_age_group=0.6454454584145424] \n",
      "100%|██████████| 4493/4493 [07:25<00:00, 10.09 batch/s]\n"
     ]
    },
    {
     "name": "stdout",
     "output_type": "stream",
     "text": [
      "tensor(0., dtype=torch.float64) tensor(1.6733, dtype=torch.float64)\n"
     ]
    },
    {
     "name": "stderr",
     "output_type": "stream",
     "text": [
      "100%|██████████| 3369/3369 [21:54<00:00,  2.56 batch/s, loss_age=4.7, loss_age_group=0.551346996511711]   \n",
      "100%|██████████| 4493/4493 [07:02<00:00, 10.64 batch/s]\n"
     ]
    },
    {
     "name": "stdout",
     "output_type": "stream",
     "text": [
      "tensor(0., dtype=torch.float64) tensor(1.7119, dtype=torch.float64)\n"
     ]
    },
    {
     "name": "stderr",
     "output_type": "stream",
     "text": [
      "100%|██████████| 3369/3369 [23:16<00:00,  2.41 batch/s, loss_age=4.59, loss_age_group=0.6067066646346575] \n",
      "100%|██████████| 4493/4493 [07:06<00:00, 10.53 batch/s]\n"
     ]
    },
    {
     "name": "stdout",
     "output_type": "stream",
     "text": [
      "tensor(0., dtype=torch.float64) tensor(1.8123, dtype=torch.float64)\n"
     ]
    },
    {
     "name": "stderr",
     "output_type": "stream",
     "text": [
      "100%|██████████| 3369/3369 [24:21<00:00,  2.30 batch/s, loss_age=5, loss_age_group=0.5735915286222735]    \n",
      "100%|██████████| 4493/4493 [08:59<00:00,  8.33 batch/s]\n"
     ]
    },
    {
     "name": "stdout",
     "output_type": "stream",
     "text": [
      "tensor(0., dtype=torch.float64) tensor(1.8427, dtype=torch.float64)\n"
     ]
    }
   ],
   "source": [
    "age_weight = 5\n",
    "\n",
    "best_val_aar = -1\n",
    "knowledge_age_group = torch.tensor([[0.33, 0.33, 0.33]]*128, requires_grad=False).float().to(\"cuda\")\n",
    "for e in range(EPOCHS):\n",
    "    with tqdm(dl_train, unit=\" batch\") as tepoch:\n",
    "        for batch in tepoch:\n",
    "            opt.zero_grad()\n",
    "            x, y = batch\n",
    "            x = x.to(\"cuda\")\n",
    "            y_age_group = y[0].to(\"cuda\")\n",
    "            y_age = y[1].to(\"cuda\")\n",
    "            \n",
    "            knowledge = model_age_group(x, knowledge_age_group)\n",
    "            loss_age_group: torch.Tensor = cross_entropy(knowledge, y_age_group)\n",
    "\n",
    "            knowledge = F.softmax(knowledge, dim=-1)\n",
    "            out = model_age(x, knowledge)\n",
    "            out = F.softmax(out, dim=-1)\n",
    "            out = AgeConversion.EVAge(out)\n",
    "            y_age = AgeConversion.EVAge(y_age)\n",
    "            loss_age: torch.Tensor = torch.mean(torch.abs(out - y_age)) / age_weight\n",
    "            \n",
    "            loss_age_group.backward(retain_graph=True)\n",
    "            loss_age.backward()\n",
    "            opt.step()\n",
    "            scheduler.step()\n",
    "\n",
    "            tepoch.set_postfix(loss_age_group=loss_age_group.detach().cpu().numpy(), loss_age=loss_age.detach().cpu().numpy()*age_weight)\n",
    "\n",
    "    def forward_function(x):\n",
    "        knowledge_age_group = torch.tensor([[0.33, 0.33, 0.33]]*len(x), requires_grad=False).float().to(\"cuda\")\n",
    "        knowledge = model_age_group(x, knowledge_age_group)\n",
    "        knowledge = F.softmax(knowledge, dim=-1)\n",
    "        out = model_age(x, knowledge)\n",
    "        out = F.softmax(out, dim=-1)\n",
    "        return out\n",
    "\n",
    "    val_aar, val_aar_old = validator.validate(forward_function)\n",
    "    print(val_aar, val_aar_old)\n",
    "\n",
    "    if val_aar > best_val_aar:\n",
    "        best_val_aar = val_aar\n",
    "        torch.save(model_age_group.state_dict(), \"./model_age_group.pt\")\n",
    "        torch.save(model_age.state_dict(), \"./model_age.pt\")\n",
    "        print(\"Saved model\")"
   ]
  },
  {
   "cell_type": "code",
   "execution_count": 9,
   "metadata": {},
   "outputs": [],
   "source": [
    "# model_age.load_state_dict(torch.load(\"./with_loss/model_age.pt\"))\n",
    "# model_age_group.load_state_dict(torch.load(\"./with_loss/model_age_group.pt\"))\n",
    "torch.save(model_age_group.state_dict(), \"./model_age_group_unbalanced.pt\")\n",
    "torch.save(model_age.state_dict(), \"./model_age_unbalanced.pt\")"
   ]
  }
 ],
 "metadata": {
  "kernelspec": {
   "display_name": "AV_project",
   "language": "python",
   "name": "python3"
  },
  "language_info": {
   "codemirror_mode": {
    "name": "ipython",
    "version": 3
   },
   "file_extension": ".py",
   "mimetype": "text/x-python",
   "name": "python",
   "nbconvert_exporter": "python",
   "pygments_lexer": "ipython3",
   "version": "3.8.10"
  },
  "orig_nbformat": 4,
  "vscode": {
   "interpreter": {
    "hash": "cb944c2b40f40877ef78d83ae6cee61e5f12ef7b90668598de820bc310ff39a2"
   }
  }
 },
 "nbformat": 4,
 "nbformat_minor": 2
}
