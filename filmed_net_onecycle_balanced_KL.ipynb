{
 "cells": [
  {
   "cell_type": "code",
   "execution_count": 1,
   "metadata": {},
   "outputs": [
    {
     "name": "stderr",
     "output_type": "stream",
     "text": [
      "c:\\Users\\Gio\\.conda\\envs\\AV_project\\lib\\site-packages\\tqdm\\auto.py:22: TqdmWarning: IProgress not found. Please update jupyter and ipywidgets. See https://ipywidgets.readthedocs.io/en/stable/user_install.html\n",
      "  from .autonotebook import tqdm as notebook_tqdm\n"
     ]
    }
   ],
   "source": [
    "from typing import List\n",
    "from Dataset.CustomDataset import AgeGroupAndAgeDataset, StandardDataset, AgeGroupAndAgeDatasetKL\n",
    "from Dataset.CustomDataLoaders import CustomDataLoader\n",
    "from sklearn.model_selection import train_test_split\n",
    "from tqdm import tqdm\n",
    "from Utils import AAR, CSVUtils, AgeConversion\n",
    "from Utils.Validator import Validator"
   ]
  },
  {
   "cell_type": "code",
   "execution_count": 2,
   "metadata": {},
   "outputs": [],
   "source": [
    "#Caricamento del dataframe\n",
    "df = CSVUtils.get_df_from_csv(\"./training_caip_contest.csv\", \"./training_caip_contest/\")\n",
    "\n",
    "#Suddivisione del dataframe in 3 age groups\n",
    "_, label_map = CSVUtils.get_df_with_age_subdivision(df, 3)"
   ]
  },
  {
   "cell_type": "code",
   "execution_count": 3,
   "metadata": {},
   "outputs": [],
   "source": [
    "df_train, df_val = train_test_split(df, test_size=0.25, random_state=42)\n",
    "df_train = df_train.reset_index(drop=True)\n",
    "df_val = df_val.reset_index(drop=True)\n",
    "\n",
    "# def transform_image(image: Image):\n",
    "#     _image = (np.array(image.resize((224, 224))) / 255.0).transpose(2, 0, 1).astype(np.float32)\n",
    "#     # From: https://github.com/pytorch/examples/blob/main/imagenet/main.py\n",
    "#     _image[0] = (_image[0] - 0.485)/0.229\n",
    "#     _image[1] = (_image[1] - 0.456)/0.224\n",
    "#     _image[2] = (_image[2] - 0.406)/0.225\n",
    "#     return _image\n",
    "\n",
    "from torchvision import transforms\n",
    "import torch\n",
    "\n",
    "transform_func = transforms.Compose([\n",
    "    transforms.Resize(224),\n",
    "    transforms.PILToTensor(),\n",
    "    transforms.ConvertImageDtype(torch.float),\n",
    "    transforms.Normalize(\n",
    "        mean=[0.485, 0.456, 0.406],\n",
    "        std=[0.229, 0.224, 0.225]\n",
    "    ),\n",
    "    transforms.RandomHorizontalFlip(),\n",
    "    transforms.RandomRotation(15),\n",
    "    transforms.ColorJitter(0.1, 0.1, 0.1, 0.1),\n",
    "    transforms.RandomGrayscale(),\n",
    "])\n",
    "\n",
    "transform_func_val = transforms.Compose([\n",
    "    transforms.Resize(224),\n",
    "    transforms.PILToTensor(),\n",
    "    transforms.ConvertImageDtype(torch.float),\n",
    "    transforms.Normalize(\n",
    "        mean=[0.485, 0.456, 0.406],\n",
    "        std=[0.229, 0.224, 0.225]\n",
    "    ),\n",
    "])\n",
    "\n",
    "#Implementazione di un Dataset utilizzando \"CustomDataset\" per l'architettura con Film\n",
    "label_map = {x: (0 if x < 21 else (1 if x < 61 else 2)) for x in range(1, 82)}\n",
    "cd_train = AgeGroupAndAgeDatasetKL(df_train, path_col=\"path\", label_col=\"age\", label_function=\"CAE\", \n",
    "                                   label_map=label_map, label_map_n_classes=3, transform_func=transform_func)\n",
    "\n",
    "cd_val = StandardDataset(df_val, path_col=\"path\", label_col=\"age\", label_function=\"CAE\", transform_func=transform_func_val)\n",
    "cd_val.set_n_classes(81)\n",
    "cd_val.set_starting_class(1)\n",
    "\n",
    "dm_train = CustomDataLoader(cd_train)\n",
    "dl_train = dm_train.get_balanced_dataloader([(0, 21), (21, 61), (61, 90)], samples_per_class=32, num_workers=6, prefetch_factor=4)"
   ]
  },
  {
   "cell_type": "code",
   "execution_count": 4,
   "metadata": {},
   "outputs": [],
   "source": [
    "from ResNetFilmed.resnet import ResNetFiLMed, BackBone\n",
    "import torch\n",
    "from torch import optim\n",
    "import torch.nn.functional as F\n",
    "from torch import nn\n",
    "\n",
    "####################################################\n",
    "EPOCHS = 24\n",
    "####################################################\n",
    "\n",
    "backbone = BackBone(pretrained=True, freeze=False)\n",
    "backbone.train()\n",
    "model_age_group = ResNetFiLMed(backbone, 3)\n",
    "model_age_group.train()\n",
    "model_age = ResNetFiLMed(backbone, 81)\n",
    "model_age.train()\n",
    "# opt = optim.Adam(set([*model_age_group.parameters(), *model_age.parameters()]), lr=1e-4)\n",
    "opt = optim.SGD(set([*model_age_group.parameters(), *model_age.parameters()]), lr=1e-1, weight_decay=1e-4)\n",
    "scheduler = optim.lr_scheduler.OneCycleLR(opt, 1e-1, steps_per_epoch=len(dl_train), epochs=EPOCHS)\n",
    "cross_entropy = nn.CrossEntropyLoss()\n",
    "kl = nn.KLDivLoss(reduction=\"batchmean\")"
   ]
  },
  {
   "cell_type": "code",
   "execution_count": 5,
   "metadata": {},
   "outputs": [],
   "source": [
    "validator = Validator(cd_val, AgeConversion.EVAge, 32, num_workers=6, prefetch_factor=4)"
   ]
  },
  {
   "cell_type": "code",
   "execution_count": 8,
   "metadata": {},
   "outputs": [
    {
     "name": "stderr",
     "output_type": "stream",
     "text": [
      "100%|██████████| 4492/4492 [31:52<00:00,  2.35 batch/s, loss_age=2.446696018179258, loss_age_group=0.12245495556265003, loss_age_kl=0.9951325208108668] \n",
      "100%|██████████| 4493/4493 [03:42<00:00, 20.21 batch/s]\n"
     ]
    },
    {
     "name": "stdout",
     "output_type": "stream",
     "text": [
      "tensor(3.2640, dtype=torch.float64) tensor(2.5672, dtype=torch.float64)\n"
     ]
    },
    {
     "name": "stderr",
     "output_type": "stream",
     "text": [
      "100%|██████████| 4492/4492 [30:43<00:00,  2.44 batch/s, loss_age=2.8064517279465995, loss_age_group=0.24131330638350806, loss_age_kl=1.1238752087996708]\n",
      "100%|██████████| 4493/4493 [03:33<00:00, 21.00 batch/s]\n"
     ]
    },
    {
     "name": "stdout",
     "output_type": "stream",
     "text": [
      "tensor(2.7192, dtype=torch.float64) tensor(1.7468, dtype=torch.float64)\n"
     ]
    },
    {
     "name": "stderr",
     "output_type": "stream",
     "text": [
      "100%|██████████| 4492/4492 [30:58<00:00,  2.42 batch/s, loss_age=2.6001148521900177, loss_age_group=0.29698315509979994, loss_age_kl=1.136237512156776] \n",
      "100%|██████████| 4493/4493 [03:36<00:00, 20.72 batch/s]\n"
     ]
    },
    {
     "name": "stdout",
     "output_type": "stream",
     "text": [
      "tensor(2.4442, dtype=torch.float64) tensor(0.7221, dtype=torch.float64)\n"
     ]
    },
    {
     "name": "stderr",
     "output_type": "stream",
     "text": [
      "100%|██████████| 4492/4492 [31:09<00:00,  2.40 batch/s, loss_age=2.3043338606754937, loss_age_group=0.19759181746834048, loss_age_kl=1.0087023914906674]\n",
      "100%|██████████| 4493/4493 [04:00<00:00, 18.69 batch/s]\n"
     ]
    },
    {
     "name": "stdout",
     "output_type": "stream",
     "text": [
      "tensor(2.4276, dtype=torch.float64) tensor(0.6757, dtype=torch.float64)\n"
     ]
    },
    {
     "name": "stderr",
     "output_type": "stream",
     "text": [
      "100%|██████████| 4492/4492 [31:35<00:00,  2.37 batch/s, loss_age=3.074979921181997, loss_age_group=0.24176755083396034, loss_age_kl=1.182977161630022]  \n",
      "100%|██████████| 4493/4493 [03:36<00:00, 20.78 batch/s]\n"
     ]
    },
    {
     "name": "stdout",
     "output_type": "stream",
     "text": [
      "tensor(2.4307, dtype=torch.float64) tensor(0.6407, dtype=torch.float64)\n"
     ]
    },
    {
     "name": "stderr",
     "output_type": "stream",
     "text": [
      "100%|██████████| 4492/4492 [30:37<00:00,  2.44 batch/s, loss_age=2.6053051402171454, loss_age_group=0.12518098597857374, loss_age_kl=1.1534605319715772]\n",
      "100%|██████████| 4493/4493 [03:38<00:00, 20.60 batch/s]\n"
     ]
    },
    {
     "name": "stdout",
     "output_type": "stream",
     "text": [
      "tensor(2.4401, dtype=torch.float64) tensor(0.6055, dtype=torch.float64)\n"
     ]
    },
    {
     "name": "stderr",
     "output_type": "stream",
     "text": [
      "100%|██████████| 4492/4492 [30:58<00:00,  2.42 batch/s, loss_age=3.5159834225972495, loss_age_group=0.3046848288052691, loss_age_kl=1.2730481522417114] \n",
      "100%|██████████| 4493/4493 [03:34<00:00, 20.97 batch/s]\n"
     ]
    },
    {
     "name": "stdout",
     "output_type": "stream",
     "text": [
      "tensor(2.6552, dtype=torch.float64) tensor(1.3077, dtype=torch.float64)\n"
     ]
    },
    {
     "name": "stderr",
     "output_type": "stream",
     "text": [
      "100%|██████████| 4492/4492 [32:39<00:00,  2.29 batch/s, loss_age=2.6938418547312417, loss_age_group=0.25581452984955294, loss_age_kl=1.1427300954041626]\n",
      "100%|██████████| 4493/4493 [04:04<00:00, 18.36 batch/s]\n"
     ]
    },
    {
     "name": "stdout",
     "output_type": "stream",
     "text": [
      "tensor(2.5457, dtype=torch.float64) tensor(0.6783, dtype=torch.float64)\n"
     ]
    },
    {
     "name": "stderr",
     "output_type": "stream",
     "text": [
      "100%|██████████| 4492/4492 [30:52<00:00,  2.42 batch/s, loss_age=2.7091101557016373, loss_age_group=0.22976940975557625, loss_age_kl=1.1499669217188953]\n",
      "100%|██████████| 4493/4493 [04:27<00:00, 16.82 batch/s]\n"
     ]
    },
    {
     "name": "stdout",
     "output_type": "stream",
     "text": [
      "tensor(2.5529, dtype=torch.float64) tensor(1.0482, dtype=torch.float64)\n"
     ]
    },
    {
     "name": "stderr",
     "output_type": "stream",
     "text": [
      "100%|██████████| 4492/4492 [29:56<00:00,  2.50 batch/s, loss_age=2.620131184657415, loss_age_group=0.26557869709739634, loss_age_kl=1.15048868778176]   \n",
      "100%|██████████| 4493/4493 [04:34<00:00, 16.39 batch/s]\n"
     ]
    },
    {
     "name": "stdout",
     "output_type": "stream",
     "text": [
      "tensor(2.5920, dtype=torch.float64) tensor(1.0583, dtype=torch.float64)\n"
     ]
    },
    {
     "name": "stderr",
     "output_type": "stream",
     "text": [
      "100%|██████████| 4492/4492 [30:01<00:00,  2.49 batch/s, loss_age=2.585444082816442, loss_age_group=0.2264644109543307, loss_age_kl=1.161705120593879]   \n",
      "100%|██████████| 4493/4493 [04:34<00:00, 16.35 batch/s]\n"
     ]
    },
    {
     "name": "stdout",
     "output_type": "stream",
     "text": [
      "tensor(2.0886, dtype=torch.float64) tensor(0.0886, dtype=torch.float64)\n"
     ]
    },
    {
     "name": "stderr",
     "output_type": "stream",
     "text": [
      "100%|██████████| 4492/4492 [30:11<00:00,  2.48 batch/s, loss_age=2.860284964243571, loss_age_group=0.27816867769280396, loss_age_kl=1.20230850734561]   \n",
      "100%|██████████| 4493/4493 [04:29<00:00, 16.69 batch/s]\n"
     ]
    },
    {
     "name": "stdout",
     "output_type": "stream",
     "text": [
      "tensor(2.3445, dtype=torch.float64) tensor(0.5492, dtype=torch.float64)\n"
     ]
    },
    {
     "name": "stderr",
     "output_type": "stream",
     "text": [
      "100%|██████████| 4492/4492 [30:04<00:00,  2.49 batch/s, loss_age=2.5362284580866494, loss_age_group=0.2549077158754637, loss_age_kl=1.1308617835967376] \n",
      "100%|██████████| 4493/4493 [04:29<00:00, 16.66 batch/s]\n"
     ]
    },
    {
     "name": "stdout",
     "output_type": "stream",
     "text": [
      "tensor(2.2752, dtype=torch.float64) tensor(0.2752, dtype=torch.float64)\n"
     ]
    },
    {
     "name": "stderr",
     "output_type": "stream",
     "text": [
      "100%|██████████| 4492/4492 [30:10<00:00,  2.48 batch/s, loss_age=2.6772192791104317, loss_age_group=0.20995137248043722, loss_age_kl=1.112119171997247] \n",
      "100%|██████████| 4493/4493 [04:29<00:00, 16.68 batch/s]\n"
     ]
    },
    {
     "name": "stdout",
     "output_type": "stream",
     "text": [
      "tensor(2.3421, dtype=torch.float64) tensor(0.4169, dtype=torch.float64)\n"
     ]
    },
    {
     "name": "stderr",
     "output_type": "stream",
     "text": [
      "100%|██████████| 4492/4492 [30:07<00:00,  2.49 batch/s, loss_age=3.104596192638079, loss_age_group=0.30157914982352924, loss_age_kl=1.1886488888885154] \n",
      "100%|██████████| 4493/4493 [04:26<00:00, 16.83 batch/s]\n"
     ]
    },
    {
     "name": "stdout",
     "output_type": "stream",
     "text": [
      "tensor(2.2549, dtype=torch.float64) tensor(0.3410, dtype=torch.float64)\n"
     ]
    },
    {
     "name": "stderr",
     "output_type": "stream",
     "text": [
      "100%|██████████| 4492/4492 [30:15<00:00,  2.47 batch/s, loss_age=2.062265788515409, loss_age_group=0.09655984916992111, loss_age_kl=0.981623571791918]  \n",
      "100%|██████████| 4493/4493 [04:25<00:00, 16.90 batch/s]\n"
     ]
    },
    {
     "name": "stdout",
     "output_type": "stream",
     "text": [
      "tensor(2.7661, dtype=torch.float64) tensor(1.3000, dtype=torch.float64)\n"
     ]
    },
    {
     "name": "stderr",
     "output_type": "stream",
     "text": [
      "100%|██████████| 4492/4492 [30:13<00:00,  2.48 batch/s, loss_age=2.4202986607948938, loss_age_group=0.23125330787953163, loss_age_kl=1.0408316807642288]\n",
      "100%|██████████| 4493/4493 [04:32<00:00, 16.46 batch/s]\n"
     ]
    },
    {
     "name": "stdout",
     "output_type": "stream",
     "text": [
      "tensor(2.5131, dtype=torch.float64) tensor(1.0842, dtype=torch.float64)\n"
     ]
    },
    {
     "name": "stderr",
     "output_type": "stream",
     "text": [
      "100%|██████████| 4492/4492 [30:19<00:00,  2.47 batch/s, loss_age=2.3989267696936927, loss_age_group=0.1370254549593556, loss_age_kl=0.9986962716499824] \n",
      "100%|██████████| 4493/4493 [04:32<00:00, 16.49 batch/s]\n"
     ]
    },
    {
     "name": "stdout",
     "output_type": "stream",
     "text": [
      "tensor(2.8380, dtype=torch.float64) tensor(1.7865, dtype=torch.float64)\n"
     ]
    },
    {
     "name": "stderr",
     "output_type": "stream",
     "text": [
      "100%|██████████| 4492/4492 [31:37<00:00,  2.37 batch/s, loss_age=1.6554855356613796, loss_age_group=0.10754608342561056, loss_age_kl=0.7886785601928362]\n",
      "100%|██████████| 4493/4493 [04:24<00:00, 16.97 batch/s]\n"
     ]
    },
    {
     "name": "stdout",
     "output_type": "stream",
     "text": [
      "tensor(2.7649, dtype=torch.float64) tensor(1.5447, dtype=torch.float64)\n"
     ]
    },
    {
     "name": "stderr",
     "output_type": "stream",
     "text": [
      "100%|██████████| 4492/4492 [30:05<00:00,  2.49 batch/s, loss_age=2.196249013145765, loss_age_group=0.12084167262992136, loss_age_kl=0.8733082909077401]  \n",
      "100%|██████████| 4493/4493 [04:17<00:00, 17.45 batch/s]\n"
     ]
    },
    {
     "name": "stdout",
     "output_type": "stream",
     "text": [
      "tensor(3.0030, dtype=torch.float64) tensor(2.1429, dtype=torch.float64)\n"
     ]
    },
    {
     "name": "stderr",
     "output_type": "stream",
     "text": [
      "100%|██████████| 4492/4492 [30:20<00:00,  2.47 batch/s, loss_age=1.757698009411494, loss_age_group=0.17153240650818202, loss_age_kl=0.71421474697466]    \n",
      "100%|██████████| 4493/4493 [04:14<00:00, 17.69 batch/s]\n"
     ]
    },
    {
     "name": "stdout",
     "output_type": "stream",
     "text": [
      "tensor(3.2957, dtype=torch.float64) tensor(2.6341, dtype=torch.float64)\n"
     ]
    },
    {
     "name": "stderr",
     "output_type": "stream",
     "text": [
      "100%|██████████| 4492/4492 [30:31<00:00,  2.45 batch/s, loss_age=1.141507623096307, loss_age_group=0.15187969468664392, loss_age_kl=0.6189689616171234]  \n",
      "100%|██████████| 4493/4493 [04:13<00:00, 17.71 batch/s]\n"
     ]
    },
    {
     "name": "stdout",
     "output_type": "stream",
     "text": [
      "tensor(3.5139, dtype=torch.float64) tensor(2.8176, dtype=torch.float64)\n"
     ]
    },
    {
     "name": "stderr",
     "output_type": "stream",
     "text": [
      "100%|██████████| 4492/4492 [30:17<00:00,  2.47 batch/s, loss_age=1.6028846328457196, loss_age_group=0.0698626329677643, loss_age_kl=0.7206544165533237]  \n",
      "100%|██████████| 4493/4493 [04:13<00:00, 17.71 batch/s]\n"
     ]
    },
    {
     "name": "stdout",
     "output_type": "stream",
     "text": [
      "tensor(3.8298, dtype=torch.float64) tensor(3.1805, dtype=torch.float64)\n"
     ]
    },
    {
     "name": "stderr",
     "output_type": "stream",
     "text": [
      "100%|██████████| 4492/4492 [31:20<00:00,  2.39 batch/s, loss_age=1.345692127943039, loss_age_group=0.07904661475592685, loss_age_kl=0.629696503543165]    \n",
      "100%|██████████| 4493/4493 [04:31<00:00, 16.57 batch/s]\n"
     ]
    },
    {
     "name": "stdout",
     "output_type": "stream",
     "text": [
      "tensor(3.8048, dtype=torch.float64) tensor(3.1786, dtype=torch.float64)\n"
     ]
    }
   ],
   "source": [
    "age_weight = 1/5\n",
    "\n",
    "best_val_aar = 4.1374\n",
    "knowledge_age_group = torch.tensor([[0.33, 0.33, 0.33]]*96, requires_grad=False).float().to(\"cuda\")\n",
    "for e in range(EPOCHS):\n",
    "    with tqdm(dl_train, unit=\" batch\") as tepoch:\n",
    "        for batch in tepoch:\n",
    "            opt.zero_grad()\n",
    "            x, y = batch\n",
    "            x = x.to(\"cuda\")\n",
    "            y_age_group = y[0].to(\"cuda\")\n",
    "            y_age = y[1].to(\"cuda\")\n",
    "            y_age_kl: torch.Tensor = y[2].to(\"cuda\")\n",
    "            \n",
    "            knowledge = model_age_group(x, knowledge_age_group)\n",
    "            loss_age_group: torch.Tensor = cross_entropy(knowledge, y_age_group)\n",
    "\n",
    "            knowledge = F.softmax(knowledge, dim=-1)\n",
    "            out_age = model_age(x, knowledge)\n",
    "            loss_age_kl: torch.Tensor = kl(F.log_softmax(out_age, dim=-1), y_age_kl)\n",
    "\n",
    "            out = F.softmax(out_age, dim=-1)\n",
    "            out = AgeConversion.EVAge(out)\n",
    "            y_age = AgeConversion.EVAge(y_age)\n",
    "            loss_age: torch.Tensor = torch.mean(torch.abs(out - y_age))\n",
    "\n",
    "            loss = loss_age_group + loss_age*age_weight + loss_age_kl\n",
    "            loss.backward()\n",
    "            opt.step()\n",
    "            scheduler.step()\n",
    "\n",
    "            tepoch.set_postfix(loss_age_group=loss_age_group.detach().cpu().numpy(), \n",
    "                                loss_age=loss_age.detach().cpu().numpy(), \n",
    "                                loss_age_kl=loss_age_kl.detach().cpu().numpy())\n",
    "\n",
    "    def forward_function(x):\n",
    "        knowledge_age_group = torch.tensor([[0.33, 0.33, 0.33]]*len(x), requires_grad=False).float().to(\"cuda\")\n",
    "        knowledge = model_age_group(x, knowledge_age_group)\n",
    "        knowledge = F.softmax(knowledge, dim=-1)\n",
    "        out = model_age(x, knowledge)\n",
    "        out = F.softmax(out, dim=-1)\n",
    "        return out\n",
    "\n",
    "    val_aar, val_aar_old = validator.validate(forward_function)\n",
    "    print(val_aar, val_aar_old)\n",
    "\n",
    "    if val_aar > best_val_aar:\n",
    "        best_val_aar = val_aar\n",
    "        torch.save(model_age_group.state_dict(), \"./model_age_group_balanced.pt\")\n",
    "        torch.save(model_age.state_dict(), \"./model_age_balanced.pt\")\n",
    "        print(\"Saved model\")"
   ]
  },
  {
   "cell_type": "code",
   "execution_count": 7,
   "metadata": {},
   "outputs": [
    {
     "data": {
      "text/plain": [
       "<All keys matched successfully>"
      ]
     },
     "execution_count": 7,
     "metadata": {},
     "output_type": "execute_result"
    }
   ],
   "source": [
    "model_age_group.load_state_dict(torch.load(\"./model_age_group_balanced.pt\"))\n",
    "model_age.load_state_dict(torch.load(\"./model_age_balanced.pt\"))"
   ]
  }
 ],
 "metadata": {
  "kernelspec": {
   "display_name": "AV_project",
   "language": "python",
   "name": "python3"
  },
  "language_info": {
   "codemirror_mode": {
    "name": "ipython",
    "version": 3
   },
   "file_extension": ".py",
   "mimetype": "text/x-python",
   "name": "python",
   "nbconvert_exporter": "python",
   "pygments_lexer": "ipython3",
   "version": "3.8.10 (default, May 19 2021, 13:12:57) [MSC v.1916 64 bit (AMD64)]"
  },
  "orig_nbformat": 4,
  "vscode": {
   "interpreter": {
    "hash": "cb944c2b40f40877ef78d83ae6cee61e5f12ef7b90668598de820bc310ff39a2"
   }
  }
 },
 "nbformat": 4,
 "nbformat_minor": 2
}
