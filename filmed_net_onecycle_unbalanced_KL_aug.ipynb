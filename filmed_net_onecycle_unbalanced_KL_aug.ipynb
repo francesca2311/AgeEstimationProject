{
 "cells": [
  {
   "cell_type": "code",
   "execution_count": 1,
   "metadata": {},
   "outputs": [
    {
     "name": "stderr",
     "output_type": "stream",
     "text": [
      "c:\\Users\\Gio\\.conda\\envs\\AV_project\\lib\\site-packages\\tqdm\\auto.py:22: TqdmWarning: IProgress not found. Please update jupyter and ipywidgets. See https://ipywidgets.readthedocs.io/en/stable/user_install.html\n",
      "  from .autonotebook import tqdm as notebook_tqdm\n"
     ]
    }
   ],
   "source": [
    "from typing import List\n",
    "from Dataset.CustomDataset import AgeGroupAndAgeDataset, StandardDataset, AgeGroupAndAgeDatasetKL, AgeGroupKLAndAgeDatasetKL\n",
    "from Dataset.CustomDataLoaders import CustomDataLoader\n",
    "from sklearn.model_selection import train_test_split\n",
    "from tqdm import tqdm\n",
    "from Utils import AAR, CSVUtils, AgeConversion\n",
    "from Utils.Validator import Validator"
   ]
  },
  {
   "cell_type": "code",
   "execution_count": 5,
   "metadata": {},
   "outputs": [
    {
     "name": "stdout",
     "output_type": "stream",
     "text": [
      "431304\n"
     ]
    }
   ],
   "source": [
    "#Caricamento del dataframe\n",
    "import pandas as pd\n",
    "df = CSVUtils.get_df_from_csv(\"./training_caip_contest.csv\", \"./training_caip_contest/\")\n",
    "df_train, df_val = train_test_split(df, test_size=0.25, random_state=42)\n",
    "aug = CSVUtils.get_df_from_csv(\"./augumentation.csv\", \"./newAugmentationDataset/\")\n",
    "df_train = pd.concat([df_train, aug], ignore_index=True)\n",
    "df_train = df_train.reset_index(drop=True)\n",
    "df_val = df_val.reset_index(drop=True)"
   ]
  },
  {
   "cell_type": "code",
   "execution_count": 3,
   "metadata": {},
   "outputs": [],
   "source": [
    "from torchvision import transforms\n",
    "import torch\n",
    "\n",
    "transform_func = transforms.Compose([\n",
    "    transforms.Resize(224),\n",
    "    transforms.RandomHorizontalFlip(),\n",
    "    transforms.ColorJitter(0.1, 0.1, 0.1, 0.1),\n",
    "    transforms.RandAugment(2, 9),\n",
    "    transforms.PILToTensor(),\n",
    "    transforms.ConvertImageDtype(torch.float),\n",
    "    transforms.Normalize(\n",
    "        mean=[0.485, 0.456, 0.406],\n",
    "        std=[0.229, 0.224, 0.225]\n",
    "    ),\n",
    "])\n",
    "\n",
    "transform_func_val = transforms.Compose([\n",
    "    transforms.Resize(224),\n",
    "    transforms.PILToTensor(),\n",
    "    transforms.ConvertImageDtype(torch.float),\n",
    "    transforms.Normalize(\n",
    "        mean=[0.485, 0.456, 0.406],\n",
    "        std=[0.229, 0.224, 0.225]\n",
    "    ),\n",
    "])\n",
    "\n",
    "label_map_v = CSVUtils.get_label_map_vector()\n",
    "cd_train = AgeGroupKLAndAgeDatasetKL(df_train, path_col=\"path\", label_col=\"age\", label_function=\"Linear\", \n",
    "                                    label_map_vector=label_map_v, transform_func=transform_func)\n",
    "\n",
    "cd_val = StandardDataset(df_val, path_col=\"path\", label_col=\"age\", label_function=\"CAE\", transform_func=transform_func_val)\n",
    "cd_val.set_n_classes(81)\n",
    "cd_val.set_starting_class(1)\n",
    "validator = Validator(cd_val, AgeConversion.EVAge, 32, num_workers=6, prefetch_factor=4)\n",
    "\n",
    "dm_train = CustomDataLoader(cd_train)\n",
    "dl_train = dm_train.get_unbalanced_dataloader(batch_size=128, shuffle=True, drop_last=True, num_workers=16, prefetch_factor=4, pin_memory=True)"
   ]
  },
  {
   "cell_type": "code",
   "execution_count": 4,
   "metadata": {},
   "outputs": [],
   "source": [
    "from ResNetFilmed.resnet import ResNetFiLMed, BackBone\n",
    "import torch\n",
    "from torch import optim\n",
    "import torch.nn.functional as F\n",
    "from torch import nn\n",
    "\n",
    "####################################################\n",
    "EPOCHS = 12\n",
    "####################################################\n",
    "\n",
    "backbone = BackBone(pretrained=True, freeze=False)\n",
    "backbone.train()\n",
    "model_age_group = ResNetFiLMed(backbone, 8)\n",
    "model_age_group.train()\n",
    "model_age = ResNetFiLMed(backbone, 81)\n",
    "model_age.train()\n",
    "opt = optim.SGD(set([*model_age_group.parameters(), *model_age.parameters()]), lr=0.1, weight_decay=5e-4)\n",
    "scheduler = optim.lr_scheduler.OneCycleLR(opt, max_lr=0.1, steps_per_epoch=len(dl_train), epochs=EPOCHS, three_phase=True)\n",
    "kl = nn.KLDivLoss(reduction=\"batchmean\")"
   ]
  },
  {
   "cell_type": "code",
   "execution_count": 5,
   "metadata": {},
   "outputs": [
    {
     "name": "stderr",
     "output_type": "stream",
     "text": [
      "100%|██████████| 7337/7337 [30:45<00:00,  3.98 batch/s, loss_age=3.7175488, loss_age_group=0.5760222452261261, loss_age_kl=1.4907589687445415] \n",
      "100%|██████████| 4493/4493 [03:20<00:00, 22.40 batch/s]\n"
     ]
    },
    {
     "name": "stdout",
     "output_type": "stream",
     "text": [
      "tensor(11.5719, dtype=torch.float64) tensor(0.9765, dtype=torch.float64) tensor(0., dtype=torch.float64)\n",
      "Saved model\n"
     ]
    },
    {
     "name": "stderr",
     "output_type": "stream",
     "text": [
      "100%|██████████| 7337/7337 [30:16<00:00,  4.04 batch/s, loss_age=3.1208599, loss_age_group=0.5049353053944864, loss_age_kl=1.3215067822917441] \n",
      "100%|██████████| 4493/4493 [03:06<00:00, 24.11 batch/s]\n"
     ]
    },
    {
     "name": "stdout",
     "output_type": "stream",
     "text": [
      "tensor(11.2076, dtype=torch.float64) tensor(1.1922, dtype=torch.float64) tensor(0., dtype=torch.float64)\n",
      "Saved model\n"
     ]
    },
    {
     "name": "stderr",
     "output_type": "stream",
     "text": [
      "100%|██████████| 7337/7337 [30:19<00:00,  4.03 batch/s, loss_age=3.7261834, loss_age_group=0.6533227406456097, loss_age_kl=1.586908446732442]  \n",
      "100%|██████████| 4493/4493 [03:12<00:00, 23.30 batch/s]\n"
     ]
    },
    {
     "name": "stdout",
     "output_type": "stream",
     "text": [
      "tensor(11.3803, dtype=torch.float64) tensor(0.9113, dtype=torch.float64) tensor(0., dtype=torch.float64)\n"
     ]
    },
    {
     "name": "stderr",
     "output_type": "stream",
     "text": [
      "100%|██████████| 7337/7337 [30:25<00:00,  4.02 batch/s, loss_age=5.6297636, loss_age_group=0.8131323572870419, loss_age_kl=1.7567391851602612] \n",
      "100%|██████████| 4493/4493 [03:08<00:00, 23.80 batch/s]\n"
     ]
    },
    {
     "name": "stdout",
     "output_type": "stream",
     "text": [
      "tensor(14.5492, dtype=torch.float64) tensor(1.7733, dtype=torch.float64) tensor(0., dtype=torch.float64)\n"
     ]
    },
    {
     "name": "stderr",
     "output_type": "stream",
     "text": [
      "100%|██████████| 7337/7337 [30:28<00:00,  4.01 batch/s, loss_age=3.563517, loss_age_group=0.49091431368487454, loss_age_kl=1.3545819367379326] \n",
      "100%|██████████| 4493/4493 [03:12<00:00, 23.34 batch/s]\n"
     ]
    },
    {
     "name": "stdout",
     "output_type": "stream",
     "text": [
      "tensor(9.5842, dtype=torch.float64) tensor(2.2173, dtype=torch.float64) tensor(0.2173, dtype=torch.float64)\n",
      "Saved model\n"
     ]
    },
    {
     "name": "stderr",
     "output_type": "stream",
     "text": [
      "100%|██████████| 7337/7337 [30:25<00:00,  4.02 batch/s, loss_age=3.1511202, loss_age_group=0.4539154732683436, loss_age_kl=1.2580512130716426] \n",
      "100%|██████████| 4493/4493 [03:07<00:00, 23.93 batch/s]\n"
     ]
    },
    {
     "name": "stdout",
     "output_type": "stream",
     "text": [
      "tensor(9.8637, dtype=torch.float64) tensor(2.4778, dtype=torch.float64) tensor(0.4778, dtype=torch.float64)\n"
     ]
    },
    {
     "name": "stderr",
     "output_type": "stream",
     "text": [
      "100%|██████████| 7337/7337 [30:10<00:00,  4.05 batch/s, loss_age=2.4683309, loss_age_group=0.327595647304296, loss_age_kl=1.095674029179962]   \n",
      "100%|██████████| 4493/4493 [03:18<00:00, 22.67 batch/s]\n"
     ]
    },
    {
     "name": "stdout",
     "output_type": "stream",
     "text": [
      "tensor(7.9512, dtype=torch.float64) tensor(2.0609, dtype=torch.float64) tensor(0.0609, dtype=torch.float64)\n",
      "Saved model\n"
     ]
    },
    {
     "name": "stderr",
     "output_type": "stream",
     "text": [
      "100%|██████████| 7337/7337 [30:09<00:00,  4.06 batch/s, loss_age=2.504515, loss_age_group=0.34031464128771266, loss_age_kl=1.1098505984359501] \n",
      "100%|██████████| 4493/4493 [03:07<00:00, 24.01 batch/s]\n"
     ]
    },
    {
     "name": "stdout",
     "output_type": "stream",
     "text": [
      "tensor(8.1020, dtype=torch.float64) tensor(1.9961, dtype=torch.float64) tensor(0., dtype=torch.float64)\n"
     ]
    },
    {
     "name": "stderr",
     "output_type": "stream",
     "text": [
      "100%|██████████| 7337/7337 [30:22<00:00,  4.03 batch/s, loss_age=2.4113493, loss_age_group=0.35190215949385945, loss_age_kl=1.156787107611037] \n",
      "100%|██████████| 4493/4493 [03:16<00:00, 22.81 batch/s]\n"
     ]
    },
    {
     "name": "stdout",
     "output_type": "stream",
     "text": [
      "tensor(7.1410, dtype=torch.float64) tensor(2.2402, dtype=torch.float64) tensor(0.2402, dtype=torch.float64)\n",
      "Saved model\n"
     ]
    },
    {
     "name": "stderr",
     "output_type": "stream",
     "text": [
      "100%|██████████| 7337/7337 [30:13<00:00,  4.05 batch/s, loss_age=1.9035091, loss_age_group=0.2720005845285527, loss_age_kl=0.9377836913175814] \n",
      "100%|██████████| 4493/4493 [03:04<00:00, 24.36 batch/s]\n"
     ]
    },
    {
     "name": "stdout",
     "output_type": "stream",
     "text": [
      "tensor(6.0377, dtype=torch.float64) tensor(3.0397, dtype=torch.float64) tensor(1.8978, dtype=torch.float64)\n",
      "Saved model\n"
     ]
    },
    {
     "name": "stderr",
     "output_type": "stream",
     "text": [
      "100%|██████████| 7337/7337 [30:30<00:00,  4.01 batch/s, loss_age=2.3554192, loss_age_group=0.29531590259595786, loss_age_kl=1.0343260415806181]\n",
      "100%|██████████| 4493/4493 [03:12<00:00, 23.38 batch/s]\n"
     ]
    },
    {
     "name": "stdout",
     "output_type": "stream",
     "text": [
      "tensor(5.9405, dtype=torch.float64) tensor(2.9879, dtype=torch.float64) tensor(1.7532, dtype=torch.float64)\n",
      "Saved model\n"
     ]
    },
    {
     "name": "stderr",
     "output_type": "stream",
     "text": [
      "100%|██████████| 7337/7337 [30:39<00:00,  3.99 batch/s, loss_age=1.6728907, loss_age_group=0.2032273909968672, loss_age_kl=0.8227785198793046] \n",
      "100%|██████████| 4493/4493 [03:06<00:00, 24.10 batch/s]\n"
     ]
    },
    {
     "name": "stdout",
     "output_type": "stream",
     "text": [
      "tensor(5.5719, dtype=torch.float64) tensor(3.4946, dtype=torch.float64) tensor(2.4327, dtype=torch.float64)\n",
      "Saved model\n"
     ]
    }
   ],
   "source": [
    "best_mae = 20\n",
    "knowledge_age_group = torch.tensor([[0.125]*8]*128, requires_grad=False).float().to(\"cuda\")\n",
    "\n",
    "for e in range(EPOCHS):\n",
    "    with tqdm(dl_train, unit=\" batch\") as tepoch:\n",
    "        for batch in tepoch:\n",
    "            opt.zero_grad()\n",
    "            x, y = batch\n",
    "            x = x.to(\"cuda\")\n",
    "            y_age_group = y[0].to(\"cuda\")\n",
    "            y_age = y[1].to(\"cuda\")\n",
    "            y_age_kl: torch.Tensor = y[2].to(\"cuda\")\n",
    "            \n",
    "            knowledge = model_age_group(x, knowledge_age_group)\n",
    "            loss_age_group: torch.Tensor = kl(F.log_softmax(knowledge, dim=-1), y_age_group)\n",
    "\n",
    "            knowledge = F.softmax(knowledge, dim=-1)\n",
    "            out_age = model_age(x, knowledge)\n",
    "            loss_age_kl: torch.Tensor = kl(F.log_softmax(out_age, dim=-1), y_age_kl)\n",
    "\n",
    "            out = F.softmax(out_age, dim=-1)\n",
    "            out = AgeConversion.EVAge(out).to(\"cuda\")\n",
    "            loss_age: torch.Tensor = torch.mean(torch.abs(out - y_age))\n",
    "\n",
    "            loss = loss_age_group + loss_age_kl + loss_age\n",
    "            loss.backward()\n",
    "            opt.step()\n",
    "            scheduler.step()\n",
    "\n",
    "            tepoch.set_postfix(loss_age_group=loss_age_group.detach().cpu().numpy(), \n",
    "                                loss_age=loss_age.detach().cpu().numpy(), \n",
    "                                loss_age_kl=loss_age_kl.detach().cpu().numpy())\n",
    "\n",
    "    def forward_function(x):\n",
    "        knowledge_age_group = torch.tensor([[0.125]*8]*len(x), requires_grad=False).float().to(\"cuda\")\n",
    "        knowledge = model_age_group(x, knowledge_age_group)\n",
    "        knowledge = F.softmax(knowledge, dim=-1)\n",
    "        out = model_age(x, knowledge)\n",
    "        out = F.softmax(out, dim=-1)\n",
    "        return out\n",
    "\n",
    "    mae, val_aar, val_aar_old = validator.validate_ext(forward_function)\n",
    "    print(mae, val_aar, val_aar_old)\n",
    "\n",
    "    if mae < best_mae:\n",
    "        best_mae = mae\n",
    "        torch.save(model_age_group.state_dict(), \"./model_age_group_film_feature_aug.pt\")\n",
    "        torch.save(model_age.state_dict(), \"./model_age_film_feature_aug.pt\")\n",
    "        print(\"Saved model\")"
   ]
  },
  {
   "cell_type": "code",
   "execution_count": 5,
   "metadata": {},
   "outputs": [],
   "source": [
    "####################################################\n",
    "EPOCHS = 12\n",
    "####################################################\n",
    "\n",
    "dl_train = dm_train.get_balanced_class_random_dataset_dataloader(df_base_len=431304, class_ranges=[(0, 11), (11, 21), (21, 31), (31, 41), (41, 51), (51, 61), (61, 71), (71, 91)], \n",
    "                                                                batch_size=128, num_workers=16, prefetch_factor=4, pin_memory=True)\n",
    "\n",
    "model_age_group.load_state_dict(torch.load(\"./model_age_group_film_feature.pt\"))\n",
    "model_age.load_state_dict(torch.load(\"./model_age_film_feature.pt\"))\n",
    "opt = optim.SGD(set([*model_age.fc0.parameters()]), lr=0.1, weight_decay=5e-4)\n",
    "scheduler = optim.lr_scheduler.OneCycleLR(opt, max_lr=0.1, steps_per_epoch=len(dl_train), epochs=EPOCHS, three_phase=True)"
   ]
  },
  {
   "cell_type": "code",
   "execution_count": 6,
   "metadata": {},
   "outputs": [
    {
     "name": "stderr",
     "output_type": "stream",
     "text": [
      "100%|██████████| 4493/4493 [03:11<00:00, 23.47 batch/s]\n"
     ]
    },
    {
     "name": "stdout",
     "output_type": "stream",
     "text": [
      "tensor(5.5719, dtype=torch.float64) tensor(3.4946, dtype=torch.float64) tensor(2.4327, dtype=torch.float64)\n"
     ]
    }
   ],
   "source": [
    "def forward_function(x):\n",
    "    knowledge_age_group = torch.tensor([[0.125]*8]*len(x), requires_grad=False).float().to(\"cuda\")\n",
    "    knowledge = model_age_group(x, knowledge_age_group)\n",
    "    knowledge = F.softmax(knowledge, dim=-1)\n",
    "    out = model_age(x, knowledge)\n",
    "    out = F.softmax(out, dim=-1)\n",
    "    return out\n",
    "\n",
    "mae, val_aar, val_aar_old = validator.validate_ext(forward_function)\n",
    "print(mae, val_aar, val_aar_old)"
   ]
  },
  {
   "cell_type": "code",
   "execution_count": 8,
   "metadata": {},
   "outputs": [
    {
     "name": "stderr",
     "output_type": "stream",
     "text": [
      "100%|██████████| 7337/7337 [32:45<00:00,  3.73 batch/s, loss_age=5.837307, loss_age_kl=1.16501252020349]   \n",
      "100%|██████████| 4493/4493 [03:15<00:00, 23.03 batch/s]\n"
     ]
    },
    {
     "name": "stdout",
     "output_type": "stream",
     "text": [
      "tensor(7.2114, dtype=torch.float64) tensor(0., dtype=torch.float64) tensor(0., dtype=torch.float64)\n"
     ]
    },
    {
     "name": "stderr",
     "output_type": "stream",
     "text": [
      "100%|██████████| 7337/7337 [32:38<00:00,  3.75 batch/s, loss_age=5.048768, loss_age_kl=1.121530937141424]  \n",
      "100%|██████████| 4493/4493 [03:03<00:00, 24.43 batch/s]\n"
     ]
    },
    {
     "name": "stdout",
     "output_type": "stream",
     "text": [
      "tensor(6.8076, dtype=torch.float64) tensor(1.6955, dtype=torch.float64) tensor(0.1924, dtype=torch.float64)\n"
     ]
    },
    {
     "name": "stderr",
     "output_type": "stream",
     "text": [
      "100%|██████████| 7337/7337 [31:36<00:00,  3.87 batch/s, loss_age=6.24458, loss_age_kl=1.1532620911395344]  \n",
      "100%|██████████| 4493/4493 [03:09<00:00, 23.68 batch/s]\n"
     ]
    },
    {
     "name": "stdout",
     "output_type": "stream",
     "text": [
      "tensor(7.1169, dtype=torch.float64) tensor(1.5196, dtype=torch.float64) tensor(0., dtype=torch.float64)\n"
     ]
    },
    {
     "name": "stderr",
     "output_type": "stream",
     "text": [
      "100%|██████████| 7337/7337 [30:17<00:00,  4.04 batch/s, loss_age=5.74687, loss_age_kl=1.1554092594150667]  \n",
      "100%|██████████| 4493/4493 [03:01<00:00, 24.72 batch/s]\n"
     ]
    },
    {
     "name": "stdout",
     "output_type": "stream",
     "text": [
      "tensor(7.8608, dtype=torch.float64) tensor(0.0946, dtype=torch.float64) tensor(0., dtype=torch.float64)\n"
     ]
    },
    {
     "name": "stderr",
     "output_type": "stream",
     "text": [
      "100%|██████████| 7337/7337 [30:10<00:00,  4.05 batch/s, loss_age=5.1323853, loss_age_kl=1.0459457817365472]\n",
      "100%|██████████| 4493/4493 [03:09<00:00, 23.76 batch/s]\n"
     ]
    },
    {
     "name": "stdout",
     "output_type": "stream",
     "text": [
      "tensor(7.6111, dtype=torch.float64) tensor(1.0376, dtype=torch.float64) tensor(0., dtype=torch.float64)\n"
     ]
    },
    {
     "name": "stderr",
     "output_type": "stream",
     "text": [
      "100%|██████████| 7337/7337 [30:02<00:00,  4.07 batch/s, loss_age=6.011825, loss_age_kl=1.045396620486668]  \n",
      "100%|██████████| 4493/4493 [03:02<00:00, 24.68 batch/s]\n"
     ]
    },
    {
     "name": "stdout",
     "output_type": "stream",
     "text": [
      "tensor(8.0177, dtype=torch.float64) tensor(1.1456, dtype=torch.float64) tensor(0., dtype=torch.float64)\n"
     ]
    },
    {
     "name": "stderr",
     "output_type": "stream",
     "text": [
      "100%|██████████| 7337/7337 [29:58<00:00,  4.08 batch/s, loss_age=5.330656, loss_age_kl=1.0032771077029927] \n",
      "100%|██████████| 4493/4493 [03:09<00:00, 23.72 batch/s]\n"
     ]
    },
    {
     "name": "stdout",
     "output_type": "stream",
     "text": [
      "tensor(7.9992, dtype=torch.float64) tensor(1.1891, dtype=torch.float64) tensor(0., dtype=torch.float64)\n"
     ]
    },
    {
     "name": "stderr",
     "output_type": "stream",
     "text": [
      "100%|█████████▉| 7336/7337 [31:14<00:00,  3.91 batch/s, loss_age=5.247093, loss_age_kl=0.9819015667338922] \n"
     ]
    },
    {
     "ename": "ValueError",
     "evalue": "Tried to step 58698 times. The specified number of total steps is 58696",
     "output_type": "error",
     "traceback": [
      "\u001b[1;31m---------------------------------------------------------------------------\u001b[0m",
      "\u001b[1;31mValueError\u001b[0m                                Traceback (most recent call last)",
      "Cell \u001b[1;32mIn[8], line 28\u001b[0m\n\u001b[0;32m     26\u001b[0m         loss\u001b[39m.\u001b[39mbackward()\n\u001b[0;32m     27\u001b[0m         opt\u001b[39m.\u001b[39mstep()\n\u001b[1;32m---> 28\u001b[0m         scheduler\u001b[39m.\u001b[39;49mstep()\n\u001b[0;32m     30\u001b[0m         tepoch\u001b[39m.\u001b[39mset_postfix(loss_age\u001b[39m=\u001b[39mloss_age\u001b[39m.\u001b[39mdetach()\u001b[39m.\u001b[39mcpu()\u001b[39m.\u001b[39mnumpy(), \n\u001b[0;32m     31\u001b[0m                             loss_age_kl\u001b[39m=\u001b[39mloss_age_kl\u001b[39m.\u001b[39mdetach()\u001b[39m.\u001b[39mcpu()\u001b[39m.\u001b[39mnumpy())\n\u001b[0;32m     33\u001b[0m \u001b[39mdef\u001b[39;00m \u001b[39mforward_function\u001b[39m(x):\n",
      "File \u001b[1;32mc:\\Users\\Gio\\.conda\\envs\\AV_project\\lib\\site-packages\\torch\\optim\\lr_scheduler.py:161\u001b[0m, in \u001b[0;36m_LRScheduler.step\u001b[1;34m(self, epoch)\u001b[0m\n\u001b[0;32m    159\u001b[0m \u001b[39mif\u001b[39;00m epoch \u001b[39mis\u001b[39;00m \u001b[39mNone\u001b[39;00m:\n\u001b[0;32m    160\u001b[0m     \u001b[39mself\u001b[39m\u001b[39m.\u001b[39mlast_epoch \u001b[39m+\u001b[39m\u001b[39m=\u001b[39m \u001b[39m1\u001b[39m\n\u001b[1;32m--> 161\u001b[0m     values \u001b[39m=\u001b[39m \u001b[39mself\u001b[39;49m\u001b[39m.\u001b[39;49mget_lr()\n\u001b[0;32m    162\u001b[0m \u001b[39melse\u001b[39;00m:\n\u001b[0;32m    163\u001b[0m     warnings\u001b[39m.\u001b[39mwarn(EPOCH_DEPRECATION_WARNING, \u001b[39mUserWarning\u001b[39;00m)\n",
      "File \u001b[1;32mc:\\Users\\Gio\\.conda\\envs\\AV_project\\lib\\site-packages\\torch\\optim\\lr_scheduler.py:1686\u001b[0m, in \u001b[0;36mOneCycleLR.get_lr\u001b[1;34m(self)\u001b[0m\n\u001b[0;32m   1683\u001b[0m step_num \u001b[39m=\u001b[39m \u001b[39mself\u001b[39m\u001b[39m.\u001b[39mlast_epoch\n\u001b[0;32m   1685\u001b[0m \u001b[39mif\u001b[39;00m step_num \u001b[39m>\u001b[39m \u001b[39mself\u001b[39m\u001b[39m.\u001b[39mtotal_steps:\n\u001b[1;32m-> 1686\u001b[0m     \u001b[39mraise\u001b[39;00m \u001b[39mValueError\u001b[39;00m(\u001b[39m\"\u001b[39m\u001b[39mTried to step \u001b[39m\u001b[39m{}\u001b[39;00m\u001b[39m times. The specified number of total steps is \u001b[39m\u001b[39m{}\u001b[39;00m\u001b[39m\"\u001b[39m\n\u001b[0;32m   1687\u001b[0m                      \u001b[39m.\u001b[39mformat(step_num \u001b[39m+\u001b[39m \u001b[39m1\u001b[39m, \u001b[39mself\u001b[39m\u001b[39m.\u001b[39mtotal_steps))\n\u001b[0;32m   1689\u001b[0m \u001b[39mfor\u001b[39;00m group \u001b[39min\u001b[39;00m \u001b[39mself\u001b[39m\u001b[39m.\u001b[39moptimizer\u001b[39m.\u001b[39mparam_groups:\n\u001b[0;32m   1690\u001b[0m     start_step \u001b[39m=\u001b[39m \u001b[39m0\u001b[39m\n",
      "\u001b[1;31mValueError\u001b[0m: Tried to step 58698 times. The specified number of total steps is 58696"
     ]
    },
    {
     "ename": "",
     "evalue": "",
     "output_type": "error",
     "traceback": [
      "\u001b[1;31mThe Kernel crashed while executing code in the the current cell or a previous cell. Please review the code in the cell(s) to identify a possible cause of the failure. Click <a href='https://aka.ms/vscodeJupyterKernelCrash'>here</a> for more info. View Jupyter <a href='command:jupyter.viewOutput'>log</a> for further details."
     ]
    }
   ],
   "source": [
    "best_val_aar = val_aar\n",
    "knowledge_age_group = torch.tensor([[0.125]*8]*128, requires_grad=False).float().to(\"cuda\")\n",
    "\n",
    "for e in range(EPOCHS):\n",
    "    with tqdm(dl_train, unit=\" batch\") as tepoch:\n",
    "        for batch in tepoch:\n",
    "            opt.zero_grad()\n",
    "            x, y = batch\n",
    "            x = x.to(\"cuda\")\n",
    "            y_age_group = y[0].to(\"cuda\")\n",
    "            y_age = y[1].to(\"cuda\")\n",
    "            y_age_kl: torch.Tensor = y[2].to(\"cuda\")\n",
    "            \n",
    "            knowledge = model_age_group(x, knowledge_age_group)\n",
    "            # loss_age_group: torch.Tensor = kl(F.log_softmax(knowledge, dim=-1), y_age_group)\n",
    "\n",
    "            knowledge = F.softmax(knowledge, dim=-1)\n",
    "            out_age = model_age(x, knowledge)\n",
    "            loss_age_kl: torch.Tensor = kl(F.log_softmax(out_age, dim=-1), y_age_kl)\n",
    "\n",
    "            out = F.softmax(out_age, dim=-1)\n",
    "            out = AgeConversion.EVAge(out).to(\"cuda\")\n",
    "            loss_age: torch.Tensor = torch.mean(torch.abs(out - y_age))\n",
    "\n",
    "            loss = loss_age_kl + torch.square(loss_age - mae) # + loss_age_group\n",
    "            loss.backward()\n",
    "            opt.step()\n",
    "            scheduler.step()\n",
    "\n",
    "            tepoch.set_postfix(loss_age=loss_age.detach().cpu().numpy(), \n",
    "                                loss_age_kl=loss_age_kl.detach().cpu().numpy())\n",
    "\n",
    "    def forward_function(x):\n",
    "        knowledge_age_group = torch.tensor([[0.125]*8]*len(x), requires_grad=False).float().to(\"cuda\")\n",
    "        knowledge = model_age_group(x, knowledge_age_group)\n",
    "        knowledge = F.softmax(knowledge, dim=-1)\n",
    "        out = model_age(x, knowledge)\n",
    "        out = F.softmax(out, dim=-1)\n",
    "        return out\n",
    "\n",
    "    mae_, val_aar, val_aar_old = validator.validate_ext(forward_function)\n",
    "    print(mae_, val_aar, val_aar_old)\n",
    "\n",
    "    if val_aar > best_val_aar:\n",
    "        best_val_aar = val_aar\n",
    "        torch.save(model_age_group.state_dict(), \"./model_age_group_film_classifier_aug.pt\")\n",
    "        torch.save(model_age.state_dict(), \"./model_age_film_classifier_aug.pt\")\n",
    "        print(\"Saved model\")"
   ]
  }
 ],
 "metadata": {
  "kernelspec": {
   "display_name": "AV_project",
   "language": "python",
   "name": "python3"
  },
  "language_info": {
   "codemirror_mode": {
    "name": "ipython",
    "version": 3
   },
   "file_extension": ".py",
   "mimetype": "text/x-python",
   "name": "python",
   "nbconvert_exporter": "python",
   "pygments_lexer": "ipython3",
   "version": "3.8.10"
  },
  "orig_nbformat": 4,
  "vscode": {
   "interpreter": {
    "hash": "cb944c2b40f40877ef78d83ae6cee61e5f12ef7b90668598de820bc310ff39a2"
   }
  }
 },
 "nbformat": 4,
 "nbformat_minor": 2
}
