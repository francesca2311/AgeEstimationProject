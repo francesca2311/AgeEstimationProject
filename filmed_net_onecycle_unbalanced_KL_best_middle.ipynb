{
 "cells": [
  {
   "cell_type": "code",
   "execution_count": 1,
   "metadata": {},
   "outputs": [
    {
     "name": "stderr",
     "output_type": "stream",
     "text": [
      "c:\\Users\\Gio\\.conda\\envs\\AV_project\\lib\\site-packages\\tqdm\\auto.py:22: TqdmWarning: IProgress not found. Please update jupyter and ipywidgets. See https://ipywidgets.readthedocs.io/en/stable/user_install.html\n",
      "  from .autonotebook import tqdm as notebook_tqdm\n"
     ]
    }
   ],
   "source": [
    "from typing import List\n",
    "from Dataset.CustomDataset import AgeGroupAndAgeDataset, StandardDataset, AgeGroupAndAgeDatasetKL, AgeGroupKLAndAgeDatasetKL\n",
    "from Dataset.CustomDataLoaders import CustomDataLoader\n",
    "from sklearn.model_selection import train_test_split\n",
    "from tqdm import tqdm\n",
    "from Utils import AAR, CSVUtils, AgeConversion\n",
    "from Utils.Validator import Validator"
   ]
  },
  {
   "cell_type": "code",
   "execution_count": 2,
   "metadata": {},
   "outputs": [],
   "source": [
    "#Caricamento del dataframe\n",
    "df = CSVUtils.get_df_from_csv(\"./training_caip_contest.csv\", \"./training_caip_contest/\")"
   ]
  },
  {
   "cell_type": "code",
   "execution_count": 3,
   "metadata": {},
   "outputs": [],
   "source": [
    "df_train, df_val = train_test_split(df, test_size=0.25, random_state=42)\n",
    "df_train = df_train.reset_index(drop=True)\n",
    "df_val = df_val.reset_index(drop=True)\n",
    "#########################\n",
    "import pandas as pd\n",
    "df = CSVUtils.get_df_from_csv(\"./training_caip_contest.csv\", \"./training_caip_contest/\")\n",
    "df_train, df_val = train_test_split(df, test_size=0.25, random_state=42)\n",
    "aug = CSVUtils.get_df_from_csv(\"./augumentation_simple.csv\", \"./newAugmentationDataset/\")\n",
    "df_train = pd.concat([df_train, aug], ignore_index=True)\n",
    "df_train = df_train.reset_index(drop=True)\n",
    "df_val = df_val.reset_index(drop=True)\n",
    "#########################\n",
    "\n",
    "from torchvision import transforms\n",
    "import torch\n",
    "\n",
    "transform_func = transforms.Compose([\n",
    "    transforms.Resize(224),\n",
    "    transforms.RandomHorizontalFlip(),\n",
    "    transforms.ColorJitter(0.1, 0.1, 0.1, 0.1),\n",
    "    transforms.RandAugment(2, 9),\n",
    "    transforms.PILToTensor(),\n",
    "    transforms.ConvertImageDtype(torch.float),\n",
    "    transforms.Normalize(\n",
    "        mean=[0.485, 0.456, 0.406],\n",
    "        std=[0.229, 0.224, 0.225]\n",
    "    ),\n",
    "])\n",
    "\n",
    "transform_func_val = transforms.Compose([\n",
    "    transforms.Resize(224),\n",
    "    transforms.PILToTensor(),\n",
    "    transforms.ConvertImageDtype(torch.float),\n",
    "    transforms.Normalize(\n",
    "        mean=[0.485, 0.456, 0.406],\n",
    "        std=[0.229, 0.224, 0.225]\n",
    "    ),\n",
    "])\n",
    "\n",
    "label_map_v = CSVUtils.get_label_map_vector()\n",
    "cd_train = AgeGroupKLAndAgeDatasetKL(df_train, path_col=\"path\", label_col=\"age\", label_function=\"Linear\", \n",
    "                                    label_map_vector=label_map_v, transform_func=transform_func)\n",
    "\n",
    "cd_val = StandardDataset(df_val, path_col=\"path\", label_col=\"age\", label_function=\"CAE\", transform_func=transform_func_val)\n",
    "cd_val.set_n_classes(81)\n",
    "cd_val.set_starting_class(1)\n",
    "validator = Validator(cd_val, AgeConversion.EVAge, 32, num_workers=4, prefetch_factor=4)\n",
    "\n",
    "dm_train = CustomDataLoader(cd_train)\n",
    "dl_train = dm_train.get_unbalanced_dataloader(batch_size=128, shuffle=True, drop_last=True, num_workers=16, prefetch_factor=4, pin_memory=True)"
   ]
  },
  {
   "cell_type": "code",
   "execution_count": 4,
   "metadata": {},
   "outputs": [],
   "source": [
    "from ResNetFilmed.resnet import ResNetFiLMed, BackBone\n",
    "import torch\n",
    "from torch import optim\n",
    "import torch.nn.functional as F\n",
    "from torch import nn\n",
    "\n",
    "####################################################\n",
    "EPOCHS = 12\n",
    "####################################################\n",
    "\n",
    "backbone = BackBone(pretrained=True, freeze=False)\n",
    "backbone.train()\n",
    "model_age_group = ResNetFiLMed(backbone, 8)\n",
    "model_age_group.train()\n",
    "model_age = ResNetFiLMed(backbone, 81)\n",
    "model_age.train()\n",
    "opt = optim.SGD(set([*model_age_group.parameters(), *model_age.parameters()]), lr=0.1, weight_decay=5e-4)\n",
    "scheduler = optim.lr_scheduler.OneCycleLR(opt, max_lr=0.1, steps_per_epoch=len(dl_train), epochs=EPOCHS, three_phase=True)\n",
    "kl = nn.KLDivLoss(reduction=\"batchmean\")"
   ]
  },
  {
   "cell_type": "code",
   "execution_count": 5,
   "metadata": {},
   "outputs": [
    {
     "name": "stderr",
     "output_type": "stream",
     "text": [
      "100%|██████████| 3369/3369 [13:52<00:00,  4.05 batch/s, loss_age=4.418851, loss_age_group=0.8484421756816958, loss_age_kl=1.7428398030648684] \n",
      "100%|██████████| 4493/4493 [03:03<00:00, 24.49 batch/s]\n"
     ]
    },
    {
     "name": "stdout",
     "output_type": "stream",
     "text": [
      "tensor(4.3063, dtype=torch.float64) tensor(0., dtype=torch.float64) tensor(2.6937, dtype=torch.float64)\n",
      "Saved model\n"
     ]
    },
    {
     "name": "stderr",
     "output_type": "stream",
     "text": [
      "100%|██████████| 3369/3369 [15:13<00:00,  3.69 batch/s, loss_age=3.666069, loss_age_group=0.5901269066677528, loss_age_kl=1.527265556035743]  \n",
      "100%|██████████| 4493/4493 [03:20<00:00, 22.42 batch/s]\n"
     ]
    },
    {
     "name": "stdout",
     "output_type": "stream",
     "text": [
      "tensor(3.9628, dtype=torch.float64) tensor(0., dtype=torch.float64) tensor(3.0372, dtype=torch.float64)\n"
     ]
    },
    {
     "name": "stderr",
     "output_type": "stream",
     "text": [
      "100%|██████████| 3369/3369 [15:19<00:00,  3.66 batch/s, loss_age=3.9765315, loss_age_group=0.6724678332292433, loss_age_kl=1.6035756311292857]\n",
      "100%|██████████| 4493/4493 [03:09<00:00, 23.75 batch/s]\n"
     ]
    },
    {
     "name": "stdout",
     "output_type": "stream",
     "text": [
      "tensor(3.8126, dtype=torch.float64) tensor(0., dtype=torch.float64) tensor(3.1874, dtype=torch.float64)\n"
     ]
    },
    {
     "name": "stderr",
     "output_type": "stream",
     "text": [
      "100%|██████████| 3369/3369 [15:49<00:00,  3.55 batch/s, loss_age=3.2281678, loss_age_group=0.5578498772305798, loss_age_kl=1.4260700256196137]\n",
      "100%|██████████| 4493/4493 [02:56<00:00, 25.45 batch/s]\n"
     ]
    },
    {
     "name": "stdout",
     "output_type": "stream",
     "text": [
      "tensor(3.7532, dtype=torch.float64) tensor(0.1427, dtype=torch.float64) tensor(3.2468, dtype=torch.float64)\n",
      "Saved model\n"
     ]
    },
    {
     "name": "stderr",
     "output_type": "stream",
     "text": [
      "100%|██████████| 3369/3369 [14:35<00:00,  3.85 batch/s, loss_age=3.5419397, loss_age_group=0.632945561686667, loss_age_kl=1.4863395216921458]  \n",
      "100%|██████████| 4493/4493 [02:44<00:00, 27.36 batch/s]\n"
     ]
    },
    {
     "name": "stdout",
     "output_type": "stream",
     "text": [
      "tensor(3.5460, dtype=torch.float64) tensor(0.0161, dtype=torch.float64) tensor(3.4540, dtype=torch.float64)\n"
     ]
    },
    {
     "name": "stderr",
     "output_type": "stream",
     "text": [
      "100%|██████████| 3369/3369 [14:25<00:00,  3.89 batch/s, loss_age=3.2469814, loss_age_group=0.6381147592897489, loss_age_kl=1.4232626642567898] \n",
      "100%|██████████| 4493/4493 [02:44<00:00, 27.35 batch/s]\n"
     ]
    },
    {
     "name": "stdout",
     "output_type": "stream",
     "text": [
      "tensor(3.2905, dtype=torch.float64) tensor(0.1466, dtype=torch.float64) tensor(3.7095, dtype=torch.float64)\n",
      "Saved model\n"
     ]
    },
    {
     "name": "stderr",
     "output_type": "stream",
     "text": [
      "100%|██████████| 3369/3369 [14:28<00:00,  3.88 batch/s, loss_age=2.4589474, loss_age_group=0.4542229877122823, loss_age_kl=1.164990009580303]  \n",
      "100%|██████████| 4493/4493 [02:48<00:00, 26.65 batch/s]\n"
     ]
    },
    {
     "name": "stdout",
     "output_type": "stream",
     "text": [
      "tensor(2.6871, dtype=torch.float64) tensor(2.1787, dtype=torch.float64) tensor(4.3129, dtype=torch.float64)\n",
      "Saved model\n"
     ]
    },
    {
     "name": "stderr",
     "output_type": "stream",
     "text": [
      "100%|██████████| 3369/3369 [14:43<00:00,  3.81 batch/s, loss_age=2.3552203, loss_age_group=0.4090158020003517, loss_age_kl=1.1136337974321417] \n",
      "100%|██████████| 4493/4493 [04:18<00:00, 17.35 batch/s]\n"
     ]
    },
    {
     "name": "stdout",
     "output_type": "stream",
     "text": [
      "tensor(2.5932, dtype=torch.float64) tensor(2.8997, dtype=torch.float64) tensor(4.4333, dtype=torch.float64)\n",
      "Saved model\n"
     ]
    },
    {
     "name": "stderr",
     "output_type": "stream",
     "text": [
      "100%|██████████| 3369/3369 [15:09<00:00,  3.70 batch/s, loss_age=2.283958, loss_age_group=0.37994872803532176, loss_age_kl=1.106674769961066]  \n",
      "100%|██████████| 4493/4493 [04:19<00:00, 17.32 batch/s]\n"
     ]
    },
    {
     "name": "stdout",
     "output_type": "stream",
     "text": [
      "tensor(2.5063, dtype=torch.float64) tensor(2.3463, dtype=torch.float64) tensor(4.4937, dtype=torch.float64)\n"
     ]
    },
    {
     "name": "stderr",
     "output_type": "stream",
     "text": [
      "100%|██████████| 3369/3369 [14:48<00:00,  3.79 batch/s, loss_age=2.4236293, loss_age_group=0.43776229716048787, loss_age_kl=1.0823988946404945]\n",
      "100%|██████████| 4493/4493 [02:59<00:00, 25.06 batch/s]\n"
     ]
    },
    {
     "name": "stdout",
     "output_type": "stream",
     "text": [
      "tensor(2.4407, dtype=torch.float64) tensor(2.8013, dtype=torch.float64) tensor(4.5593, dtype=torch.float64)\n"
     ]
    },
    {
     "name": "stderr",
     "output_type": "stream",
     "text": [
      "100%|██████████| 3369/3369 [14:06<00:00,  3.98 batch/s, loss_age=1.9568629, loss_age_group=0.3312729317419897, loss_age_kl=0.9398443738314677] \n",
      "100%|██████████| 4493/4493 [02:44<00:00, 27.32 batch/s]\n"
     ]
    },
    {
     "name": "stdout",
     "output_type": "stream",
     "text": [
      "tensor(2.2242, dtype=torch.float64) tensor(3.7748, dtype=torch.float64) tensor(5.0831, dtype=torch.float64)\n",
      "Saved model\n"
     ]
    },
    {
     "name": "stderr",
     "output_type": "stream",
     "text": [
      "100%|██████████| 3369/3369 [14:17<00:00,  3.93 batch/s, loss_age=2.3123775, loss_age_group=0.3824366608615769, loss_age_kl=1.1233796710168498] \n",
      "100%|██████████| 4493/4493 [02:45<00:00, 27.17 batch/s]\n"
     ]
    },
    {
     "name": "stdout",
     "output_type": "stream",
     "text": [
      "tensor(2.1877, dtype=torch.float64) tensor(4.1028, dtype=torch.float64) tensor(5.3027, dtype=torch.float64)\n",
      "Saved model\n"
     ]
    }
   ],
   "source": [
    "best_val_aar = -1\n",
    "knowledge_age_group = torch.tensor([[0.125]*8]*128, requires_grad=False).float().to(\"cuda\")\n",
    "\n",
    "for e in range(EPOCHS):\n",
    "    with tqdm(dl_train, unit=\" batch\") as tepoch:\n",
    "        for batch in tepoch:\n",
    "            opt.zero_grad()\n",
    "            x, y = batch\n",
    "            x = x.to(\"cuda\")\n",
    "            y_age_group = y[0].to(\"cuda\")\n",
    "            y_age = y[1].to(\"cuda\")\n",
    "            y_age_kl: torch.Tensor = y[2].to(\"cuda\")\n",
    "            \n",
    "            knowledge = model_age_group(x, knowledge_age_group)\n",
    "            loss_age_group: torch.Tensor = kl(F.log_softmax(knowledge, dim=-1), y_age_group)\n",
    "\n",
    "            knowledge = F.softmax(knowledge, dim=-1)\n",
    "            out_age = model_age(x, knowledge)\n",
    "            loss_age_kl: torch.Tensor = kl(F.log_softmax(out_age, dim=-1), y_age_kl)\n",
    "\n",
    "            out = F.softmax(out_age, dim=-1)\n",
    "            out = AgeConversion.EVAge(out).to(\"cuda\")\n",
    "            loss_age: torch.Tensor = torch.mean(torch.abs(out - y_age))\n",
    "\n",
    "            loss = loss_age_group + loss_age_kl + loss_age\n",
    "            loss.backward()\n",
    "            opt.step()\n",
    "            scheduler.step()\n",
    "\n",
    "            tepoch.set_postfix(loss_age_group=loss_age_group.detach().cpu().numpy(), \n",
    "                                loss_age=loss_age.detach().cpu().numpy(), \n",
    "                                loss_age_kl=loss_age_kl.detach().cpu().numpy())\n",
    "\n",
    "    def forward_function(x):\n",
    "        knowledge_age_group = torch.tensor([[0.125]*8]*len(x), requires_grad=False).float().to(\"cuda\")\n",
    "        knowledge = model_age_group(x, knowledge_age_group)\n",
    "        knowledge = F.softmax(knowledge, dim=-1)\n",
    "        out = model_age(x, knowledge)\n",
    "        out = F.softmax(out, dim=-1)\n",
    "        return out\n",
    "\n",
    "    mae, val_aar, val_aar_old = validator.validate_ext(forward_function)\n",
    "    print(mae, val_aar, val_aar_old)\n",
    "\n",
    "    if val_aar > best_val_aar:\n",
    "        best_val_aar = val_aar\n",
    "        torch.save(model_age_group.state_dict(), \"./model_age_group_film_feature.pt\")\n",
    "        torch.save(model_age.state_dict(), \"./model_age_film_feature.pt\")\n",
    "        print(\"Saved model\")"
   ]
  },
  {
   "cell_type": "code",
   "execution_count": 5,
   "metadata": {},
   "outputs": [],
   "source": [
    "####################################################\n",
    "EPOCHS = 12\n",
    "####################################################\n",
    "\n",
    "dl_train = dm_train.get_balanced_class_dataloader(class_ranges=[(0, 11), (11, 21), (21, 31), (31, 41), (41, 51), (51, 61), (61, 71), (71, 91)], \n",
    "                                                  batch_size=128, num_workers=8, prefetch_factor=4, pin_memory=True)\n",
    "\n",
    "model_age_group.load_state_dict(torch.load(\"./model_age_group_film_feature_mae2.pt\"))\n",
    "model_age_group.requires_grad_(False)\n",
    "model_age_group.fc0.requires_grad_(True)\n",
    "model_age.load_state_dict(torch.load(\"./model_age_film_feature_mae2.pt\"))\n",
    "opt = optim.SGD(set([*model_age_group.fc0.parameters()]), lr=0.1, weight_decay=5e-4)\n",
    "scheduler = optim.lr_scheduler.OneCycleLR(opt, max_lr=0.1, steps_per_epoch=len(dl_train), epochs=EPOCHS, three_phase=True)"
   ]
  },
  {
   "cell_type": "code",
   "execution_count": 6,
   "metadata": {},
   "outputs": [
    {
     "name": "stderr",
     "output_type": "stream",
     "text": [
      "100%|██████████| 4493/4493 [04:05<00:00, 18.28 batch/s]\n"
     ]
    },
    {
     "name": "stdout",
     "output_type": "stream",
     "text": [
      "tensor(2.1877, dtype=torch.float64) tensor(4.1033, dtype=torch.float64) tensor(5.2903, dtype=torch.float64)\n"
     ]
    }
   ],
   "source": [
    "def forward_function(x):\n",
    "    knowledge_age_group = torch.tensor([[0.125]*8]*len(x), requires_grad=False).float().to(\"cuda\")\n",
    "    knowledge = model_age_group(x, knowledge_age_group)\n",
    "    knowledge = F.softmax(knowledge, dim=-1)\n",
    "    out = model_age(x, knowledge)\n",
    "    out = F.softmax(out, dim=-1)\n",
    "    return out\n",
    "\n",
    "mae, val_aar, val_aar_old = validator.validate_ext(forward_function)\n",
    "print(mae, val_aar, val_aar_old)"
   ]
  },
  {
   "cell_type": "code",
   "execution_count": 7,
   "metadata": {},
   "outputs": [
    {
     "name": "stderr",
     "output_type": "stream",
     "text": [
      "100%|██████████| 4165/4165 [16:34<00:00,  4.19 batch/s, loss_age=6.585244, loss_age_kl=2.4504682014628902] \n",
      "100%|██████████| 4493/4493 [03:40<00:00, 20.41 batch/s]\n"
     ]
    },
    {
     "name": "stdout",
     "output_type": "stream",
     "text": [
      "tensor(2.7673, dtype=torch.float64) tensor(4.5907, dtype=torch.float64) tensor(5.4681, dtype=torch.float64)\n",
      "Saved model\n"
     ]
    },
    {
     "name": "stderr",
     "output_type": "stream",
     "text": [
      "100%|██████████| 4165/4165 [16:14<00:00,  4.28 batch/s, loss_age=7.8378787, loss_age_kl=2.7378672976370315]\n",
      "100%|██████████| 4493/4493 [03:37<00:00, 20.62 batch/s]\n"
     ]
    },
    {
     "name": "stdout",
     "output_type": "stream",
     "text": [
      "tensor(2.5560, dtype=torch.float64) tensor(4.3494, dtype=torch.float64) tensor(5.4120, dtype=torch.float64)\n"
     ]
    },
    {
     "name": "stderr",
     "output_type": "stream",
     "text": [
      "100%|██████████| 4165/4165 [16:36<00:00,  4.18 batch/s, loss_age=7.7002974, loss_age_kl=3.0955367459361915]\n",
      "100%|██████████| 4493/4493 [03:54<00:00, 19.19 batch/s]\n"
     ]
    },
    {
     "name": "stdout",
     "output_type": "stream",
     "text": [
      "tensor(3.0097, dtype=torch.float64) tensor(3.6881, dtype=torch.float64) tensor(4.7903, dtype=torch.float64)\n"
     ]
    },
    {
     "name": "stderr",
     "output_type": "stream",
     "text": [
      "100%|██████████| 4165/4165 [16:21<00:00,  4.24 batch/s, loss_age=5.3370433, loss_age_kl=2.2042593231870384]\n",
      "100%|██████████| 4493/4493 [03:37<00:00, 20.64 batch/s]\n"
     ]
    },
    {
     "name": "stdout",
     "output_type": "stream",
     "text": [
      "tensor(2.8533, dtype=torch.float64) tensor(4.2150, dtype=torch.float64) tensor(5.1910, dtype=torch.float64)\n"
     ]
    },
    {
     "name": "stderr",
     "output_type": "stream",
     "text": [
      "100%|██████████| 4165/4165 [16:58<00:00,  4.09 batch/s, loss_age=8.188282, loss_age_kl=3.106207133587381]  \n",
      "100%|██████████| 4493/4493 [04:18<00:00, 17.37 batch/s]\n"
     ]
    },
    {
     "name": "stdout",
     "output_type": "stream",
     "text": [
      "tensor(2.6671, dtype=torch.float64) tensor(4.4517, dtype=torch.float64) tensor(5.4164, dtype=torch.float64)\n"
     ]
    },
    {
     "name": "stderr",
     "output_type": "stream",
     "text": [
      "100%|██████████| 4165/4165 [17:19<00:00,  4.01 batch/s, loss_age=6.777302, loss_age_kl=2.4770088480015606] \n",
      "100%|██████████| 4493/4493 [04:09<00:00, 17.98 batch/s]\n"
     ]
    },
    {
     "name": "stdout",
     "output_type": "stream",
     "text": [
      "tensor(2.8377, dtype=torch.float64) tensor(4.2056, dtype=torch.float64) tensor(5.1794, dtype=torch.float64)\n"
     ]
    },
    {
     "name": "stderr",
     "output_type": "stream",
     "text": [
      "100%|██████████| 4165/4165 [16:29<00:00,  4.21 batch/s, loss_age=4.8236623, loss_age_kl=1.9388921442744944]\n",
      "100%|██████████| 4493/4493 [03:38<00:00, 20.55 batch/s]\n"
     ]
    },
    {
     "name": "stdout",
     "output_type": "stream",
     "text": [
      "tensor(2.5664, dtype=torch.float64) tensor(4.7583, dtype=torch.float64) tensor(5.6477, dtype=torch.float64)\n",
      "Saved model\n"
     ]
    },
    {
     "name": "stderr",
     "output_type": "stream",
     "text": [
      "100%|██████████| 4165/4165 [16:14<00:00,  4.27 batch/s, loss_age=7.1970925, loss_age_kl=2.4391937852347922]\n",
      "100%|██████████| 4493/4493 [03:37<00:00, 20.66 batch/s]\n"
     ]
    },
    {
     "name": "stdout",
     "output_type": "stream",
     "text": [
      "tensor(2.7302, dtype=torch.float64) tensor(4.7988, dtype=torch.float64) tensor(5.5842, dtype=torch.float64)\n",
      "Saved model\n"
     ]
    },
    {
     "name": "stderr",
     "output_type": "stream",
     "text": [
      "100%|██████████| 4165/4165 [16:33<00:00,  4.19 batch/s, loss_age=6.369862, loss_age_kl=2.2057832807094995] \n",
      "100%|██████████| 4493/4493 [03:51<00:00, 19.43 batch/s]\n"
     ]
    },
    {
     "name": "stdout",
     "output_type": "stream",
     "text": [
      "tensor(2.6997, dtype=torch.float64) tensor(4.8349, dtype=torch.float64) tensor(5.6100, dtype=torch.float64)\n",
      "Saved model\n"
     ]
    },
    {
     "name": "stderr",
     "output_type": "stream",
     "text": [
      "100%|██████████| 4165/4165 [16:16<00:00,  4.26 batch/s, loss_age=6.355127, loss_age_kl=2.3655850088132357] \n",
      "100%|██████████| 4493/4493 [03:39<00:00, 20.47 batch/s]\n"
     ]
    },
    {
     "name": "stdout",
     "output_type": "stream",
     "text": [
      "tensor(2.7055, dtype=torch.float64) tensor(4.8900, dtype=torch.float64) tensor(5.6563, dtype=torch.float64)\n",
      "Saved model\n"
     ]
    },
    {
     "name": "stderr",
     "output_type": "stream",
     "text": [
      "100%|██████████| 4165/4165 [16:07<00:00,  4.30 batch/s, loss_age=5.7807307, loss_age_kl=2.1856408747893092]\n",
      "100%|██████████| 4493/4493 [03:38<00:00, 20.54 batch/s]\n"
     ]
    },
    {
     "name": "stdout",
     "output_type": "stream",
     "text": [
      "tensor(2.7004, dtype=torch.float64) tensor(4.9417, dtype=torch.float64) tensor(5.6821, dtype=torch.float64)\n",
      "Saved model\n"
     ]
    },
    {
     "name": "stderr",
     "output_type": "stream",
     "text": [
      "100%|██████████| 4165/4165 [16:31<00:00,  4.20 batch/s, loss_age=6.8138914, loss_age_kl=2.590067391179307] \n",
      "100%|██████████| 4493/4493 [03:49<00:00, 19.55 batch/s]\n"
     ]
    },
    {
     "name": "stdout",
     "output_type": "stream",
     "text": [
      "tensor(2.6964, dtype=torch.float64) tensor(4.9640, dtype=torch.float64) tensor(5.6978, dtype=torch.float64)\n",
      "Saved model\n"
     ]
    }
   ],
   "source": [
    "best_val_aar = val_aar\n",
    "knowledge_age_group = torch.tensor([[0.125]*8]*128, requires_grad=False).float().to(\"cuda\")\n",
    "\n",
    "for e in range(EPOCHS):\n",
    "    with tqdm(dl_train, unit=\" batch\") as tepoch:\n",
    "        for batch in tepoch:\n",
    "            opt.zero_grad()\n",
    "            x, y = batch\n",
    "            x = x.to(\"cuda\")\n",
    "            y_age_group = y[0].to(\"cuda\")\n",
    "            y_age = y[1].to(\"cuda\")\n",
    "            y_age_kl: torch.Tensor = y[2].to(\"cuda\")\n",
    "            \n",
    "            knowledge = model_age_group.forward_detach(x, knowledge_age_group)\n",
    "            #loss_age_group: torch.Tensor = kl(F.log_softmax(knowledge, dim=-1), y_age_group)\n",
    "\n",
    "            knowledge = F.softmax(knowledge, dim=-1)\n",
    "            out_age = model_age(x, knowledge)\n",
    "            loss_age_kl: torch.Tensor = kl(F.log_softmax(out_age, dim=-1), y_age_kl)\n",
    "\n",
    "            out = F.softmax(out_age, dim=-1)\n",
    "            out = AgeConversion.EVAge(out).to(\"cuda\")\n",
    "            loss_age: torch.Tensor = torch.mean(torch.abs(out - y_age))\n",
    "\n",
    "            loss = loss_age_kl + (torch.square(loss_age - mae) if loss_age > mae else torch.tensor(0)) # + loss_age_group + loss_age_kl\n",
    "            loss.backward()\n",
    "            opt.step()\n",
    "            scheduler.step()\n",
    "\n",
    "            tepoch.set_postfix(#loss_age_group=loss_age_group.detach().cpu().numpy(), \n",
    "                                loss_age=loss_age.detach().cpu().numpy(),\n",
    "                                loss_age_kl=loss_age_kl.detach().cpu().numpy())\n",
    "\n",
    "    def forward_function(x):\n",
    "        knowledge_age_group = torch.tensor([[0.125]*8]*len(x), requires_grad=False).float().to(\"cuda\")\n",
    "        knowledge = model_age_group(x, knowledge_age_group)\n",
    "        knowledge = F.softmax(knowledge, dim=-1)\n",
    "        out = model_age(x, knowledge)\n",
    "        out = F.softmax(out, dim=-1)\n",
    "        return out\n",
    "\n",
    "    mae_, val_aar, val_aar_old = validator.validate_ext(forward_function)\n",
    "    print(mae_, val_aar, val_aar_old)\n",
    "\n",
    "    if val_aar > best_val_aar:\n",
    "        best_val_aar = val_aar\n",
    "        torch.save(model_age_group.state_dict(), \"./model_age_group_film_classifier_middle.pt\")\n",
    "        torch.save(model_age.state_dict(), \"./model_age_film_classifier_middle.pt\")\n",
    "        print(\"Saved model\")"
   ]
  }
 ],
 "metadata": {
  "kernelspec": {
   "display_name": "AV_project",
   "language": "python",
   "name": "python3"
  },
  "language_info": {
   "codemirror_mode": {
    "name": "ipython",
    "version": 3
   },
   "file_extension": ".py",
   "mimetype": "text/x-python",
   "name": "python",
   "nbconvert_exporter": "python",
   "pygments_lexer": "ipython3",
   "version": "3.8.10"
  },
  "orig_nbformat": 4,
  "vscode": {
   "interpreter": {
    "hash": "cb944c2b40f40877ef78d83ae6cee61e5f12ef7b90668598de820bc310ff39a2"
   }
  }
 },
 "nbformat": 4,
 "nbformat_minor": 2
}
