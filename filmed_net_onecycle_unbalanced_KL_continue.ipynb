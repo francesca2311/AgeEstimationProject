{
 "cells": [
  {
   "cell_type": "code",
   "execution_count": 1,
   "metadata": {},
   "outputs": [
    {
     "name": "stderr",
     "output_type": "stream",
     "text": [
      "c:\\Users\\Gio\\.conda\\envs\\AV_project\\lib\\site-packages\\tqdm\\auto.py:22: TqdmWarning: IProgress not found. Please update jupyter and ipywidgets. See https://ipywidgets.readthedocs.io/en/stable/user_install.html\n",
      "  from .autonotebook import tqdm as notebook_tqdm\n"
     ]
    }
   ],
   "source": [
    "from typing import List\n",
    "from Dataset.CustomDataset import AgeGroupAndAgeDataset, StandardDataset, AgeGroupAndAgeDatasetKL, AgeGroupKLAndAgeDatasetKL\n",
    "from Dataset.CustomDataLoaders import CustomDataLoader\n",
    "from sklearn.model_selection import train_test_split\n",
    "from tqdm import tqdm\n",
    "from Utils import AAR, CSVUtils, AgeConversion\n",
    "from Utils.Validator import Validator"
   ]
  },
  {
   "cell_type": "code",
   "execution_count": 2,
   "metadata": {},
   "outputs": [],
   "source": [
    "#Caricamento del dataframe\n",
    "df = CSVUtils.get_df_from_csv(\"./training_caip_contest.csv\", \"./training_caip_contest/\")"
   ]
  },
  {
   "cell_type": "code",
   "execution_count": 3,
   "metadata": {},
   "outputs": [],
   "source": [
    "df_train, df_val = train_test_split(df, test_size=0.25, random_state=42)\n",
    "df_train = df_train.reset_index(drop=True)\n",
    "df_val = df_val.reset_index(drop=True)\n",
    "#########################\n",
    "import pandas as pd\n",
    "df = CSVUtils.get_df_from_csv(\"./training_caip_contest.csv\", \"./training_caip_contest/\")\n",
    "df_train, df_val = train_test_split(df, test_size=0.25, random_state=42)\n",
    "aug = CSVUtils.get_df_from_csv(\"./augumentation_simple.csv\", \"./newAugmentationDataset/\")\n",
    "df_train = pd.concat([df_train, aug], ignore_index=True)\n",
    "df_train = df_train.reset_index(drop=True)\n",
    "df_val = df_val.reset_index(drop=True)\n",
    "#########################\n",
    "\n",
    "from torchvision import transforms\n",
    "import torch\n",
    "\n",
    "transform_func = transforms.Compose([\n",
    "    transforms.Resize(224),\n",
    "    transforms.RandomHorizontalFlip(),\n",
    "    transforms.ColorJitter(0.1, 0.1, 0.1, 0.1),\n",
    "    transforms.RandAugment(2, 9),\n",
    "    transforms.PILToTensor(),\n",
    "    transforms.ConvertImageDtype(torch.float),\n",
    "    transforms.Normalize(\n",
    "        mean=[0.485, 0.456, 0.406],\n",
    "        std=[0.229, 0.224, 0.225]\n",
    "    ),\n",
    "])\n",
    "\n",
    "transform_func_val = transforms.Compose([\n",
    "    transforms.Resize(224),\n",
    "    transforms.PILToTensor(),\n",
    "    transforms.ConvertImageDtype(torch.float),\n",
    "    transforms.Normalize(\n",
    "        mean=[0.485, 0.456, 0.406],\n",
    "        std=[0.229, 0.224, 0.225]\n",
    "    ),\n",
    "])\n",
    "\n",
    "label_map_v = CSVUtils.get_label_map_vector()\n",
    "cd_train = AgeGroupKLAndAgeDatasetKL(df_train, path_col=\"path\", label_col=\"age\", label_function=\"Linear\", \n",
    "                                    label_map_vector=label_map_v, transform_func=transform_func)\n",
    "\n",
    "cd_val = StandardDataset(df_val, path_col=\"path\", label_col=\"age\", label_function=\"CAE\", transform_func=transform_func_val)\n",
    "cd_val.set_n_classes(81)\n",
    "cd_val.set_starting_class(1)\n",
    "validator = Validator(cd_val, AgeConversion.EVAge, 32, num_workers=6, prefetch_factor=4)\n",
    "\n",
    "dm_train = CustomDataLoader(cd_train)\n",
    "dl_train = dm_train.get_unbalanced_dataloader(batch_size=128, shuffle=True, drop_last=True, num_workers=16, prefetch_factor=4, pin_memory=True)"
   ]
  },
  {
   "cell_type": "code",
   "execution_count": 4,
   "metadata": {},
   "outputs": [],
   "source": [
    "from ResNetFilmed.resnet import ResNetFiLMed, BackBone\n",
    "import torch\n",
    "from torch import optim\n",
    "import torch.nn.functional as F\n",
    "from torch import nn\n",
    "\n",
    "####################################################\n",
    "EPOCHS = 12\n",
    "####################################################\n",
    "\n",
    "backbone = BackBone(pretrained=True, freeze=False)\n",
    "backbone.train()\n",
    "model_age_group = ResNetFiLMed(backbone, 8)\n",
    "model_age_group.train()\n",
    "model_age = ResNetFiLMed(backbone, 81)\n",
    "model_age.train()\n",
    "model_age_group.load_state_dict(torch.load(\"./model_age_group_film_feature_mae2.pt\"))\n",
    "model_age.load_state_dict(torch.load(\"./model_age_film_feature_mae2.pt\"))\n",
    "\n",
    "opt = optim.SGD(set([*model_age_group.parameters(), *model_age.parameters()]), lr=1e-4, weight_decay=1e-4)\n",
    "# scheduler = optim.lr_scheduler.OneCycleLR(opt, max_lr=0.1, steps_per_epoch=len(dl_train), epochs=EPOCHS, three_phase=True)\n",
    "kl = nn.KLDivLoss(reduction=\"batchmean\")"
   ]
  },
  {
   "cell_type": "code",
   "execution_count": 5,
   "metadata": {},
   "outputs": [
    {
     "name": "stderr",
     "output_type": "stream",
     "text": [
      "100%|██████████| 4165/4165 [17:40<00:00,  3.93 batch/s, loss_age=2.890269, loss_age_group=0.5083064380262847, loss_age_kl=1.1994758250549027]  \n",
      "100%|██████████| 4493/4493 [02:55<00:00, 25.66 batch/s]\n"
     ]
    },
    {
     "name": "stdout",
     "output_type": "stream",
     "text": [
      "tensor(2.6681, dtype=torch.float64) tensor(6.4772, dtype=torch.float64) tensor(6.7083, dtype=torch.float64)\n",
      "Saved model\n"
     ]
    },
    {
     "name": "stderr",
     "output_type": "stream",
     "text": [
      "100%|██████████| 4165/4165 [17:48<00:00,  3.90 batch/s, loss_age=2.2746358, loss_age_group=0.4209663948062587, loss_age_kl=1.0847831677587283] \n",
      "100%|██████████| 4493/4493 [02:44<00:00, 27.30 batch/s]\n"
     ]
    },
    {
     "name": "stdout",
     "output_type": "stream",
     "text": [
      "tensor(2.7984, dtype=torch.float64) tensor(6.3034, dtype=torch.float64) tensor(6.4783, dtype=torch.float64)\n"
     ]
    },
    {
     "name": "stderr",
     "output_type": "stream",
     "text": [
      "100%|██████████| 4165/4165 [17:19<00:00,  4.01 batch/s, loss_age=2.5777729, loss_age_group=0.3593332837650862, loss_age_kl=1.139160438505708]  \n",
      "100%|██████████| 4493/4493 [02:43<00:00, 27.42 batch/s]\n"
     ]
    },
    {
     "name": "stdout",
     "output_type": "stream",
     "text": [
      "tensor(2.8327, dtype=torch.float64) tensor(6.3468, dtype=torch.float64) tensor(6.4871, dtype=torch.float64)\n"
     ]
    },
    {
     "name": "stderr",
     "output_type": "stream",
     "text": [
      " 50%|█████     | 2089/4165 [09:10<08:39,  4.00 batch/s, loss_age=2.5156956, loss_age_group=0.39369142277514557, loss_age_kl=1.0934000766383138]"
     ]
    }
   ],
   "source": [
    "best_val_aar = -1\n",
    "knowledge_age_group = torch.tensor([[0.125]*8]*128, requires_grad=False).float().to(\"cuda\")\n",
    "\n",
    "for e in range(EPOCHS):\n",
    "    with tqdm(dl_train, unit=\" batch\") as tepoch:\n",
    "        for batch in tepoch:\n",
    "            opt.zero_grad()\n",
    "            x, y = batch\n",
    "            x = x.to(\"cuda\")\n",
    "            y_age_group = y[0].to(\"cuda\")\n",
    "            y_age = y[1].to(\"cuda\")\n",
    "            y_age_kl: torch.Tensor = y[2].to(\"cuda\")\n",
    "            \n",
    "            knowledge = model_age_group(x, knowledge_age_group)\n",
    "            loss_age_group: torch.Tensor = kl(F.log_softmax(knowledge, dim=-1), y_age_group)\n",
    "\n",
    "            knowledge = F.softmax(knowledge, dim=-1)\n",
    "            out_age = model_age(x, knowledge)\n",
    "            loss_age_kl: torch.Tensor = kl(F.log_softmax(out_age, dim=-1), y_age_kl)\n",
    "\n",
    "            out = F.softmax(out_age, dim=-1)\n",
    "            out = AgeConversion.EVAge(out).to(\"cuda\")\n",
    "            loss_age: torch.Tensor = torch.mean(torch.abs(out - y_age))\n",
    "\n",
    "            loss = loss_age_group + loss_age_kl + loss_age\n",
    "            loss.backward()\n",
    "            opt.step()\n",
    "            # scheduler.step()\n",
    "\n",
    "            tepoch.set_postfix(loss_age_group=loss_age_group.detach().cpu().numpy(), \n",
    "                                loss_age=loss_age.detach().cpu().numpy(), \n",
    "                                loss_age_kl=loss_age_kl.detach().cpu().numpy())\n",
    "\n",
    "    def forward_function(x):\n",
    "        knowledge_age_group = torch.tensor([[0.125]*8]*len(x), requires_grad=False).float().to(\"cuda\")\n",
    "        knowledge = model_age_group(x, knowledge_age_group)\n",
    "        knowledge = F.softmax(knowledge, dim=-1)\n",
    "        out = model_age(x, knowledge)\n",
    "        out = F.softmax(out, dim=-1)\n",
    "        return out\n",
    "\n",
    "    mae, val_aar, val_aar_old = validator.validate_ext(forward_function)\n",
    "    print(mae, val_aar, val_aar_old)\n",
    "\n",
    "    if val_aar > best_val_aar:\n",
    "        best_val_aar = val_aar\n",
    "        torch.save(model_age_group.state_dict(), \"./model_age_group_film_feature.pt\")\n",
    "        torch.save(model_age.state_dict(), \"./model_age_film_feature.pt\")\n",
    "        print(\"Saved model\")"
   ]
  },
  {
   "cell_type": "code",
   "execution_count": 5,
   "metadata": {},
   "outputs": [],
   "source": [
    "####################################################\n",
    "EPOCHS = 12\n",
    "####################################################\n",
    "\n",
    "dl_train = dm_train.get_balanced_class_dataloader(class_ranges=[(0, 11), (11, 21), (21, 31), (31, 41), (41, 51), (51, 61), (61, 71), (71, 91)], \n",
    "                                                  batch_size=128, num_workers=16, prefetch_factor=4, pin_memory=True)\n",
    "\n",
    "model_age_group.load_state_dict(torch.load(\"./model_age_group_film_feature.pt\"))\n",
    "model_age_group.requires_grad_(False)\n",
    "model_age.load_state_dict(torch.load(\"./model_age_film_feature.pt\"))\n",
    "opt = optim.SGD(set([*model_age.fc0.parameters()]), lr=0.1, weight_decay=5e-4)\n",
    "scheduler = optim.lr_scheduler.OneCycleLR(opt, max_lr=0.1, steps_per_epoch=len(dl_train), epochs=EPOCHS, three_phase=True)"
   ]
  },
  {
   "cell_type": "code",
   "execution_count": 6,
   "metadata": {},
   "outputs": [
    {
     "name": "stderr",
     "output_type": "stream",
     "text": [
      "100%|██████████| 4493/4493 [02:53<00:00, 25.94 batch/s]\n"
     ]
    },
    {
     "name": "stdout",
     "output_type": "stream",
     "text": [
      "tensor(2.1877, dtype=torch.float64) tensor(4.1028, dtype=torch.float64) tensor(5.3027, dtype=torch.float64)\n"
     ]
    }
   ],
   "source": [
    "def forward_function(x):\n",
    "    knowledge_age_group = torch.tensor([[0.125]*8]*len(x), requires_grad=False).float().to(\"cuda\")\n",
    "    knowledge = model_age_group(x, knowledge_age_group)\n",
    "    knowledge = F.softmax(knowledge, dim=-1)\n",
    "    out = model_age(x, knowledge)\n",
    "    out = F.softmax(out, dim=-1)\n",
    "    return out\n",
    "\n",
    "mae, val_aar, val_aar_old = validator.validate_ext(forward_function)\n",
    "print(mae, val_aar, val_aar_old)"
   ]
  },
  {
   "cell_type": "code",
   "execution_count": 7,
   "metadata": {},
   "outputs": [
    {
     "name": "stderr",
     "output_type": "stream",
     "text": [
      "100%|██████████| 4165/4165 [09:20<00:00,  7.43 batch/s, loss_age=3.5266418, loss_age_kl=1.5243393869666515]\n",
      "100%|██████████| 4493/4493 [02:48<00:00, 26.74 batch/s]\n"
     ]
    },
    {
     "name": "stdout",
     "output_type": "stream",
     "text": [
      "tensor(3.6169, dtype=torch.float64) tensor(5.8213, dtype=torch.float64) tensor(5.7452, dtype=torch.float64)\n",
      "Saved model\n"
     ]
    },
    {
     "name": "stderr",
     "output_type": "stream",
     "text": [
      "100%|██████████| 4165/4165 [08:43<00:00,  7.96 batch/s, loss_age=3.3804574, loss_age_kl=1.783967161636757] \n",
      "100%|██████████| 4493/4493 [02:48<00:00, 26.59 batch/s]\n"
     ]
    },
    {
     "name": "stdout",
     "output_type": "stream",
     "text": [
      "tensor(5.0291, dtype=torch.float64) tensor(3.3203, dtype=torch.float64) tensor(2.8767, dtype=torch.float64)\n"
     ]
    },
    {
     "name": "stderr",
     "output_type": "stream",
     "text": [
      "100%|██████████| 4165/4165 [08:27<00:00,  8.20 batch/s, loss_age=3.2380686, loss_age_kl=1.5700641582820767]\n",
      "100%|██████████| 4493/4493 [02:49<00:00, 26.47 batch/s]\n"
     ]
    },
    {
     "name": "stdout",
     "output_type": "stream",
     "text": [
      "tensor(3.3084, dtype=torch.float64) tensor(6.4298, dtype=torch.float64) tensor(6.3309, dtype=torch.float64)\n",
      "Saved model\n"
     ]
    },
    {
     "name": "stderr",
     "output_type": "stream",
     "text": [
      "100%|██████████| 4165/4165 [08:25<00:00,  8.24 batch/s, loss_age=3.6233633, loss_age_kl=1.5085726865062143]\n",
      "100%|██████████| 4493/4493 [02:53<00:00, 25.89 batch/s]\n"
     ]
    },
    {
     "name": "stdout",
     "output_type": "stream",
     "text": [
      "tensor(3.7153, dtype=torch.float64) tensor(5.8173, dtype=torch.float64) tensor(5.6116, dtype=torch.float64)\n"
     ]
    },
    {
     "name": "stderr",
     "output_type": "stream",
     "text": [
      "100%|██████████| 4165/4165 [08:28<00:00,  8.20 batch/s, loss_age=3.285729, loss_age_kl=1.593172829883252]  \n",
      "100%|██████████| 4493/4493 [02:55<00:00, 25.58 batch/s]\n"
     ]
    },
    {
     "name": "stdout",
     "output_type": "stream",
     "text": [
      "tensor(3.9962, dtype=torch.float64) tensor(5.5720, dtype=torch.float64) tensor(5.3096, dtype=torch.float64)\n"
     ]
    },
    {
     "name": "stderr",
     "output_type": "stream",
     "text": [
      "100%|██████████| 4165/4165 [08:21<00:00,  8.30 batch/s, loss_age=3.0052576, loss_age_kl=1.4369356377463196]\n",
      "100%|██████████| 4493/4493 [02:46<00:00, 27.02 batch/s]\n"
     ]
    },
    {
     "name": "stdout",
     "output_type": "stream",
     "text": [
      "tensor(4.6541, dtype=torch.float64) tensor(4.6674, dtype=torch.float64) tensor(4.1351, dtype=torch.float64)\n"
     ]
    },
    {
     "name": "stderr",
     "output_type": "stream",
     "text": [
      "100%|██████████| 4165/4165 [08:04<00:00,  8.59 batch/s, loss_age=3.0094872, loss_age_kl=1.2553792592647954]\n",
      "100%|██████████| 4493/4493 [02:48<00:00, 26.74 batch/s]\n"
     ]
    },
    {
     "name": "stdout",
     "output_type": "stream",
     "text": [
      "tensor(3.8742, dtype=torch.float64) tensor(5.6839, dtype=torch.float64) tensor(5.3663, dtype=torch.float64)\n"
     ]
    },
    {
     "name": "stderr",
     "output_type": "stream",
     "text": [
      "100%|██████████| 4165/4165 [08:04<00:00,  8.59 batch/s, loss_age=3.143192, loss_age_kl=1.2920636570927277] \n",
      "100%|██████████| 4493/4493 [02:40<00:00, 28.02 batch/s]\n"
     ]
    },
    {
     "name": "stdout",
     "output_type": "stream",
     "text": [
      "tensor(3.7507, dtype=torch.float64) tensor(5.8628, dtype=torch.float64) tensor(5.6012, dtype=torch.float64)\n"
     ]
    },
    {
     "name": "stderr",
     "output_type": "stream",
     "text": [
      "100%|██████████| 4165/4165 [08:16<00:00,  8.39 batch/s, loss_age=3.1632326, loss_age_kl=1.3802346394571026]\n",
      "100%|██████████| 4493/4493 [02:51<00:00, 26.25 batch/s]\n"
     ]
    },
    {
     "name": "stdout",
     "output_type": "stream",
     "text": [
      "tensor(3.5680, dtype=torch.float64) tensor(6.1501, dtype=torch.float64) tensor(5.9457, dtype=torch.float64)\n"
     ]
    },
    {
     "name": "stderr",
     "output_type": "stream",
     "text": [
      "  2%|▏         | 94/4165 [00:40<29:20,  2.31 batch/s, loss_age=3.267005, loss_age_kl=1.3268219145251972]   \n"
     ]
    },
    {
     "ename": "KeyboardInterrupt",
     "evalue": "",
     "output_type": "error",
     "traceback": [
      "\u001b[1;31m---------------------------------------------------------------------------\u001b[0m",
      "\u001b[1;31mKeyboardInterrupt\u001b[0m                         Traceback (most recent call last)",
      "Cell \u001b[1;32mIn[7], line 9\u001b[0m\n\u001b[0;32m      7\u001b[0m opt\u001b[39m.\u001b[39mzero_grad()\n\u001b[0;32m      8\u001b[0m x, y \u001b[39m=\u001b[39m batch\n\u001b[1;32m----> 9\u001b[0m x \u001b[39m=\u001b[39m x\u001b[39m.\u001b[39;49mto(\u001b[39m\"\u001b[39;49m\u001b[39mcuda\u001b[39;49m\u001b[39m\"\u001b[39;49m)\n\u001b[0;32m     10\u001b[0m y_age_group \u001b[39m=\u001b[39m y[\u001b[39m0\u001b[39m]\u001b[39m.\u001b[39mto(\u001b[39m\"\u001b[39m\u001b[39mcuda\u001b[39m\u001b[39m\"\u001b[39m)\n\u001b[0;32m     11\u001b[0m y_age \u001b[39m=\u001b[39m y[\u001b[39m1\u001b[39m]\u001b[39m.\u001b[39mto(\u001b[39m\"\u001b[39m\u001b[39mcuda\u001b[39m\u001b[39m\"\u001b[39m)\n",
      "\u001b[1;31mKeyboardInterrupt\u001b[0m: "
     ]
    }
   ],
   "source": [
    "best_val_aar = val_aar\n",
    "knowledge_age_group = torch.tensor([[0.125]*8]*128, requires_grad=False).float().to(\"cuda\")\n",
    "\n",
    "for e in range(EPOCHS):\n",
    "    with tqdm(dl_train, unit=\" batch\") as tepoch:\n",
    "        for batch in tepoch:\n",
    "            opt.zero_grad()\n",
    "            x, y = batch\n",
    "            x = x.to(\"cuda\")\n",
    "            y_age_group = y[0].to(\"cuda\")\n",
    "            y_age = y[1].to(\"cuda\")\n",
    "            y_age_kl: torch.Tensor = y[2].to(\"cuda\")\n",
    "            \n",
    "            knowledge = model_age_group(x, knowledge_age_group).detach()\n",
    "            #loss_age_group: torch.Tensor = kl(F.log_softmax(knowledge, dim=-1), y_age_group)\n",
    "\n",
    "            knowledge = F.softmax(knowledge, dim=-1)\n",
    "            out_age = model_age(x, knowledge)\n",
    "            loss_age_kl: torch.Tensor = kl(F.log_softmax(out_age, dim=-1), y_age_kl)\n",
    "\n",
    "            out = F.softmax(out_age, dim=-1)\n",
    "            out = AgeConversion.EVAge(out).to(\"cuda\")\n",
    "            loss_age: torch.Tensor = torch.mean(torch.abs(out - y_age))\n",
    "\n",
    "            loss = loss_age_kl + (torch.square(loss_age - mae) if loss_age > mae else torch.tensor(0)) # + loss_age_group + loss_age_kl\n",
    "            loss.backward()\n",
    "            opt.step()\n",
    "            scheduler.step()\n",
    "\n",
    "            tepoch.set_postfix(#loss_age_group=loss_age_group.detach().cpu().numpy(), \n",
    "                                loss_age=loss_age.detach().cpu().numpy(),\n",
    "                                loss_age_kl=loss_age_kl.detach().cpu().numpy())\n",
    "\n",
    "    def forward_function(x):\n",
    "        knowledge_age_group = torch.tensor([[0.125]*8]*len(x), requires_grad=False).float().to(\"cuda\")\n",
    "        knowledge = model_age_group(x, knowledge_age_group)\n",
    "        knowledge = F.softmax(knowledge, dim=-1)\n",
    "        out = model_age(x, knowledge)\n",
    "        out = F.softmax(out, dim=-1)\n",
    "        return out\n",
    "\n",
    "    mae_, val_aar, val_aar_old = validator.validate_ext(forward_function)\n",
    "    print(mae_, val_aar, val_aar_old)\n",
    "\n",
    "    if val_aar > best_val_aar:\n",
    "        best_val_aar = val_aar\n",
    "        torch.save(model_age_group.state_dict(), \"./model_age_group_film_classifier.pt\")\n",
    "        torch.save(model_age.state_dict(), \"./model_age_film_classifier.pt\")\n",
    "        print(\"Saved model\")"
   ]
  },
  {
   "cell_type": "code",
   "execution_count": null,
   "metadata": {},
   "outputs": [],
   "source": [
    "####################################################\n",
    "EPOCHS = 12\n",
    "####################################################\n",
    "\n",
    "dl_train = dm_train.get_balanced_class_dataloader(class_ranges=[(0, 11), (11, 21), (21, 31), (31, 41), (41, 51), (51, 61), (61, 71), (71, 91)], \n",
    "                                                  batch_size=128, num_workers=16, prefetch_factor=4, pin_memory=True)\n",
    "\n",
    "model_age_group.load_state_dict(torch.load(\"./model_age_group_film_classifier_6.pt\"))\n",
    "model_age_group.requires_grad_(False)\n",
    "model_age.load_state_dict(torch.load(\"./model_age_film_classifier_6.pt\"))\n",
    "opt = optim.SGD(set([*model_age.fc0.parameters()]), lr=0.1, weight_decay=5e-4)\n",
    "scheduler = optim.lr_scheduler.OneCycleLR(opt, max_lr=0.1, steps_per_epoch=len(dl_train), epochs=EPOCHS, three_phase=True)"
   ]
  },
  {
   "cell_type": "code",
   "execution_count": null,
   "metadata": {},
   "outputs": [
    {
     "name": "stderr",
     "output_type": "stream",
     "text": [
      "100%|██████████| 4493/4493 [02:43<00:00, 27.44 batch/s]\n"
     ]
    },
    {
     "name": "stdout",
     "output_type": "stream",
     "text": [
      "{0: tensor(3.4816, dtype=torch.float64), 1: tensor(4.1946, dtype=torch.float64), 2: tensor(3.5825, dtype=torch.float64), 3: tensor(3.7497, dtype=torch.float64), 4: tensor(3.9872, dtype=torch.float64), 5: tensor(3.1775, dtype=torch.float64), 6: tensor(2.8100, dtype=torch.float64), 7: tensor(3.2310, dtype=torch.float64)} tensor(3.6658, dtype=torch.float64) tensor(6.0273, dtype=torch.float64) tensor(5.8883, dtype=torch.float64)\n"
     ]
    }
   ],
   "source": [
    "def forward_function(x):\n",
    "    knowledge_age_group = torch.tensor([[0.125]*8]*len(x), requires_grad=False).float().to(\"cuda\")\n",
    "    knowledge = model_age_group(x, knowledge_age_group)\n",
    "    knowledge = F.softmax(knowledge, dim=-1)\n",
    "    out = model_age(x, knowledge)\n",
    "    out = F.softmax(out, dim=-1)\n",
    "    return out\n",
    "\n",
    "ae, mae, val_aar, val_aar_old = validator.validate_ext2(forward_function)\n",
    "print(ae, mae, val_aar, val_aar_old)"
   ]
  }
 ],
 "metadata": {
  "kernelspec": {
   "display_name": "AV_project",
   "language": "python",
   "name": "python3"
  },
  "language_info": {
   "codemirror_mode": {
    "name": "ipython",
    "version": 3
   },
   "file_extension": ".py",
   "mimetype": "text/x-python",
   "name": "python",
   "nbconvert_exporter": "python",
   "pygments_lexer": "ipython3",
   "version": "3.8.10"
  },
  "orig_nbformat": 4,
  "vscode": {
   "interpreter": {
    "hash": "cb944c2b40f40877ef78d83ae6cee61e5f12ef7b90668598de820bc310ff39a2"
   }
  }
 },
 "nbformat": 4,
 "nbformat_minor": 2
}
