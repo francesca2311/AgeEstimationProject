{
 "cells": [
  {
   "cell_type": "code",
   "execution_count": 1,
   "metadata": {},
   "outputs": [
    {
     "name": "stderr",
     "output_type": "stream",
     "text": [
      "c:\\Users\\Gio\\.conda\\envs\\AV_project\\lib\\site-packages\\tqdm\\auto.py:22: TqdmWarning: IProgress not found. Please update jupyter and ipywidgets. See https://ipywidgets.readthedocs.io/en/stable/user_install.html\n",
      "  from .autonotebook import tqdm as notebook_tqdm\n"
     ]
    }
   ],
   "source": [
    "from typing import List\n",
    "from Dataset.CustomDataset import AgeGroupAndAgeDataset, StandardDataset, AgeDatasetKL\n",
    "from Dataset.CustomDataLoaders import CustomDataLoader\n",
    "from sklearn.model_selection import train_test_split\n",
    "from tqdm import tqdm\n",
    "from Utils import AAR, CSVUtils, AgeConversion\n",
    "from Utils.Validator import Validator"
   ]
  },
  {
   "cell_type": "code",
   "execution_count": 2,
   "metadata": {},
   "outputs": [],
   "source": [
    "#########################\n",
    "import pandas as pd\n",
    "df = CSVUtils.get_df_from_csv(\"./training_caip_contest.csv\", \"./training_caip_contest/\")\n",
    "df_train, df_val = train_test_split(df, test_size=0.25, random_state=42)\n",
    "aug = CSVUtils.get_df_from_csv(\"./augumentation_balanced_remove.csv\", \"./newAugmentationDataset/\")\n",
    "df_train_aug = pd.concat([df_train, aug], ignore_index=True)\n",
    "df_train_aug = df_train_aug.reset_index(drop=True)\n",
    "df_train = df_train.reset_index(drop=True)\n",
    "df_val = df_val.reset_index(drop=True)\n",
    "#########################\n",
    "\n",
    "from torchvision import transforms\n",
    "import torch\n",
    "import numpy as np\n",
    "\n",
    "transform_func = transforms.Compose([\n",
    "    transforms.Resize(224),\n",
    "    transforms.RandomHorizontalFlip(),\n",
    "    transforms.ColorJitter(0.1, 0.1, 0.1, 0.1),\n",
    "    transforms.RandAugment(2, 9),\n",
    "    transforms.PILToTensor(),\n",
    "    transforms.ConvertImageDtype(torch.float),\n",
    "    transforms.Normalize(\n",
    "        mean=[0.485, 0.456, 0.406],\n",
    "        std=[0.229, 0.224, 0.225]\n",
    "    ),\n",
    "])\n",
    "\n",
    "transform_func_val = transforms.Compose([\n",
    "    transforms.Resize(224),\n",
    "    transforms.PILToTensor(),\n",
    "    transforms.ConvertImageDtype(torch.float),\n",
    "    transforms.Normalize(\n",
    "        mean=[0.485, 0.456, 0.406],\n",
    "        std=[0.229, 0.224, 0.225]\n",
    "    ),\n",
    "])\n",
    "\n",
    "# Implementazione di un Dataset utilizzando \"CustomDataset\" per l'architettura con Film\n",
    "cd_train = AgeDatasetKL(df_train, path_col=\"path\", label_col=\"age\", label_function=\"Linear\", \n",
    "                        transform_func=transform_func)\n",
    "# Implementazione di un Dataset utilizzando \"CustomDataset\" per l'architettura con Film\n",
    "cd_train_balanced = AgeDatasetKL(df_train_aug, path_col=\"path\", label_col=\"age\", label_function=\"Linear\", \n",
    "                                transform_func=transform_func)\n",
    "cd_train.set_n_classes(81)\n",
    "cd_train.set_starting_class(1)\n",
    "cd_train_balanced.set_n_classes(81)\n",
    "cd_train_balanced.set_starting_class(1)\n",
    "dm_train = CustomDataLoader(cd_train)\n",
    "dm_train_balanced = CustomDataLoader(cd_train_balanced)\n",
    "dl_train = dm_train.get_unbalanced_dataloader(batch_size=64, shuffle=True, drop_last=True, num_workers=4, prefetch_factor=2)\n",
    "dl_train_balanced, sampler = dm_train_balanced.get_balanced_class_dataloader2(class_ranges=[(0, 11), (11, 21), (21, 31), (31, 41), (41, 51), (51, 61), (61, 71), (71, 91)], \n",
    "                                                                            batch_size=64, num_workers=4, prefetch_factor=2)\n",
    "sampler.n_batches = len(dl_train)\n",
    "sampler.p = np.array([0.23, 0.11, 0.11, 0.11, 0.11, 0.11, 0.11, 0.11])\n",
    "\n",
    "cd_val = StandardDataset(df_val, path_col=\"path\", label_col=\"age\", label_function=\"CAE\", transform_func=transform_func_val)\n",
    "cd_val.set_n_classes(81)\n",
    "cd_val.set_starting_class(1)\n",
    "validator = Validator(cd_val, AgeConversion.EVAge, 32, num_workers=4, prefetch_factor=2)"
   ]
  },
  {
   "cell_type": "code",
   "execution_count": 3,
   "metadata": {},
   "outputs": [
    {
     "name": "stderr",
     "output_type": "stream",
     "text": [
      "c:\\Users\\Gio\\.conda\\envs\\AV_project\\lib\\site-packages\\torchvision\\models\\_utils.py:135: UserWarning: Using 'weights' as positional parameter(s) is deprecated since 0.13 and may be removed in the future. Please use keyword parameter(s) instead.\n",
      "  warnings.warn(\n"
     ]
    }
   ],
   "source": [
    "from ResNetFilmed.resnet import ResNetFiLMed, BackBone, ResNetNotFiLMed, DoNothingLayer\n",
    "from torchvision.models import resnet18, ResNet18_Weights, efficientnet_b0, EfficientNet_B0_Weights\n",
    "import torch\n",
    "from torch import optim\n",
    "import torch.nn.functional as F\n",
    "from torch import nn\n",
    "\n",
    "####################################################\n",
    "EPOCHS = 24\n",
    "####################################################\n",
    "\n",
    "backbone = resnet18(ResNet18_Weights.IMAGENET1K_V1)\n",
    "backbone.fc = DoNothingLayer()\n",
    "backbone.train()\n",
    "backbone.requires_grad_(True)\n",
    "backbone.to(\"cuda\")\n",
    "model_age = ResNetNotFiLMed(backbone, 81)\n",
    "model_age.load_state_dict(torch.load(\"./model_age_classification_simple.pt\", map_location=\"cuda:0\"))\n",
    "opt = optim.SGD(set([*backbone.parameters(), *model_age.fc0.parameters()]), lr=1e-2, weight_decay=5e-5)\n",
    "scheduler = optim.lr_scheduler.OneCycleLR(opt, max_lr=1e-2, steps_per_epoch=len(dl_train), epochs=EPOCHS, three_phase=True)\n",
    "kl = nn.KLDivLoss(reduction=\"batchmean\")"
   ]
  },
  {
   "cell_type": "code",
   "execution_count": 4,
   "metadata": {},
   "outputs": [
    {
     "name": "stderr",
     "output_type": "stream",
     "text": [
      "  3%|▎         | 150/4493 [00:18<04:08, 17.45 batch/s] "
     ]
    }
   ],
   "source": [
    "def forward_function(x):\n",
    "    out = model_age(x)\n",
    "    out = F.softmax(out, dim=-1)\n",
    "    return out\n",
    "\n",
    "ae, mae, val_aar, val_aar_old = validator.validate_ext2(forward_function)\n",
    "print(ae, mae, val_aar, val_aar_old)"
   ]
  },
  {
   "cell_type": "code",
   "execution_count": null,
   "metadata": {},
   "outputs": [],
   "source": [
    "import numpy as np\n",
    "def get_centers(outs, ys, old):\n",
    "    centers_for_age = {x: [] for x in range(81)}\n",
    "\n",
    "    for out, y in zip(outs, ys):\n",
    "        for _out, _y in zip(out, y):\n",
    "            centers_for_age[int(_y)].append(_out.detach().cpu().numpy())\n",
    "\n",
    "    for i in centers_for_age:\n",
    "        if len(centers_for_age[i]) > 0:\n",
    "            centers_for_age[i] = torch.tensor(np.array(centers_for_age[i])).mean(dim=0).to(\"cuda\")\n",
    "        else:\n",
    "            centers_for_age[i] = old[i]\n",
    "    return centers_for_age\n",
    "\n",
    "def update_centers(old, new, alpha=0.5):\n",
    "    for i in new:\n",
    "        new[i] = new[i] - alpha*(new[i] - old[i])\n",
    "    return new\n",
    "\n",
    "def get_centers_loss(out, y, centers_for_age):\n",
    "    loss = None\n",
    "    for _out, _y in zip(out, y):\n",
    "        if loss is None:\n",
    "            loss = torch.mean(torch.square(_out - centers_for_age[int(_y)]))\n",
    "        else:    \n",
    "            loss += torch.mean(torch.square(_out - centers_for_age[int(_y)]))\n",
    "    return loss.to(\"cuda\")"
   ]
  },
  {
   "cell_type": "code",
   "execution_count": null,
   "metadata": {},
   "outputs": [
    {
     "name": "stderr",
     "output_type": "stream",
     "text": [
      "6739 batch [34:31,  3.25 batch/s, loss_age=1.8559341, loss_age_bal=2.1530418, loss_age_kl=1.0525734314640984, loss_age_kl_bal=1.0539909581164602, loss_repr=0.25880098, loss_repr_bal=0.3337046, total_loss=2.7432467397690523] \n",
      "100%|██████████| 4493/4493 [03:06<00:00, 24.09 batch/s]\n"
     ]
    },
    {
     "name": "stdout",
     "output_type": "stream",
     "text": [
      "{0: tensor(7.6679, dtype=torch.float64), 1: tensor(2.8715, dtype=torch.float64), 2: tensor(1.8302, dtype=torch.float64), 3: tensor(2.1703, dtype=torch.float64), 4: tensor(2.3448, dtype=torch.float64), 5: tensor(2.1477, dtype=torch.float64), 6: tensor(2.6364, dtype=torch.float64), 7: tensor(4.2838, dtype=torch.float64)} tensor(2.2040, dtype=torch.float64) tensor(4.6650, dtype=torch.float64) tensor(5.7051, dtype=torch.float64)\n"
     ]
    }
   ],
   "source": [
    "centers_for_age = {x: torch.zeros(size=(512,), device=\"cuda\") for x in range(81)}\n",
    "best_val_aar = val_aar\n",
    "\n",
    "for e in range(EPOCHS):\n",
    "    with tqdm(zip(dl_train, dl_train_balanced), unit=\" batch\") as tepoch:\n",
    "        for batch, batch_balanced in tepoch:\n",
    "            opt.zero_grad()\n",
    "            x, y = batch\n",
    "            x_bal, y_bal = batch_balanced\n",
    "\n",
    "            x = x.to(\"cuda\")\n",
    "            y_age: torch.Tensor = y[0].to(\"cuda\")\n",
    "            y_age_kl: torch.Tensor = y[1].to(\"cuda\")\n",
    "\n",
    "            x_bal = x_bal.to(\"cuda\")\n",
    "            y_age_bal: torch.Tensor = y_bal[0].to(\"cuda\")\n",
    "            y_age_kl_bal: torch.Tensor = y_bal[1].to(\"cuda\")\n",
    "\n",
    "            out_rep, out_age = model_age.forward_with_repr(x)\n",
    "            loss_age_kl: torch.Tensor = kl(F.log_softmax(out_age, dim=-1), y_age_kl)\n",
    "            out_age = F.softmax(out_age, dim=-1)\n",
    "            out = AgeConversion.EVAge(out_age).to(\"cuda\")\n",
    "            loss_age = torch.mean(torch.abs(y_age - out))\n",
    "            loss = loss_age_kl + loss_age\n",
    "\n",
    "            out_rep_bal, out_age_bal = model_age.forward_with_repr(x_bal)\n",
    "            loss_age_kl_bal: torch.Tensor = kl(F.log_softmax(out_age_bal, dim=-1), y_age_kl_bal)\n",
    "            out_age_bal = F.softmax(out_age_bal, dim=-1)\n",
    "            out_bal = AgeConversion.EVAge(out_age_bal).to(\"cuda\")\n",
    "            loss_age_bal = torch.mean(torch.abs(y_age_bal - out_bal))\n",
    "            loss_bal = loss_age_kl_bal + torch.square(loss_age_bal - 2.0)\n",
    "\n",
    "            loss_repr = get_centers_loss(out_rep, y_age, centers_for_age)\n",
    "            loss_repr_bal = get_centers_loss(out_rep_bal, y_age_bal, centers_for_age)\n",
    "\n",
    "            total_loss = loss + loss_bal + loss_repr + loss_repr_bal\n",
    "\n",
    "            total_loss.backward()\n",
    "            opt.step()\n",
    "            scheduler.step()\n",
    "\n",
    "            centers_for_age = update_centers(centers_for_age, get_centers((out_rep, out_rep_bal), (y_age, y_age_bal), centers_for_age), alpha=0.5)\n",
    "\n",
    "            tepoch.set_postfix(loss_age_kl=loss_age_kl.detach().cpu().numpy(), loss_age=loss_age.detach().cpu().numpy(),\n",
    "                                loss_age_kl_bal=loss_age_kl_bal.detach().cpu().numpy(), loss_age_bal=loss_age_bal.detach().cpu().numpy(),\n",
    "                                loss_repr=loss_repr.detach().cpu().numpy(), loss_repr_bal=loss_repr_bal.detach().cpu().numpy(),\n",
    "                                total_loss=total_loss.detach().cpu().numpy())\n",
    "\n",
    "    def forward_function(x):\n",
    "        out = model_age(x)\n",
    "        out = F.softmax(out, dim=-1)\n",
    "        return out\n",
    " \n",
    "    ae, mae_, val_aar, val_aar_old = validator.validate_ext2(forward_function)\n",
    "    print(ae, mae_, val_aar, val_aar_old)\n",
    "\n",
    "    if best_val_aar < val_aar:\n",
    "        best_val_aar = val_aar\n",
    "        torch.save(model_age.state_dict(), \"./model_age_feature_simple_no_loss.pt\")\n",
    "        print(\"Saved model\")"
   ]
  }
 ],
 "metadata": {
  "kernelspec": {
   "display_name": "AV_project",
   "language": "python",
   "name": "python3"
  },
  "language_info": {
   "codemirror_mode": {
    "name": "ipython",
    "version": 3
   },
   "file_extension": ".py",
   "mimetype": "text/x-python",
   "name": "python",
   "nbconvert_exporter": "python",
   "pygments_lexer": "ipython3",
   "version": "3.8.10"
  },
  "orig_nbformat": 4,
  "vscode": {
   "interpreter": {
    "hash": "cb944c2b40f40877ef78d83ae6cee61e5f12ef7b90668598de820bc310ff39a2"
   }
  }
 },
 "nbformat": 4,
 "nbformat_minor": 2
}
