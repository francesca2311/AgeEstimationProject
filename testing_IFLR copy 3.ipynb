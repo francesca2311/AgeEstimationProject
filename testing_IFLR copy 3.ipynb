{
 "cells": [
  {
   "cell_type": "code",
   "execution_count": 1,
   "metadata": {},
   "outputs": [
    {
     "name": "stderr",
     "output_type": "stream",
     "text": [
      "c:\\Users\\Gio\\.conda\\envs\\AV_project\\lib\\site-packages\\tqdm\\auto.py:22: TqdmWarning: IProgress not found. Please update jupyter and ipywidgets. See https://ipywidgets.readthedocs.io/en/stable/user_install.html\n",
      "  from .autonotebook import tqdm as notebook_tqdm\n"
     ]
    }
   ],
   "source": [
    "from typing import List\n",
    "from Dataset.CustomDataset import AgeGroupAndAgeDataset, StandardDataset, AgeDatasetKL\n",
    "from Dataset.CustomDataLoaders import CustomDataLoader\n",
    "from sklearn.model_selection import train_test_split\n",
    "from tqdm import tqdm\n",
    "from Utils import AAR, CSVUtils, AgeConversion\n",
    "from Utils.Validator import Validator"
   ]
  },
  {
   "cell_type": "code",
   "execution_count": 2,
   "metadata": {},
   "outputs": [],
   "source": [
    "#########################\n",
    "import pandas as pd\n",
    "df = CSVUtils.get_df_from_csv(\"./training_caip_contest.csv\", \"./training_caip_contest/\")\n",
    "df_train, df_val = train_test_split(df, test_size=0.25, random_state=42)\n",
    "aug = CSVUtils.get_df_from_csv(\"./augumentation_balanced_remove.csv\", \"./newAugmentationDataset/\")\n",
    "df_train_aug = pd.concat([df_train, aug], ignore_index=True)\n",
    "df_train_aug = df_train_aug.reset_index(drop=True)\n",
    "df_train = df_train.reset_index(drop=True)\n",
    "df_val = df_val.reset_index(drop=True)\n",
    "#########################\n",
    "\n",
    "from torchvision import transforms\n",
    "import torch\n",
    "import numpy as np\n",
    "\n",
    "transform_func = transforms.Compose([\n",
    "    transforms.Resize(224),\n",
    "    transforms.RandomHorizontalFlip(),\n",
    "    transforms.ColorJitter(0.1, 0.1, 0.1, 0.1),\n",
    "    transforms.RandAugment(2, 9),\n",
    "    transforms.PILToTensor(),\n",
    "    transforms.ConvertImageDtype(torch.float),\n",
    "    transforms.Normalize(\n",
    "        mean=[0.485, 0.456, 0.406],\n",
    "        std=[0.229, 0.224, 0.225]\n",
    "    ),\n",
    "])\n",
    "\n",
    "transform_func_val = transforms.Compose([\n",
    "    transforms.Resize(224),\n",
    "    transforms.PILToTensor(),\n",
    "    transforms.ConvertImageDtype(torch.float),\n",
    "    transforms.Normalize(\n",
    "        mean=[0.485, 0.456, 0.406],\n",
    "        std=[0.229, 0.224, 0.225]\n",
    "    ),\n",
    "])\n",
    "\n",
    "# Implementazione di un Dataset utilizzando \"CustomDataset\" per l'architettura con Film\n",
    "cd_train = AgeDatasetKL(df_train, path_col=\"path\", label_col=\"age\", label_function=\"Linear\", \n",
    "                        transform_func=transform_func)\n",
    "# Implementazione di un Dataset utilizzando \"CustomDataset\" per l'architettura con Film\n",
    "cd_train_balanced = AgeDatasetKL(df_train_aug, path_col=\"path\", label_col=\"age\", label_function=\"Linear\", \n",
    "                                transform_func=transform_func)\n",
    "cd_train.set_n_classes(81)\n",
    "cd_train.set_starting_class(1)\n",
    "cd_train_balanced.set_n_classes(81)\n",
    "cd_train_balanced.set_starting_class(1)\n",
    "dm_train = CustomDataLoader(cd_train)\n",
    "dm_train_balanced = CustomDataLoader(cd_train_balanced)\n",
    "dl_train = dm_train.get_unbalanced_dataloader(batch_size=64, shuffle=True, drop_last=True, num_workers=8, prefetch_factor=2)\n",
    "dl_train_balanced, sampler = dm_train_balanced.get_balanced_class_dataloader2(class_ranges=[(0, 11), (11, 21), (21, 31), (31, 41), (41, 51), (51, 61), (61, 71), (71, 91)], \n",
    "                                                                            batch_size=64, num_workers=8, prefetch_factor=2)\n",
    "sampler.n_batches = len(dl_train)\n",
    "sampler.p = np.array([0.23, 0.11, 0.11, 0.11, 0.11, 0.11, 0.11, 0.11])\n",
    "\n",
    "cd_val = StandardDataset(df_val, path_col=\"path\", label_col=\"age\", label_function=\"CAE\", transform_func=transform_func_val)\n",
    "cd_val.set_n_classes(81)\n",
    "cd_val.set_starting_class(1)\n",
    "validator = Validator(cd_val, AgeConversion.EVAge, 32, num_workers=4, prefetch_factor=2)"
   ]
  },
  {
   "cell_type": "code",
   "execution_count": 3,
   "metadata": {},
   "outputs": [
    {
     "name": "stderr",
     "output_type": "stream",
     "text": [
      "c:\\Users\\Gio\\.conda\\envs\\AV_project\\lib\\site-packages\\torchvision\\models\\_utils.py:135: UserWarning: Using 'weights' as positional parameter(s) is deprecated since 0.13 and may be removed in the future. Please use keyword parameter(s) instead.\n",
      "  warnings.warn(\n"
     ]
    }
   ],
   "source": [
    "from ResNetFilmed.resnet import ResNetFiLMed, BackBone, ResNetNotFiLMed, DoNothingLayer\n",
    "from torchvision.models import resnet18, ResNet18_Weights, efficientnet_b0, EfficientNet_B0_Weights, resnet34, ResNet34_Weights\n",
    "import torch\n",
    "from torch import optim\n",
    "import torch.nn.functional as F\n",
    "from torch import nn\n",
    "\n",
    "####################################################\n",
    "EPOCHS = 24\n",
    "####################################################\n",
    "\n",
    "backbone = resnet34(ResNet34_Weights.IMAGENET1K_V1)\n",
    "backbone.fc = DoNothingLayer()\n",
    "backbone.train()\n",
    "backbone.requires_grad_(True)\n",
    "backbone.to(\"cuda\")\n",
    "model_age = ResNetNotFiLMed(backbone, 81)\n",
    "# model_age.load_state_dict(torch.load(\"./model_age_classification_simple.pt\", map_location=\"cuda:0\"))\n",
    "opt = optim.SGD(set([*backbone.parameters(), *model_age.fc0.parameters()]), lr=1e-2, weight_decay=5e-5)\n",
    "scheduler = optim.lr_scheduler.OneCycleLR(opt, max_lr=1e-2, steps_per_epoch=len(dl_train), epochs=EPOCHS, three_phase=True)\n",
    "kl = nn.KLDivLoss(reduction=\"batchmean\")"
   ]
  },
  {
   "cell_type": "code",
   "execution_count": 4,
   "metadata": {},
   "outputs": [],
   "source": [
    "import numpy as np\n",
    "def get_centers(outs, ys, old):\n",
    "    centers_for_age = {x: [] for x in range(81)}\n",
    "\n",
    "    for out, y in zip(outs, ys):\n",
    "        for _out, _y in zip(out, y):\n",
    "            centers_for_age[int(_y)].append(_out.detach().cpu().numpy())\n",
    "\n",
    "    for i in centers_for_age:\n",
    "        if len(centers_for_age[i]) > 0:\n",
    "            centers_for_age[i] = torch.tensor(np.array(centers_for_age[i])).mean(dim=0).to(\"cuda\")\n",
    "        else:\n",
    "            centers_for_age[i] = old[i]\n",
    "    return centers_for_age\n",
    "\n",
    "def update_centers(old, new, alpha=0.5):\n",
    "    for i in new:\n",
    "        new[i] = new[i] - alpha*(new[i] - old[i])\n",
    "    return new\n",
    "\n",
    "def get_centers_loss(out, y, centers_for_age):\n",
    "    loss = None\n",
    "    for _out, _y in zip(out, y):\n",
    "        if loss is None:\n",
    "            loss = torch.mean(torch.square(_out - centers_for_age[int(_y)]))\n",
    "        else:    \n",
    "            loss += torch.mean(torch.square(_out - centers_for_age[int(_y)]))\n",
    "    return loss.to(\"cuda\")"
   ]
  },
  {
   "cell_type": "code",
   "execution_count": 6,
   "metadata": {},
   "outputs": [
    {
     "name": "stderr",
     "output_type": "stream",
     "text": [
      "6739 batch [35:34,  3.16 batch/s, loss_age=5.8269243, loss_age_bal=4.8324165, loss_age_kl=2.033347208678843, loss_age_kl_bal=1.831698433383939, loss_repr=0.25322247, loss_repr_bal=0.25659937, total_loss=18.22437480609095]   \n",
      "100%|██████████| 4493/4493 [03:59<00:00, 18.72 batch/s]\n"
     ]
    },
    {
     "name": "stdout",
     "output_type": "stream",
     "text": [
      "{0: tensor(23.0485, dtype=torch.float64), 1: tensor(9.1328, dtype=torch.float64), 2: tensor(4.6676, dtype=torch.float64), 3: tensor(4.3379, dtype=torch.float64), 4: tensor(5.3151, dtype=torch.float64), 5: tensor(6.2021, dtype=torch.float64), 6: tensor(9.0642, dtype=torch.float64), 7: tensor(15.2392, dtype=torch.float64)} tensor(5.5072, dtype=torch.float64) tensor(0., dtype=torch.float64) tensor(1.4928, dtype=torch.float64)\n",
      "Saved model\n"
     ]
    },
    {
     "name": "stderr",
     "output_type": "stream",
     "text": [
      "6739 batch [36:57,  3.04 batch/s, loss_age=4.3261447, loss_age_bal=4.041786, loss_age_kl=1.838188225176517, loss_age_kl_bal=1.6042386686973893, loss_repr=0.17612745, loss_repr_bal=0.15544678, total_loss=12.26903677360604]    \n",
      "100%|██████████| 4493/4493 [02:29<00:00, 30.13 batch/s]\n"
     ]
    },
    {
     "name": "stdout",
     "output_type": "stream",
     "text": [
      "{0: tensor(17.3041, dtype=torch.float64), 1: tensor(5.5825, dtype=torch.float64), 2: tensor(3.5899, dtype=torch.float64), 3: tensor(3.8535, dtype=torch.float64), 4: tensor(3.9024, dtype=torch.float64), 5: tensor(4.0656, dtype=torch.float64), 6: tensor(5.0341, dtype=torch.float64), 7: tensor(9.3567, dtype=torch.float64)} tensor(4.0428, dtype=torch.float64) tensor(0., dtype=torch.float64) tensor(2.9572, dtype=torch.float64)\n"
     ]
    },
    {
     "name": "stderr",
     "output_type": "stream",
     "text": [
      "6739 batch [36:51,  3.05 batch/s, loss_age=3.5731835, loss_age_bal=3.1613517, loss_age_kl=1.5571467164914237, loss_age_kl_bal=1.3161975115620546, loss_repr=0.10796403, loss_repr_bal=0.111631945, total_loss=8.014861457431703]  \n",
      "100%|██████████| 4493/4493 [02:31<00:00, 29.59 batch/s]\n"
     ]
    },
    {
     "name": "stdout",
     "output_type": "stream",
     "text": [
      "{0: tensor(14.0691, dtype=torch.float64), 1: tensor(4.1666, dtype=torch.float64), 2: tensor(2.7120, dtype=torch.float64), 3: tensor(3.7175, dtype=torch.float64), 4: tensor(3.8486, dtype=torch.float64), 5: tensor(3.4373, dtype=torch.float64), 6: tensor(4.5835, dtype=torch.float64), 7: tensor(9.3111, dtype=torch.float64)} tensor(3.5689, dtype=torch.float64) tensor(0.7358, dtype=torch.float64) tensor(3.4311, dtype=torch.float64)\n",
      "Saved model\n"
     ]
    },
    {
     "name": "stderr",
     "output_type": "stream",
     "text": [
      "6739 batch [36:52,  3.05 batch/s, loss_age=2.9846108, loss_age_bal=3.197947, loss_age_kl=1.3854908616657855, loss_age_kl_bal=1.3384172249854966, loss_repr=0.08481025, loss_repr_bal=0.10005864, total_loss=7.328464840882735]    \n",
      "100%|██████████| 4493/4493 [02:31<00:00, 29.62 batch/s]\n"
     ]
    },
    {
     "name": "stdout",
     "output_type": "stream",
     "text": [
      "{0: tensor(14.0161, dtype=torch.float64), 1: tensor(4.4862, dtype=torch.float64), 2: tensor(2.6072, dtype=torch.float64), 3: tensor(3.1161, dtype=torch.float64), 4: tensor(3.2846, dtype=torch.float64), 5: tensor(2.9587, dtype=torch.float64), 6: tensor(3.6273, dtype=torch.float64), 7: tensor(6.8156, dtype=torch.float64)} tensor(3.1454, dtype=torch.float64) tensor(0.9071, dtype=torch.float64) tensor(3.8546, dtype=torch.float64)\n",
      "Saved model\n"
     ]
    },
    {
     "name": "stderr",
     "output_type": "stream",
     "text": [
      "6739 batch [36:52,  3.05 batch/s, loss_age=3.1365905, loss_age_bal=2.9918766, loss_age_kl=1.3634712690773216, loss_age_kl_bal=1.2546286200519376, loss_repr=0.07802414, loss_repr_bal=0.086901985, total_loss=6.903435683220485]  \n",
      "100%|██████████| 4493/4493 [02:16<00:00, 32.81 batch/s]\n"
     ]
    },
    {
     "name": "stdout",
     "output_type": "stream",
     "text": [
      "{0: tensor(10.6661, dtype=torch.float64), 1: tensor(3.6024, dtype=torch.float64), 2: tensor(2.4098, dtype=torch.float64), 3: tensor(2.9217, dtype=torch.float64), 4: tensor(2.9318, dtype=torch.float64), 5: tensor(2.8071, dtype=torch.float64), 6: tensor(3.5617, dtype=torch.float64), 7: tensor(6.0707, dtype=torch.float64)} tensor(2.8799, dtype=torch.float64) tensor(2.6281, dtype=torch.float64) tensor(4.1201, dtype=torch.float64)\n",
      "Saved model\n"
     ]
    },
    {
     "name": "stderr",
     "output_type": "stream",
     "text": [
      "6739 batch [36:45,  3.06 batch/s, loss_age=3.7563164, loss_age_bal=2.9239368, loss_age_kl=1.475838604645926, loss_age_kl_bal=1.240027864002203, loss_repr=0.08884904, loss_repr_bal=0.08120018, total_loss=7.495891384581737]     \n",
      "100%|██████████| 4493/4493 [02:38<00:00, 28.42 batch/s]\n"
     ]
    },
    {
     "name": "stdout",
     "output_type": "stream",
     "text": [
      "{0: tensor(12.0295, dtype=torch.float64), 1: tensor(3.8359, dtype=torch.float64), 2: tensor(2.1426, dtype=torch.float64), 3: tensor(2.6703, dtype=torch.float64), 4: tensor(2.8596, dtype=torch.float64), 5: tensor(2.9017, dtype=torch.float64), 6: tensor(3.5476, dtype=torch.float64), 7: tensor(4.2599, dtype=torch.float64)} tensor(2.7529, dtype=torch.float64) tensor(2.3549, dtype=torch.float64) tensor(4.2471, dtype=torch.float64)\n"
     ]
    },
    {
     "name": "stderr",
     "output_type": "stream",
     "text": [
      "6739 batch [36:48,  3.05 batch/s, loss_age=2.673304, loss_age_bal=2.4442065, loss_age_kl=1.1978703492807607, loss_age_kl_bal=1.0994876487322385, loss_repr=0.06326068, loss_repr_bal=0.06382529, total_loss=5.2950674362177645]   \n",
      "100%|██████████| 4493/4493 [02:32<00:00, 29.51 batch/s]\n"
     ]
    },
    {
     "name": "stdout",
     "output_type": "stream",
     "text": [
      "{0: tensor(9.0461, dtype=torch.float64), 1: tensor(2.6943, dtype=torch.float64), 2: tensor(2.2096, dtype=torch.float64), 3: tensor(2.7340, dtype=torch.float64), 4: tensor(2.7755, dtype=torch.float64), 5: tensor(2.5736, dtype=torch.float64), 6: tensor(3.8250, dtype=torch.float64), 7: tensor(6.5458, dtype=torch.float64)} tensor(2.6724, dtype=torch.float64) tensor(3.2757, dtype=torch.float64) tensor(4.6538, dtype=torch.float64)\n",
      "Saved model\n"
     ]
    },
    {
     "name": "stderr",
     "output_type": "stream",
     "text": [
      "6739 batch [36:52,  3.05 batch/s, loss_age=3.0325847, loss_age_bal=2.5506783, loss_age_kl=1.2690034582283998, loss_age_kl_bal=1.0762888584928372, loss_repr=0.06761605, loss_repr_bal=0.056166984, total_loss=5.804906548903739]  \n",
      "100%|██████████| 4493/4493 [02:17<00:00, 32.79 batch/s]\n"
     ]
    },
    {
     "name": "stdout",
     "output_type": "stream",
     "text": [
      "{0: tensor(8.6662, dtype=torch.float64), 1: tensor(3.4887, dtype=torch.float64), 2: tensor(2.3194, dtype=torch.float64), 3: tensor(2.6196, dtype=torch.float64), 4: tensor(2.6440, dtype=torch.float64), 5: tensor(2.2166, dtype=torch.float64), 6: tensor(2.8828, dtype=torch.float64), 7: tensor(4.4775, dtype=torch.float64)} tensor(2.5708, dtype=torch.float64) tensor(4.0464, dtype=torch.float64) tensor(5.1399, dtype=torch.float64)\n",
      "Saved model\n"
     ]
    },
    {
     "name": "stderr",
     "output_type": "stream",
     "text": [
      "6739 batch [36:59,  3.04 batch/s, loss_age=2.1805434, loss_age_bal=2.0071466, loss_age_kl=1.097612367517082, loss_age_kl_bal=0.9356257033385401, loss_repr=0.04603666, loss_repr_bal=0.040672753, total_loss=4.3005419810784575]  \n",
      "100%|██████████| 4493/4493 [03:57<00:00, 18.88 batch/s]\n"
     ]
    },
    {
     "name": "stdout",
     "output_type": "stream",
     "text": [
      "{0: tensor(9.4458, dtype=torch.float64), 1: tensor(3.5114, dtype=torch.float64), 2: tensor(2.0544, dtype=torch.float64), 3: tensor(2.3639, dtype=torch.float64), 4: tensor(2.5166, dtype=torch.float64), 5: tensor(2.2459, dtype=torch.float64), 6: tensor(2.7152, dtype=torch.float64), 7: tensor(3.9050, dtype=torch.float64)} tensor(2.4059, dtype=torch.float64) tensor(3.8244, dtype=torch.float64) tensor(5.0132, dtype=torch.float64)\n"
     ]
    },
    {
     "name": "stderr",
     "output_type": "stream",
     "text": [
      "6739 batch [37:09,  3.02 batch/s, loss_age=2.4854977, loss_age_bal=2.724047, loss_age_kl=1.143778819621547, loss_age_kl_bal=1.171642062218905, loss_repr=0.055577155, loss_repr_bal=0.059440594, total_loss=5.4401802951423965]   \n",
      "100%|██████████| 4493/4493 [03:42<00:00, 20.19 batch/s]\n"
     ]
    },
    {
     "name": "stdout",
     "output_type": "stream",
     "text": [
      "{0: tensor(6.3328, dtype=torch.float64), 1: tensor(2.9450, dtype=torch.float64), 2: tensor(1.9813, dtype=torch.float64), 3: tensor(2.4448, dtype=torch.float64), 4: tensor(2.4223, dtype=torch.float64), 5: tensor(2.1700, dtype=torch.float64), 6: tensor(2.6539, dtype=torch.float64), 7: tensor(3.8458, dtype=torch.float64)} tensor(2.3329, dtype=torch.float64) tensor(5.3620, dtype=torch.float64) tensor(6.1286, dtype=torch.float64)\n",
      "Saved model\n"
     ]
    },
    {
     "name": "stderr",
     "output_type": "stream",
     "text": [
      "6739 batch [36:48,  3.05 batch/s, loss_age=2.695856, loss_age_bal=2.2298265, loss_age_kl=1.1484576750597926, loss_age_kl_bal=1.072251952620886, loss_repr=0.052481122, loss_repr_bal=0.05968844, total_loss=5.08155548404922]     \n",
      "100%|██████████| 4493/4493 [02:16<00:00, 32.88 batch/s]\n"
     ]
    },
    {
     "name": "stdout",
     "output_type": "stream",
     "text": [
      "{0: tensor(7.1073, dtype=torch.float64), 1: tensor(2.7924, dtype=torch.float64), 2: tensor(1.9453, dtype=torch.float64), 3: tensor(2.4083, dtype=torch.float64), 4: tensor(2.4708, dtype=torch.float64), 5: tensor(2.0464, dtype=torch.float64), 6: tensor(2.5788, dtype=torch.float64), 7: tensor(3.9649, dtype=torch.float64)} tensor(2.2979, dtype=torch.float64) tensor(5.0170, dtype=torch.float64) tensor(5.8834, dtype=torch.float64)\n"
     ]
    },
    {
     "name": "stderr",
     "output_type": "stream",
     "text": [
      "6739 batch [36:44,  3.06 batch/s, loss_age=1.912674, loss_age_bal=2.2444153, loss_age_kl=0.9704191152301509, loss_age_kl_bal=1.023974583756345, loss_repr=0.03992828, loss_repr_bal=0.051875245, total_loss=4.058610003556932]    \n",
      "100%|██████████| 4493/4493 [03:32<00:00, 21.12 batch/s]\n"
     ]
    },
    {
     "name": "stdout",
     "output_type": "stream",
     "text": [
      "{0: tensor(7.0811, dtype=torch.float64), 1: tensor(2.6998, dtype=torch.float64), 2: tensor(1.8617, dtype=torch.float64), 3: tensor(2.2937, dtype=torch.float64), 4: tensor(2.3502, dtype=torch.float64), 5: tensor(2.0155, dtype=torch.float64), 6: tensor(2.5058, dtype=torch.float64), 7: tensor(4.2860, dtype=torch.float64)} tensor(2.2080, dtype=torch.float64) tensor(4.9731, dtype=torch.float64) tensor(5.9019, dtype=torch.float64)\n"
     ]
    },
    {
     "name": "stderr",
     "output_type": "stream",
     "text": [
      "6739 batch [35:22,  3.18 batch/s, loss_age=1.9347908, loss_age_bal=2.05008, loss_age_kl=0.9275684536163277, loss_age_kl_bal=0.9507330970373014, loss_repr=0.041958243, loss_repr_bal=0.045384362, total_loss=3.902943017911963]   \n",
      "100%|██████████| 4493/4493 [03:48<00:00, 19.70 batch/s]\n"
     ]
    },
    {
     "name": "stdout",
     "output_type": "stream",
     "text": [
      "{0: tensor(6.4570, dtype=torch.float64), 1: tensor(2.4691, dtype=torch.float64), 2: tensor(1.7700, dtype=torch.float64), 3: tensor(2.1501, dtype=torch.float64), 4: tensor(2.3619, dtype=torch.float64), 5: tensor(2.1675, dtype=torch.float64), 6: tensor(2.4871, dtype=torch.float64), 7: tensor(3.8111, dtype=torch.float64)} tensor(2.1566, dtype=torch.float64) tensor(5.3965, dtype=torch.float64) tensor(6.1991, dtype=torch.float64)\n",
      "Saved model\n"
     ]
    },
    {
     "name": "stderr",
     "output_type": "stream",
     "text": [
      "814 batch [04:16,  3.11 batch/s, loss_age=2.1201398, loss_age_bal=1.8519177, loss_age_kl=1.0633291326048717, loss_age_kl_bal=0.8991121059369301, loss_repr=0.053668194, loss_repr_bal=0.043339718, total_loss=4.2015173425569134]"
     ]
    }
   ],
   "source": [
    "centers_for_age = {x: torch.zeros(size=(512,), device=\"cuda\") for x in range(81)}\n",
    "best_val_aar = -1\n",
    "\n",
    "for e in range(EPOCHS):\n",
    "    with tqdm(zip(dl_train, dl_train_balanced), unit=\" batch\") as tepoch:\n",
    "        for batch, batch_balanced in tepoch:\n",
    "            opt.zero_grad()\n",
    "            x, y = batch\n",
    "            x_bal, y_bal = batch_balanced\n",
    "\n",
    "            x = x.to(\"cuda\")\n",
    "            y_age: torch.Tensor = y[0].to(\"cuda\")\n",
    "            y_age_kl: torch.Tensor = y[1].to(\"cuda\")\n",
    "\n",
    "            x_bal = x_bal.to(\"cuda\")\n",
    "            y_age_bal: torch.Tensor = y_bal[0].to(\"cuda\")\n",
    "            y_age_kl_bal: torch.Tensor = y_bal[1].to(\"cuda\")\n",
    "\n",
    "            out_rep, out_age = model_age.forward_with_repr(x)\n",
    "            loss_age_kl: torch.Tensor = kl(F.log_softmax(out_age, dim=-1), y_age_kl)\n",
    "            out_age = F.softmax(out_age, dim=-1)\n",
    "            out = AgeConversion.EVAge(out_age).to(\"cuda\")\n",
    "            loss_age = torch.mean(torch.abs(y_age - out))\n",
    "            loss = loss_age_kl + loss_age\n",
    "\n",
    "            out_rep_bal, out_age_bal = model_age.forward_with_repr(x_bal)\n",
    "            loss_age_kl_bal: torch.Tensor = kl(F.log_softmax(out_age_bal, dim=-1), y_age_kl_bal)\n",
    "            out_age_bal = F.softmax(out_age_bal, dim=-1)\n",
    "            out_bal = AgeConversion.EVAge(out_age_bal).to(\"cuda\")\n",
    "            loss_age_bal = torch.mean(torch.abs(y_age_bal - out_bal))\n",
    "            loss_bal = loss_age_kl_bal + torch.square(loss_age_bal - 2.0)\n",
    "\n",
    "            loss_repr = get_centers_loss(out_rep, y_age, centers_for_age)\n",
    "            loss_repr_bal = get_centers_loss(out_rep_bal, y_age_bal, centers_for_age)\n",
    "\n",
    "            total_loss = loss + loss_bal + loss_repr + loss_repr_bal\n",
    "\n",
    "            total_loss.backward()\n",
    "            opt.step()\n",
    "            scheduler.step()\n",
    "\n",
    "            centers_for_age = update_centers(centers_for_age, get_centers((out_rep, out_rep_bal), (y_age, y_age_bal), centers_for_age), alpha=0.5)\n",
    "\n",
    "            tepoch.set_postfix(loss_age_kl=loss_age_kl.detach().cpu().numpy(), loss_age=loss_age.detach().cpu().numpy(),\n",
    "                                loss_age_kl_bal=loss_age_kl_bal.detach().cpu().numpy(), loss_age_bal=loss_age_bal.detach().cpu().numpy(),\n",
    "                                loss_repr=loss_repr.detach().cpu().numpy(), loss_repr_bal=loss_repr_bal.detach().cpu().numpy(),\n",
    "                                total_loss=total_loss.detach().cpu().numpy())\n",
    "\n",
    "    def forward_function(x):\n",
    "        out = model_age(x)\n",
    "        out = F.softmax(out, dim=-1)\n",
    "        return out\n",
    "\n",
    "    ae, mae_, val_aar, val_aar_old = validator.validate_ext2(forward_function)\n",
    "    print(ae, mae_, val_aar, val_aar_old)\n",
    "\n",
    "    if best_val_aar < val_aar:\n",
    "        best_val_aar = val_aar\n",
    "        torch.save(model_age.state_dict(), \"./model_age_feature_simple_no_loss_34.pt\")\n",
    "        print(\"Saved model\")"
   ]
  }
 ],
 "metadata": {
  "kernelspec": {
   "display_name": "AV_project",
   "language": "python",
   "name": "python3"
  },
  "language_info": {
   "codemirror_mode": {
    "name": "ipython",
    "version": 3
   },
   "file_extension": ".py",
   "mimetype": "text/x-python",
   "name": "python",
   "nbconvert_exporter": "python",
   "pygments_lexer": "ipython3",
   "version": "3.8.10"
  },
  "orig_nbformat": 4,
  "vscode": {
   "interpreter": {
    "hash": "cb944c2b40f40877ef78d83ae6cee61e5f12ef7b90668598de820bc310ff39a2"
   }
  }
 },
 "nbformat": 4,
 "nbformat_minor": 2
}
