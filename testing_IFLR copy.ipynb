{
 "cells": [
  {
   "cell_type": "code",
   "execution_count": 1,
   "metadata": {},
   "outputs": [
    {
     "name": "stderr",
     "output_type": "stream",
     "text": [
      "c:\\Users\\Gio\\.conda\\envs\\AV_project\\lib\\site-packages\\tqdm\\auto.py:22: TqdmWarning: IProgress not found. Please update jupyter and ipywidgets. See https://ipywidgets.readthedocs.io/en/stable/user_install.html\n",
      "  from .autonotebook import tqdm as notebook_tqdm\n"
     ]
    }
   ],
   "source": [
    "from typing import List\n",
    "from Dataset.CustomDataset import AgeGroupAndAgeDataset, StandardDataset, AgeDatasetKL\n",
    "from Dataset.CustomDataLoaders import CustomDataLoader\n",
    "from sklearn.model_selection import train_test_split\n",
    "from tqdm import tqdm\n",
    "from Utils import AAR, CSVUtils, AgeConversion\n",
    "from Utils.Validator import Validator"
   ]
  },
  {
   "cell_type": "code",
   "execution_count": 2,
   "metadata": {},
   "outputs": [],
   "source": [
    "#########################\n",
    "import pandas as pd\n",
    "df = CSVUtils.get_df_from_csv(\"./training_caip_contest.csv\", \"./training_caip_contest/\")\n",
    "df_train, df_val = train_test_split(df, test_size=0.25, random_state=42)\n",
    "# aug = CSVUtils.get_df_from_csv(\"./augumentation_balanced_remove.csv\", \"./newAugmentationDataset/\")\n",
    "# df_train_aug = pd.concat([df_train, aug], ignore_index=True)\n",
    "# df_train_aug = df_train_aug.reset_index(drop=True)\n",
    "df_train_aug = df_train.reset_index(drop=True)\n",
    "df_train = df_train.reset_index(drop=True)\n",
    "df_val = df_val.reset_index(drop=True)\n",
    "#########################\n",
    "\n",
    "from torchvision import transforms\n",
    "import torch\n",
    "import numpy as np\n",
    "\n",
    "transform_func = transforms.Compose([\n",
    "    transforms.Resize(224),\n",
    "    transforms.RandomHorizontalFlip(),\n",
    "    transforms.ColorJitter(0.1, 0.1, 0.1, 0.1),\n",
    "    transforms.RandAugment(2, 9),\n",
    "    transforms.PILToTensor(),\n",
    "    transforms.ConvertImageDtype(torch.float),\n",
    "    transforms.Normalize(\n",
    "        mean=[0.485, 0.456, 0.406],\n",
    "        std=[0.229, 0.224, 0.225]\n",
    "    ),\n",
    "])\n",
    "\n",
    "transform_func_val = transforms.Compose([\n",
    "    transforms.Resize(224),\n",
    "    transforms.PILToTensor(),\n",
    "    transforms.ConvertImageDtype(torch.float),\n",
    "    transforms.Normalize(\n",
    "        mean=[0.485, 0.456, 0.406],\n",
    "        std=[0.229, 0.224, 0.225]\n",
    "    ),\n",
    "])\n",
    "\n",
    "# Implementazione di un Dataset utilizzando \"CustomDataset\" per l'architettura con Film\n",
    "cd_train = AgeDatasetKL(df_train, path_col=\"path\", label_col=\"age\", label_function=\"Linear\", \n",
    "                        transform_func=transform_func)\n",
    "# Implementazione di un Dataset utilizzando \"CustomDataset\" per l'architettura con Film\n",
    "cd_train_balanced = AgeDatasetKL(df_train_aug, path_col=\"path\", label_col=\"age\", label_function=\"Linear\", \n",
    "                                transform_func=transform_func)\n",
    "cd_train.set_n_classes(81)\n",
    "cd_train.set_starting_class(1)\n",
    "cd_train_balanced.set_n_classes(81)\n",
    "cd_train_balanced.set_starting_class(1)\n",
    "dm_train = CustomDataLoader(cd_train)\n",
    "dm_train_balanced = CustomDataLoader(cd_train_balanced)\n",
    "dl_train = dm_train.get_unbalanced_dataloader(batch_size=64, shuffle=True, drop_last=True, num_workers=6, prefetch_factor=2, pin_memory=True)\n",
    "dl_train_balanced, sampler = dm_train_balanced.get_balanced_age_dataloader2(batch_size=64, num_workers=6, prefetch_factor=2, pin_memory=True)\n",
    "sampler.n_batches = len(dl_train)\n",
    "# sampler.p = np.array([0.4, 0.3, 0.01, 0.01, 0.01, 0.02, 0.10, 0.15])\n",
    "\n",
    "cd_val = StandardDataset(df_val, path_col=\"path\", label_col=\"age\", label_function=\"CAE\", transform_func=transform_func_val)\n",
    "cd_val.set_n_classes(81)\n",
    "cd_val.set_starting_class(1)\n",
    "validator = Validator(cd_val, AgeConversion.ArgMaxAge, 32, num_workers=6, prefetch_factor=2)"
   ]
  },
  {
   "cell_type": "code",
   "execution_count": 3,
   "metadata": {},
   "outputs": [
    {
     "name": "stderr",
     "output_type": "stream",
     "text": [
      "c:\\Users\\Gio\\.conda\\envs\\AV_project\\lib\\site-packages\\torchvision\\models\\_utils.py:135: UserWarning: Using 'weights' as positional parameter(s) is deprecated since 0.13 and may be removed in the future. Please use keyword parameter(s) instead.\n",
      "  warnings.warn(\n"
     ]
    }
   ],
   "source": [
    "from ResNetFilmed.resnet import ResNetFiLMed, BackBone, ResNetNotFiLMed, DoNothingLayer\n",
    "from torchvision.models import resnet18, ResNet18_Weights, efficientnet_b0, EfficientNet_B0_Weights\n",
    "import torch\n",
    "from torch import optim\n",
    "import torch.nn.functional as F\n",
    "from torch import nn\n",
    "\n",
    "####################################################\n",
    "EPOCHS = 12\n",
    "####################################################\n",
    "\n",
    "backbone = resnet18(ResNet18_Weights.IMAGENET1K_V1)\n",
    "backbone.fc = DoNothingLayer()\n",
    "backbone.train()\n",
    "backbone.requires_grad_(True)\n",
    "backbone.to(\"cuda\")\n",
    "model_age = ResNetNotFiLMed(backbone, 81)\n",
    "model_age.load_state_dict(torch.load(\"./model_age_classification_simple.pt\", map_location=\"cuda:0\"))\n",
    "opt = optim.SGD(set([*backbone.parameters(), *model_age.fc0.parameters()]), lr=2.5e-4, weight_decay=2.5e-5)\n",
    "kl = nn.KLDivLoss(reduction=\"batchmean\")"
   ]
  },
  {
   "cell_type": "code",
   "execution_count": 4,
   "metadata": {},
   "outputs": [
    {
     "name": "stderr",
     "output_type": "stream",
     "text": [
      "100%|██████████| 4493/4493 [02:10<00:00, 34.54 batch/s]\n"
     ]
    },
    {
     "name": "stdout",
     "output_type": "stream",
     "text": [
      "tensor(0.7722) {0: tensor(4.), 1: tensor(6.5000), 2: tensor(4.4615), 3: tensor(6.8621), 4: tensor(5.2589), 5: tensor(4.9143), 6: tensor(4.0449), 7: tensor(4.0172), 8: tensor(3.7368), 9: tensor(2.9574), 10: tensor(3.5600), 11: tensor(6.1212), 12: tensor(4.0468), 13: tensor(3.9221), 14: tensor(3.6035), 15: tensor(2.8089), 16: tensor(2.5170), 17: tensor(1.7592), 18: tensor(1.5699), 19: tensor(1.5963), 20: tensor(1.9288), 21: tensor(2.1778), 22: tensor(2.2322), 23: tensor(2.2070), 24: tensor(2.0424), 25: tensor(2.2497), 26: tensor(2.3530), 27: tensor(2.4868), 28: tensor(2.5064), 29: tensor(2.3503), 30: tensor(2.5637), 31: tensor(2.6058), 32: tensor(2.7249), 33: tensor(2.8690), 34: tensor(2.8755), 35: tensor(2.9689), 36: tensor(3.1319), 37: tensor(3.1465), 38: tensor(2.9903), 39: tensor(2.8146), 40: tensor(2.7323), 41: tensor(2.6366), 42: tensor(2.6925), 43: tensor(2.8147), 44: tensor(2.7393), 45: tensor(2.7857), 46: tensor(2.8415), 47: tensor(2.8646), 48: tensor(2.8352), 49: tensor(2.3849), 50: tensor(2.0974), 51: tensor(2.0904), 52: tensor(2.1314), 53: tensor(2.1332), 54: tensor(2.1846), 55: tensor(2.2908), 56: tensor(2.5032), 57: tensor(2.6916), 58: tensor(2.7329), 59: tensor(2.5938), 60: tensor(2.3783), 61: tensor(2.0373), 62: tensor(1.6177), 63: tensor(2.0013), 64: tensor(2.5114), 65: tensor(2.6489), 66: tensor(3.1280), 67: tensor(2.9623), 68: tensor(3.2308), 69: tensor(3.0196), 70: tensor(2.5137), 71: tensor(2.1040), 72: tensor(1.8690), 73: tensor(2.6212), 74: tensor(2.5000), 75: tensor(2.4706), 76: tensor(2.5385), 77: tensor(2.2000), 78: tensor(2.5833), 79: tensor(4.), 80: tensor(nan)} {0: tensor(4.5905), 1: tensor(2.0977), 2: tensor(2.2591), 3: tensor(2.8694), 4: tensor(2.7316), 5: tensor(2.3014), 6: tensor(2.3476), 7: tensor(2.3447)} tensor(2.5343) tensor(6.5351) tensor(6.6935)\n"
     ]
    }
   ],
   "source": [
    "def forward_function(x):\n",
    "    out = model_age(x)\n",
    "    out = F.softmax(out, dim=-1)\n",
    "    return out\n",
    "\n",
    "sig, ae_age, ae, mae, val_aar, val_aar_old = validator.validate_ext4(forward_function)\n",
    "print(sig, ae_age, ae, mae, val_aar, val_aar_old)\n",
    "\n",
    "n_classes = 81\n",
    "n_worst = 16\n",
    "\n",
    "worst = sorted([(i, float(torch.nan_to_num(ae_age[i]))) for i in range(n_classes)], reverse=True, key=lambda x: x[1])[:n_worst]\n",
    "sampler.p = np.array([0.2 / (n_classes - n_worst)]*n_classes)\n",
    "for w in worst:\n",
    "    index, _ = w\n",
    "    sampler.p[index] = 0.8 / n_worst"
   ]
  },
  {
   "cell_type": "code",
   "execution_count": 5,
   "metadata": {},
   "outputs": [],
   "source": [
    "import numpy as np\n",
    "def get_centers(outs, ys, old):\n",
    "    centers_for_age = {x: [] for x in range(81)}\n",
    "\n",
    "    for out, y in zip(outs, ys):\n",
    "        for _out, _y in zip(out, y):\n",
    "            centers_for_age[int(_y)].append(_out.detach().cpu().numpy())\n",
    "\n",
    "    for i in centers_for_age:\n",
    "        if len(centers_for_age[i]) > 0:\n",
    "            centers_for_age[i] = torch.tensor(np.array(centers_for_age[i])).mean(dim=0).to(\"cuda\")\n",
    "        else:\n",
    "            centers_for_age[i] = old[i]\n",
    "    return centers_for_age\n",
    "\n",
    "def update_centers(old, new, alpha=0.5):\n",
    "    for i in new:\n",
    "        new[i] = new[i] - alpha*(new[i] - old[i])\n",
    "    return new\n",
    "\n",
    "def get_centers_loss(out, y, centers_for_age):\n",
    "    loss = None\n",
    "    for _out, _y in zip(out, y):\n",
    "        if loss is None:\n",
    "            loss = torch.mean(torch.square(_out - centers_for_age[int(_y)]))\n",
    "        else:    \n",
    "            loss += torch.mean(torch.square(_out - centers_for_age[int(_y)]))\n",
    "    return loss.to(\"cuda\")\n",
    "\n",
    "def get_new_p(worst_index):\n",
    "    if worst_index == 0:\n",
    "        return np.array([0.68, 0.2, 0.02, 0.02, 0.02, 0.02, 0.02, 0.02])\n",
    "    if worst_index == 7:\n",
    "        return np.array([0.02, 0.02, 0.02, 0.02, 0.02, 0.02, 0.2, 0.68])\n",
    "    p = np.array([0.02]*8)\n",
    "    p[worst_index-1:worst_index+2] = np.array([0.2, 0.5, 0.2])\n",
    "    return p"
   ]
  },
  {
   "cell_type": "code",
   "execution_count": 6,
   "metadata": {},
   "outputs": [
    {
     "name": "stderr",
     "output_type": "stream",
     "text": [
      "372 batch [01:12,  5.35 batch/s, loss_age=5.089105, loss_age_bal=3.7084184, loss_age_kl=1.6604416970127815, loss_age_kl_bal=1.755192442467182, loss_repr=1.7412118, loss_repr_bal=1.3342013, total_loss=13.833966358603803]  "
     ]
    }
   ],
   "source": [
    "centers_for_age = {x: torch.zeros(size=(512,), device=\"cuda\") for x in range(81)}\n",
    "best_val_aar = 6.86\n",
    "\n",
    "for e in range(EPOCHS):\n",
    "    with tqdm(zip(dl_train, dl_train_balanced), unit=\" batch\") as tepoch:\n",
    "        for batch, batch_balanced in tepoch:\n",
    "            opt.zero_grad()\n",
    "            x, y = batch\n",
    "            x_bal, y_bal = batch_balanced\n",
    "\n",
    "            x = x.to(\"cuda\")\n",
    "            y_age: torch.Tensor = y[0].to(\"cuda\")\n",
    "            y_age_kl: torch.Tensor = y[1].to(\"cuda\")\n",
    "\n",
    "            x_bal = x_bal.to(\"cuda\")\n",
    "            y_age_bal: torch.Tensor = y_bal[0].to(\"cuda\")\n",
    "            y_age_kl_bal: torch.Tensor = y_bal[1].to(\"cuda\")\n",
    "\n",
    "            out_rep, out_age = model_age.forward_with_repr(x)\n",
    "            loss_age_kl: torch.Tensor = kl(F.log_softmax(out_age, dim=-1), y_age_kl)\n",
    "            out_age = F.softmax(out_age, dim=-1)\n",
    "            out = AgeConversion.EVAge(out_age).to(\"cuda\")\n",
    "            loss_age = torch.mean(torch.abs(y_age - out))\n",
    "            loss = loss_age_kl + loss_age\n",
    "\n",
    "            out_rep_bal, out_age_bal = model_age.forward_with_repr(x_bal)\n",
    "            loss_age_kl_bal: torch.Tensor = kl(F.log_softmax(out_age_bal, dim=-1), y_age_kl_bal)\n",
    "            out_age_bal = F.softmax(out_age_bal, dim=-1)\n",
    "            out_bal = AgeConversion.EVAge(out_age_bal).to(\"cuda\")\n",
    "            loss_age_bal = torch.mean(torch.abs(y_age_bal - out_bal))\n",
    "            loss_bal = loss_age_kl_bal + torch.square(loss_age_bal - 2.0) * sig\n",
    "\n",
    "            loss_repr = get_centers_loss(out_rep, y_age, centers_for_age)\n",
    "            loss_repr_bal = get_centers_loss(out_rep_bal, y_age_bal, centers_for_age)\n",
    "\n",
    "            total_loss = loss + loss_bal + loss_repr + loss_repr_bal\n",
    "\n",
    "            total_loss.backward()\n",
    "            opt.step()\n",
    "\n",
    "            centers_for_age = update_centers(centers_for_age, get_centers((out_rep, out_rep_bal), (y_age, y_age_bal), centers_for_age), alpha=0.5)\n",
    "\n",
    "            tepoch.set_postfix(loss_age_kl=loss_age_kl.detach().cpu().numpy(), loss_age=loss_age.detach().cpu().numpy(),\n",
    "                                loss_age_kl_bal=loss_age_kl_bal.detach().cpu().numpy(), loss_age_bal=loss_age_bal.detach().cpu().numpy(),\n",
    "                                loss_repr=loss_repr.detach().cpu().numpy(), loss_repr_bal=loss_repr_bal.detach().cpu().numpy(),\n",
    "                                total_loss=total_loss.detach().cpu().numpy())\n",
    "\n",
    "    def forward_function(x):\n",
    "        out = model_age(x)\n",
    "        out = F.softmax(out, dim=-1)\n",
    "        return out\n",
    "\n",
    "    sig, ae_age, ae, mae_, val_aar, val_aar_old = validator.validate_ext4(forward_function)\n",
    "    print(sig, ae_age, ae, mae_, val_aar, val_aar_old)\n",
    "\n",
    "    # sampler.p = (sampler.p + (np.array([1 + float(torch.nan_to_num(x)) for x in ae_age.values()]) / np.sum(np.array([1 + float(torch.nan_to_num(x)) for x in ae_age.values()]))))/2\n",
    "    # sampler.p = sampler.p / np.sum(sampler.p)\n",
    "\n",
    "    worst = sorted([(i, float(torch.nan_to_num(ae_age[i]))) for i in range(n_classes)], reverse=True, key=lambda x: x[1])[:n_worst]\n",
    "    sampler.p = np.array([0.2 / (n_classes - n_worst)]*n_classes)\n",
    "    for w in worst:\n",
    "        index, _ = w\n",
    "        sampler.p[index] = 0.8 / n_worst\n",
    "\n",
    "    if best_val_aar < val_aar:\n",
    "        best_val_aar = val_aar\n",
    "        torch.save(model_age.state_dict(), \"./model_age_feature_simple_loss.pt\")\n",
    "        print(\"Saved model\")"
   ]
  }
 ],
 "metadata": {
  "kernelspec": {
   "display_name": "AV_project",
   "language": "python",
   "name": "python3"
  },
  "language_info": {
   "codemirror_mode": {
    "name": "ipython",
    "version": 3
   },
   "file_extension": ".py",
   "mimetype": "text/x-python",
   "name": "python",
   "nbconvert_exporter": "python",
   "pygments_lexer": "ipython3",
   "version": "3.8.10"
  },
  "orig_nbformat": 4,
  "vscode": {
   "interpreter": {
    "hash": "cb944c2b40f40877ef78d83ae6cee61e5f12ef7b90668598de820bc310ff39a2"
   }
  }
 },
 "nbformat": 4,
 "nbformat_minor": 2
}
