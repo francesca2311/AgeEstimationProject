{
 "cells": [
  {
   "cell_type": "code",
   "execution_count": 1,
   "metadata": {},
   "outputs": [
    {
     "name": "stderr",
     "output_type": "stream",
     "text": [
      "c:\\Users\\Gio\\.conda\\envs\\AV_project\\lib\\site-packages\\tqdm\\auto.py:22: TqdmWarning: IProgress not found. Please update jupyter and ipywidgets. See https://ipywidgets.readthedocs.io/en/stable/user_install.html\n",
      "  from .autonotebook import tqdm as notebook_tqdm\n"
     ]
    }
   ],
   "source": [
    "from typing import List\n",
    "from Dataset.CustomDataset import AgeGroupAndAgeDataset, StandardDataset, AgeDatasetKL\n",
    "from Dataset.CustomDataLoaders import CustomDataLoader\n",
    "from sklearn.model_selection import train_test_split\n",
    "from tqdm import tqdm\n",
    "from Utils import AAR, CSVUtils, AgeConversion\n",
    "from Utils.Validator import Validator"
   ]
  },
  {
   "cell_type": "code",
   "execution_count": 2,
   "metadata": {},
   "outputs": [],
   "source": [
    "#########################\n",
    "import pandas as pd\n",
    "df = CSVUtils.get_df_from_csv(\"./training_caip_contest.csv\", \"./training_caip_contest/\")\n",
    "df_train, df_val = train_test_split(df, test_size=0.25, random_state=42)\n",
    "# aug = CSVUtils.get_df_from_csv(\"./augumentation_balanced_remove.csv\", \"./newAugmentationDataset/\")\n",
    "# df_train_aug = pd.concat([df_train, aug], ignore_index=True)\n",
    "# df_train_aug = df_train_aug.reset_index(drop=True)\n",
    "df_train_aug = df_train.reset_index(drop=True)\n",
    "df_train = df_train.reset_index(drop=True)\n",
    "df_val = df_val.reset_index(drop=True)\n",
    "#########################\n",
    "\n",
    "from torchvision import transforms\n",
    "import torch\n",
    "import numpy as np\n",
    "\n",
    "transform_func = transforms.Compose([\n",
    "    transforms.Resize(224),\n",
    "    transforms.RandomHorizontalFlip(),\n",
    "    transforms.ColorJitter(0.1, 0.1, 0.1, 0.1),\n",
    "    transforms.RandAugment(2, 9),\n",
    "    transforms.PILToTensor(),\n",
    "    transforms.ConvertImageDtype(torch.float),\n",
    "    transforms.Normalize(\n",
    "        mean=[0.485, 0.456, 0.406],\n",
    "        std=[0.229, 0.224, 0.225]\n",
    "    ),\n",
    "])\n",
    "\n",
    "transform_func_val = transforms.Compose([\n",
    "    transforms.Resize(224),\n",
    "    transforms.PILToTensor(),\n",
    "    transforms.ConvertImageDtype(torch.float),\n",
    "    transforms.Normalize(\n",
    "        mean=[0.485, 0.456, 0.406],\n",
    "        std=[0.229, 0.224, 0.225]\n",
    "    ),\n",
    "])\n",
    "\n",
    "# Implementazione di un Dataset utilizzando \"CustomDataset\" per l'architettura con Film\n",
    "cd_train = AgeDatasetKL(df_train, path_col=\"path\", label_col=\"age\", label_function=\"Linear\", \n",
    "                        transform_func=transform_func)\n",
    "# Implementazione di un Dataset utilizzando \"CustomDataset\" per l'architettura con Film\n",
    "cd_train_balanced = AgeDatasetKL(df_train_aug, path_col=\"path\", label_col=\"age\", label_function=\"Linear\", \n",
    "                                transform_func=transform_func)\n",
    "cd_train.set_n_classes(81)\n",
    "cd_train.set_starting_class(1)\n",
    "cd_train_balanced.set_n_classes(81)\n",
    "cd_train_balanced.set_starting_class(1)\n",
    "dm_train = CustomDataLoader(cd_train)\n",
    "dm_train_balanced = CustomDataLoader(cd_train_balanced)\n",
    "dl_train = dm_train.get_unbalanced_dataloader(batch_size=64, shuffle=True, drop_last=True, num_workers=6, prefetch_factor=2, pin_memory=True)\n",
    "dl_train_balanced, sampler = dm_train_balanced.get_balanced_class_dataloader2(class_ranges=[(0, 11), (11, 21), (21, 31), (31, 41), (41, 51), (51, 61), (61, 71), (71, 91)], \n",
    "                                                                            batch_size=64, num_workers=6, prefetch_factor=2, pin_memory=True)\n",
    "sampler.n_batches = len(dl_train)\n",
    "sampler.p = np.array([0.4, 0.3, 0.03, 0.03, 0.03, 0.03, 0.03, 0.15])\n",
    "\n",
    "cd_val = StandardDataset(df_val, path_col=\"path\", label_col=\"age\", label_function=\"CAE\", transform_func=transform_func_val)\n",
    "cd_val.set_n_classes(81)\n",
    "cd_val.set_starting_class(1)\n",
    "validator = Validator(cd_val, AgeConversion.ArgMaxAge, 32, num_workers=6, prefetch_factor=2)"
   ]
  },
  {
   "cell_type": "code",
   "execution_count": 3,
   "metadata": {},
   "outputs": [
    {
     "name": "stderr",
     "output_type": "stream",
     "text": [
      "c:\\Users\\Gio\\.conda\\envs\\AV_project\\lib\\site-packages\\torchvision\\models\\_utils.py:135: UserWarning: Using 'weights' as positional parameter(s) is deprecated since 0.13 and may be removed in the future. Please use keyword parameter(s) instead.\n",
      "  warnings.warn(\n"
     ]
    }
   ],
   "source": [
    "from ResNetFilmed.resnet import ResNetFiLMed, BackBone, ResNetNotFiLMed, DoNothingLayer\n",
    "from torchvision.models import resnet18, ResNet18_Weights, efficientnet_b0, EfficientNet_B0_Weights\n",
    "import torch\n",
    "from torch import optim\n",
    "import torch.nn.functional as F\n",
    "from torch import nn\n",
    "\n",
    "####################################################\n",
    "EPOCHS = 12\n",
    "####################################################\n",
    "\n",
    "backbone = resnet18(ResNet18_Weights.IMAGENET1K_V1)\n",
    "backbone.fc = DoNothingLayer()\n",
    "backbone.train()\n",
    "backbone.requires_grad_(True)\n",
    "backbone.to(\"cuda\")\n",
    "model_age = ResNetNotFiLMed(backbone, 81)\n",
    "model_age.load_state_dict(torch.load(\"./model_age_classification_simple.pt\", map_location=\"cuda:0\"))\n",
    "opt = optim.SGD(set([*backbone.parameters(), *model_age.fc0.parameters()]), lr=1e-4, weight_decay=1e-5)\n",
    "kl = nn.KLDivLoss(reduction=\"batchmean\")"
   ]
  },
  {
   "cell_type": "code",
   "execution_count": 4,
   "metadata": {},
   "outputs": [
    {
     "name": "stderr",
     "output_type": "stream",
     "text": [
      "100%|██████████| 4493/4493 [02:11<00:00, 34.13 batch/s]\n"
     ]
    },
    {
     "name": "stdout",
     "output_type": "stream",
     "text": [
      "{0: tensor(4.5905), 1: tensor(2.0977), 2: tensor(2.2591), 3: tensor(2.8694), 4: tensor(2.7316), 5: tensor(2.3014), 6: tensor(2.3476), 7: tensor(2.3447)} tensor(2.5343) tensor(6.5351) tensor(6.6935)\n"
     ]
    }
   ],
   "source": [
    "def forward_function(x):\n",
    "    out = model_age(x)\n",
    "    out = F.softmax(out, dim=-1)\n",
    "    return out\n",
    "\n",
    "ae, mae, val_aar, val_aar_old = validator.validate_ext2(forward_function)\n",
    "print(ae, mae, val_aar, val_aar_old)"
   ]
  },
  {
   "cell_type": "code",
   "execution_count": 5,
   "metadata": {},
   "outputs": [],
   "source": [
    "import numpy as np\n",
    "def get_centers(outs, ys, old):\n",
    "    centers_for_age = {x: [] for x in range(81)}\n",
    "\n",
    "    for out, y in zip(outs, ys):\n",
    "        for _out, _y in zip(out, y):\n",
    "            centers_for_age[int(_y)].append(_out.detach().cpu().numpy())\n",
    "\n",
    "    for i in centers_for_age:\n",
    "        if len(centers_for_age[i]) > 0:\n",
    "            centers_for_age[i] = torch.tensor(np.array(centers_for_age[i])).mean(dim=0).to(\"cuda\")\n",
    "        else:\n",
    "            centers_for_age[i] = old[i]\n",
    "    return centers_for_age\n",
    "\n",
    "def update_centers(old, new, alpha=0.5):\n",
    "    for i in new:\n",
    "        new[i] = new[i] - alpha*(new[i] - old[i])\n",
    "    return new\n",
    "\n",
    "def get_centers_loss(out, y, centers_for_age):\n",
    "    loss = None\n",
    "    for _out, _y in zip(out, y):\n",
    "        if loss is None:\n",
    "            loss = torch.mean(torch.square(_out - centers_for_age[int(_y)]))\n",
    "        else:    \n",
    "            loss += torch.mean(torch.square(_out - centers_for_age[int(_y)]))\n",
    "    return loss.to(\"cuda\")"
   ]
  },
  {
   "cell_type": "code",
   "execution_count": 6,
   "metadata": {},
   "outputs": [
    {
     "name": "stderr",
     "output_type": "stream",
     "text": [
      "6739 batch [21:32,  5.21 batch/s, loss_age=2.3730526, loss_age_bal=3.25409, loss_age_kl=1.3114452053283996, loss_age_kl_bal=1.3591435548809339, loss_repr=0.998779, loss_repr_bal=0.69928926, total_loss=7.259785263371717]     \n",
      "100%|██████████| 4493/4493 [02:04<00:00, 36.01 batch/s]\n"
     ]
    },
    {
     "name": "stdout",
     "output_type": "stream",
     "text": [
      "{0: tensor(3.), 1: tensor(2.), 2: tensor(1.), 3: tensor(1.7586), 4: tensor(1.1161), 5: tensor(2.5714), 6: tensor(3.2135), 7: tensor(5.3276), 8: tensor(5.9474), 9: tensor(6.3404), 10: tensor(7.1200), 11: tensor(8.8182), 12: tensor(8.2924), 13: tensor(8.7056), 14: tensor(8.2157), 15: tensor(7.0342), 16: tensor(5.2951), 17: tensor(3.7951), 18: tensor(2.6712), 19: tensor(2.1156), 20: tensor(2.8402), 21: tensor(3.1573), 22: tensor(3.0026), 23: tensor(2.7429), 24: tensor(2.4416), 25: tensor(2.4947), 26: tensor(2.5629), 27: tensor(2.6365), 28: tensor(2.6388), 29: tensor(2.7054), 30: tensor(2.9911), 31: tensor(2.9692), 32: tensor(3.1220), 33: tensor(3.3962), 34: tensor(3.3819), 35: tensor(3.3017), 36: tensor(3.5417), 37: tensor(3.4446), 38: tensor(3.2381), 39: tensor(3.1480), 40: tensor(2.9727), 41: tensor(3.0831), 42: tensor(2.9343), 43: tensor(3.1543), 44: tensor(2.9276), 45: tensor(3.1696), 46: tensor(3.1904), 47: tensor(3.1854), 48: tensor(3.0438), 49: tensor(2.5885), 50: tensor(2.2970), 51: tensor(2.2221), 52: tensor(2.2285), 53: tensor(2.0004), 54: tensor(2.0078), 55: tensor(2.0133), 56: tensor(2.0239), 57: tensor(2.2478), 58: tensor(2.4430), 59: tensor(2.5640), 60: tensor(2.4935), 61: tensor(2.3310), 62: tensor(2.4793), 63: tensor(3.4850), 64: tensor(3.9900), 65: tensor(4.3295), 66: tensor(5.1757), 67: tensor(4.8392), 68: tensor(4.5084), 69: tensor(3.7804), 70: tensor(3.0164), 71: tensor(2.1600), 72: tensor(1.8095), 73: tensor(2.2273), 74: tensor(2.4474), 75: tensor(2.6765), 76: tensor(3.3462), 77: tensor(4.2667), 78: tensor(4.7500), 79: tensor(6.), 80: tensor(nan)} {0: tensor(3.1889), 1: tensor(3.9456), 2: tensor(2.7199), 3: tensor(3.2537), 4: tensor(3.0261), 5: tensor(2.1860), 6: tensor(3.3289), 7: tensor(2.6126)} tensor(2.9367) tensor(6.4599) tensor(6.5560)\n"
     ]
    },
    {
     "name": "stderr",
     "output_type": "stream",
     "text": [
      "6739 batch [20:20,  5.52 batch/s, loss_age=2.8311567, loss_age_bal=2.6526256, loss_age_kl=1.308581882088821, loss_age_kl_bal=1.200372493855891, loss_repr=0.76686484, loss_repr_bal=0.60118216, total_loss=6.722155411690154]   \n",
      "100%|██████████| 4493/4493 [02:05<00:00, 35.76 batch/s]\n"
     ]
    },
    {
     "name": "stdout",
     "output_type": "stream",
     "text": [
      "{0: tensor(3.5000), 1: tensor(5.1000), 2: tensor(3.3846), 3: tensor(3.2759), 4: tensor(0.9286), 5: tensor(2.3524), 6: tensor(3.0449), 7: tensor(4.3966), 8: tensor(5.2632), 9: tensor(5.3830), 10: tensor(6.0400), 11: tensor(8.5253), 12: tensor(7.6140), 13: tensor(7.6234), 14: tensor(6.9708), 15: tensor(5.8068), 16: tensor(4.5145), 17: tensor(3.1851), 18: tensor(2.0572), 19: tensor(1.6303), 20: tensor(2.3812), 21: tensor(2.9457), 22: tensor(2.8537), 23: tensor(2.5510), 24: tensor(2.2081), 25: tensor(2.2570), 26: tensor(2.2117), 27: tensor(2.2790), 28: tensor(2.2256), 29: tensor(2.2749), 30: tensor(2.5561), 31: tensor(2.5855), 32: tensor(2.7321), 33: tensor(2.9173), 34: tensor(2.9216), 35: tensor(2.9070), 36: tensor(3.0725), 37: tensor(2.9801), 38: tensor(2.8354), 39: tensor(2.7509), 40: tensor(2.5986), 41: tensor(2.6892), 42: tensor(2.6083), 43: tensor(2.7993), 44: tensor(2.6647), 45: tensor(2.7848), 46: tensor(2.7992), 47: tensor(2.8274), 48: tensor(2.8272), 49: tensor(2.4111), 50: tensor(2.1907), 51: tensor(2.0798), 52: tensor(2.0320), 53: tensor(1.9171), 54: tensor(1.9435), 55: tensor(1.9366), 56: tensor(1.9888), 57: tensor(2.2468), 58: tensor(2.3631), 59: tensor(2.2898), 60: tensor(2.2632), 61: tensor(2.1810), 62: tensor(2.5408), 63: tensor(3.6463), 64: tensor(4.2671), 65: tensor(4.4676), 66: tensor(5.0065), 67: tensor(4.4271), 68: tensor(3.7960), 69: tensor(2.8431), 70: tensor(1.5847), 71: tensor(1.4160), 72: tensor(2.3929), 73: tensor(3.3333), 74: tensor(3.6842), 75: tensor(4.1471), 76: tensor(4.8462), 77: tensor(5.4667), 78: tensor(6.), 79: tensor(6.), 80: tensor(nan)} {0: tensor(3.0358), 1: tensor(3.2693), 2: tensor(2.4195), 3: tensor(2.8259), 4: tensor(2.6986), 5: tensor(2.0808), 6: tensor(3.2284), 7: tensor(2.5034)} tensor(2.6194) tensor(6.8301) tensor(6.9684)\n",
      "Saved model\n"
     ]
    },
    {
     "name": "stderr",
     "output_type": "stream",
     "text": [
      "6739 batch [20:15,  5.54 batch/s, loss_age=2.0380297, loss_age_bal=2.3747823, loss_age_kl=1.0932159163885142, loss_age_kl_bal=1.1053335219269291, loss_repr=0.48131672, loss_repr_bal=0.35553455, total_loss=5.0988811646131795]\n",
      " 68%|██████▊   | 3062/4493 [01:27<00:36, 38.85 batch/s]"
     ]
    }
   ],
   "source": [
    "centers_for_age = {x: torch.zeros(size=(512,), device=\"cuda\") for x in range(81)}\n",
    "best_val_aar = val_aar\n",
    "\n",
    "for e in range(EPOCHS):\n",
    "    bb = 0\n",
    "    with tqdm(zip(dl_train, dl_train_balanced), unit=\" batch\") as tepoch:\n",
    "        for batch, batch_balanced in tepoch:\n",
    "            if bb>2000:\n",
    "                break\n",
    "            bb+=1\n",
    "            opt.zero_grad()\n",
    "            x, y = batch\n",
    "            x_bal, y_bal = batch_balanced\n",
    "\n",
    "            x = x.to(\"cuda\")\n",
    "            y_age: torch.Tensor = y[0].to(\"cuda\")\n",
    "            y_age_kl: torch.Tensor = y[1].to(\"cuda\")\n",
    "\n",
    "            x_bal = x_bal.to(\"cuda\")\n",
    "            y_age_bal: torch.Tensor = y_bal[0].to(\"cuda\")\n",
    "            y_age_kl_bal: torch.Tensor = y_bal[1].to(\"cuda\")\n",
    "\n",
    "            out_rep, out_age = model_age.forward_with_repr(x)\n",
    "            loss_age_kl: torch.Tensor = kl(F.log_softmax(out_age, dim=-1), y_age_kl)\n",
    "            out_age = F.softmax(out_age, dim=-1)\n",
    "            out = AgeConversion.EVAge(out_age).to(\"cuda\")\n",
    "            loss_age = torch.mean(torch.abs(y_age - out))\n",
    "            loss = loss_age_kl + loss_age\n",
    "\n",
    "            out_rep_bal, out_age_bal = model_age.forward_with_repr(x_bal)\n",
    "            loss_age_kl_bal: torch.Tensor = kl(F.log_softmax(out_age_bal, dim=-1), y_age_kl_bal)\n",
    "            out_age_bal = F.softmax(out_age_bal, dim=-1)\n",
    "            out_bal = AgeConversion.EVAge(out_age_bal).to(\"cuda\")\n",
    "            loss_age_bal = torch.mean(torch.abs(y_age_bal - out_bal))\n",
    "            loss_bal = loss_age_kl_bal + torch.square(loss_age_bal - mae) # (torch.square(loss_age_bal - mae) if loss_age_bal > mae else torch.tensor(0))#  + loss_age_bal\n",
    "\n",
    "            loss_repr = get_centers_loss(out_rep, y_age, centers_for_age)\n",
    "            loss_repr_bal = get_centers_loss(out_rep_bal, y_age_bal, centers_for_age)\n",
    "\n",
    "            total_loss = loss + loss_bal + loss_repr + loss_repr_bal\n",
    "\n",
    "            total_loss.backward()\n",
    "            opt.step()\n",
    "\n",
    "            centers_for_age = update_centers(centers_for_age, get_centers((out_rep, out_rep_bal), (y_age, y_age_bal), centers_for_age), alpha=0.5)\n",
    "\n",
    "            tepoch.set_postfix(loss_age_kl=loss_age_kl.detach().cpu().numpy(), loss_age=loss_age.detach().cpu().numpy(),\n",
    "                                loss_age_kl_bal=loss_age_kl_bal.detach().cpu().numpy(), loss_age_bal=loss_age_bal.detach().cpu().numpy(),\n",
    "                                loss_repr=loss_repr.detach().cpu().numpy(), loss_repr_bal=loss_repr_bal.detach().cpu().numpy(),\n",
    "                                total_loss=total_loss.detach().cpu().numpy())\n",
    "\n",
    "    def forward_function(x):\n",
    "        out = model_age(x)\n",
    "        out = F.softmax(out, dim=-1)\n",
    "        return out\n",
    "\n",
    "    ae_age, ae, mae_, val_aar, val_aar_old = validator.validate_ext3(forward_function)\n",
    "    print(ae_age, ae, mae_, val_aar, val_aar_old)\n",
    "\n",
    "    if best_val_aar < val_aar:\n",
    "        best_val_aar = val_aar\n",
    "        torch.save(model_age.state_dict(), \"./model_age_feature_simple_loss.pt\")\n",
    "        print(\"Saved model\")"
   ]
  }
 ],
 "metadata": {
  "kernelspec": {
   "display_name": "AV_project",
   "language": "python",
   "name": "python3"
  },
  "language_info": {
   "codemirror_mode": {
    "name": "ipython",
    "version": 3
   },
   "file_extension": ".py",
   "mimetype": "text/x-python",
   "name": "python",
   "nbconvert_exporter": "python",
   "pygments_lexer": "ipython3",
   "version": "3.8.10"
  },
  "orig_nbformat": 4,
  "vscode": {
   "interpreter": {
    "hash": "cb944c2b40f40877ef78d83ae6cee61e5f12ef7b90668598de820bc310ff39a2"
   }
  }
 },
 "nbformat": 4,
 "nbformat_minor": 2
}
