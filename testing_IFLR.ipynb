{
 "cells": [
  {
   "cell_type": "code",
   "execution_count": 1,
   "metadata": {},
   "outputs": [
    {
     "name": "stderr",
     "output_type": "stream",
     "text": [
      "c:\\Users\\Gio\\.conda\\envs\\AV_project\\lib\\site-packages\\tqdm\\auto.py:22: TqdmWarning: IProgress not found. Please update jupyter and ipywidgets. See https://ipywidgets.readthedocs.io/en/stable/user_install.html\n",
      "  from .autonotebook import tqdm as notebook_tqdm\n"
     ]
    }
   ],
   "source": [
    "from typing import List\n",
    "from Dataset.CustomDataset import AgeGroupAndAgeDataset, StandardDataset, AgeDatasetKL\n",
    "from Dataset.CustomDataLoaders import CustomDataLoader\n",
    "from sklearn.model_selection import train_test_split\n",
    "from tqdm import tqdm\n",
    "from Utils import AAR, CSVUtils, AgeConversion\n",
    "from Utils.Validator import Validator"
   ]
  },
  {
   "cell_type": "code",
   "execution_count": 2,
   "metadata": {},
   "outputs": [],
   "source": [
    "#Caricamento del dataframe\n",
    "df = CSVUtils.get_df_from_csv(\"./training_caip_contest.csv\", \"./training_caip_contest/\")"
   ]
  },
  {
   "cell_type": "code",
   "execution_count": 3,
   "metadata": {},
   "outputs": [
    {
     "name": "stdout",
     "output_type": "stream",
     "text": [
      "6739 6739\n"
     ]
    }
   ],
   "source": [
    "df_train, df_val = train_test_split(df, test_size=0.25, random_state=42)\n",
    "df_train = df_train.reset_index(drop=True)\n",
    "df_val = df_val.reset_index(drop=True)\n",
    "#########################\n",
    "import pandas as pd\n",
    "df = CSVUtils.get_df_from_csv(\"./training_caip_contest.csv\", \"./training_caip_contest/\")\n",
    "df_train, df_val = train_test_split(df, test_size=0.25, random_state=42)\n",
    "# aug = CSVUtils.get_df_from_csv(\"./augumentation.csv\", \"./newAugmentationDataset/\")\n",
    "# df_train = pd.concat([df_train, aug], ignore_index=True)\n",
    "df_train = df_train.reset_index(drop=True)\n",
    "df_val = df_val.reset_index(drop=True)\n",
    "#########################\n",
    "\n",
    "from torchvision import transforms\n",
    "import torch\n",
    "\n",
    "transform_func = transforms.Compose([\n",
    "    transforms.Resize(256),\n",
    "    transforms.RandomCrop(size=224),\n",
    "    transforms.RandomHorizontalFlip(),\n",
    "    transforms.RandAugment(2, 9),\n",
    "    transforms.PILToTensor(),\n",
    "    transforms.ConvertImageDtype(torch.float),\n",
    "    transforms.Normalize(\n",
    "        mean=[0.485, 0.456, 0.406],\n",
    "        std=[0.229, 0.224, 0.225]\n",
    "    ),\n",
    "])\n",
    "\n",
    "transform_func_val = transforms.Compose([\n",
    "    transforms.Resize(224),\n",
    "    transforms.PILToTensor(),\n",
    "    transforms.ConvertImageDtype(torch.float),\n",
    "    transforms.Normalize(\n",
    "        mean=[0.485, 0.456, 0.406],\n",
    "        std=[0.229, 0.224, 0.225]\n",
    "    ),\n",
    "])\n",
    "\n",
    "# Implementazione di un Dataset utilizzando \"CustomDataset\" per l'architettura con Film\n",
    "cd_train = AgeDatasetKL(df_train, path_col=\"path\", label_col=\"age\", label_function=\"Linear\", \n",
    "                        transform_func=transform_func)\n",
    "cd_train.set_n_classes(81)\n",
    "cd_train.set_starting_class(1)\n",
    "dm_train = CustomDataLoader(cd_train)\n",
    "dl_train = dm_train.get_unbalanced_dataloader(batch_size=64, shuffle=True, drop_last=True, num_workers=8, prefetch_factor=4, pin_memory=True)\n",
    "dl_train_balanced = dm_train.get_balanced_class_dataloader(class_ranges=[(0, 11), (11, 21), (21, 31), (31, 41), (41, 51), (51, 61), (61, 71), (71, 91)], \n",
    "                                                           batch_size=64, num_workers=8, prefetch_factor=4, pin_memory=True)\n",
    "print(len(dl_train), len(dl_train_balanced))\n",
    "cd_val = StandardDataset(df_val, path_col=\"path\", label_col=\"age\", label_function=\"CAE\", transform_func=transform_func_val)\n",
    "cd_val.set_n_classes(81)\n",
    "cd_val.set_starting_class(1)\n",
    "validator = Validator(cd_val, AgeConversion.EVAge, 32, num_workers=8, prefetch_factor=4)"
   ]
  },
  {
   "cell_type": "code",
   "execution_count": 4,
   "metadata": {},
   "outputs": [
    {
     "name": "stderr",
     "output_type": "stream",
     "text": [
      "c:\\Users\\Gio\\.conda\\envs\\AV_project\\lib\\site-packages\\torchvision\\models\\_utils.py:135: UserWarning: Using 'weights' as positional parameter(s) is deprecated since 0.13 and may be removed in the future. Please use keyword parameter(s) instead.\n",
      "  warnings.warn(\n"
     ]
    }
   ],
   "source": [
    "from ResNetFilmed.resnet import ResNetFiLMed, BackBone, ResNetNotFiLMed, DoNothingLayer\n",
    "from torchvision.models import resnet18, ResNet18_Weights, efficientnet_b0, EfficientNet_B0_Weights\n",
    "import torch\n",
    "from torch import optim\n",
    "import torch.nn.functional as F\n",
    "from torch import nn\n",
    "\n",
    "####################################################\n",
    "EPOCHS = 12\n",
    "####################################################\n",
    "\n",
    "backbone = resnet18(ResNet18_Weights.IMAGENET1K_V1)\n",
    "backbone.fc = DoNothingLayer()\n",
    "backbone.train()\n",
    "backbone.requires_grad_(True)\n",
    "backbone.to(\"cuda\")\n",
    "model_age = ResNetNotFiLMed(backbone, 81)\n",
    "model_age.load_state_dict(torch.load(\"./model_age_classification_simple.pt\", map_location=\"cuda:0\"))\n",
    "opt = optim.SGD(set([*backbone.parameters(), *model_age.fc0.parameters()]), lr=0.1, weight_decay=5e-4)\n",
    "scheduler = optim.lr_scheduler.OneCycleLR(opt, max_lr=0.1, steps_per_epoch=len(dl_train), epochs=EPOCHS, three_phase=True)\n",
    "kl = nn.KLDivLoss(reduction=\"batchmean\")"
   ]
  },
  {
   "cell_type": "code",
   "execution_count": 5,
   "metadata": {},
   "outputs": [
    {
     "name": "stderr",
     "output_type": "stream",
     "text": [
      "100%|██████████| 4493/4493 [01:51<00:00, 40.16 batch/s]\n"
     ]
    },
    {
     "name": "stdout",
     "output_type": "stream",
     "text": [
      "tensor(2.4615, dtype=torch.float64) tensor(6.2916, dtype=torch.float64) tensor(6.5774, dtype=torch.float64)\n"
     ]
    }
   ],
   "source": [
    "def forward_function(x):\n",
    "    out = model_age(x)\n",
    "    out = F.softmax(out, dim=-1)\n",
    "    return out\n",
    "\n",
    "mae, val_aar, val_aar_old = validator.validate_ext(forward_function)\n",
    "print(mae, val_aar, val_aar_old)"
   ]
  },
  {
   "cell_type": "code",
   "execution_count": 6,
   "metadata": {},
   "outputs": [
    {
     "name": "stderr",
     "output_type": "stream",
     "text": [
      "6739 batch [15:17,  7.35 batch/s, loss_age=3.2953024, loss_age_bal=2.9983397, loss_age_kl=1.4952563875675526, loss_age_kl_bal=1.4769178541097103, total_loss=9.265816285744645] \n",
      "100%|██████████| 4493/4493 [01:47<00:00, 41.90 batch/s]\n"
     ]
    },
    {
     "name": "stdout",
     "output_type": "stream",
     "text": [
      "{0: tensor(12.4916, dtype=torch.float64), 1: tensor(4.0337, dtype=torch.float64), 2: tensor(2.4652, dtype=torch.float64), 3: tensor(3.2688, dtype=torch.float64), 4: tensor(3.9627, dtype=torch.float64), 5: tensor(3.5057, dtype=torch.float64), 6: tensor(5.3551, dtype=torch.float64), 7: tensor(8.4105, dtype=torch.float64)} tensor(3.4465, dtype=torch.float64) tensor(1.2632, dtype=torch.float64) tensor(3.5535, dtype=torch.float64)\n",
      "Saved model\n"
     ]
    },
    {
     "name": "stderr",
     "output_type": "stream",
     "text": [
      "6739 batch [15:21,  7.31 batch/s, loss_age=3.694905, loss_age_bal=3.448769, loss_age_kl=1.5013243234789924, loss_age_kl_bal=1.4173864740318298, total_loss=10.062384932718953]  \n",
      "100%|██████████| 4493/4493 [01:48<00:00, 41.54 batch/s]\n"
     ]
    },
    {
     "name": "stdout",
     "output_type": "stream",
     "text": [
      "{0: tensor(10.5539, dtype=torch.float64), 1: tensor(4.5851, dtype=torch.float64), 2: tensor(2.8510, dtype=torch.float64), 3: tensor(3.4355, dtype=torch.float64), 4: tensor(3.9388, dtype=torch.float64), 5: tensor(3.9683, dtype=torch.float64), 6: tensor(4.2800, dtype=torch.float64), 7: tensor(7.2338, dtype=torch.float64)} tensor(3.6188, dtype=torch.float64) tensor(2.1853, dtype=torch.float64) tensor(3.5664, dtype=torch.float64)\n",
      "Saved model\n"
     ]
    },
    {
     "name": "stderr",
     "output_type": "stream",
     "text": [
      "6739 batch [14:17,  7.86 batch/s, loss_age=4.283989, loss_age_bal=3.1754408, loss_age_kl=1.7574919478749933, loss_age_kl_bal=1.3957879471227277, total_loss=10.612709635903482] \n",
      "100%|██████████| 4493/4493 [01:47<00:00, 41.82 batch/s]\n"
     ]
    },
    {
     "name": "stdout",
     "output_type": "stream",
     "text": [
      "{0: tensor(7.3310, dtype=torch.float64), 1: tensor(5.2002, dtype=torch.float64), 2: tensor(3.4259, dtype=torch.float64), 3: tensor(3.3823, dtype=torch.float64), 4: tensor(3.8437, dtype=torch.float64), 5: tensor(3.5735, dtype=torch.float64), 6: tensor(3.8257, dtype=torch.float64), 7: tensor(4.7890, dtype=torch.float64)} tensor(3.6581, dtype=torch.float64) tensor(4.1060, dtype=torch.float64) tensor(4.8694, dtype=torch.float64)\n",
      "Saved model\n"
     ]
    },
    {
     "name": "stderr",
     "output_type": "stream",
     "text": [
      "6739 batch [14:06,  7.97 batch/s, loss_age=3.9138975, loss_age_bal=4.512784, loss_age_kl=1.6067906349586987, loss_age_kl_bal=1.639710688599762, total_loss=11.67318284211315]   \n",
      "100%|██████████| 4493/4493 [01:49<00:00, 41.07 batch/s]\n"
     ]
    },
    {
     "name": "stdout",
     "output_type": "stream",
     "text": [
      "{0: tensor(12.9496, dtype=torch.float64), 1: tensor(4.8531, dtype=torch.float64), 2: tensor(2.6073, dtype=torch.float64), 3: tensor(3.8894, dtype=torch.float64), 4: tensor(4.3413, dtype=torch.float64), 5: tensor(4.1187, dtype=torch.float64), 6: tensor(4.7446, dtype=torch.float64), 7: tensor(7.2841, dtype=torch.float64)} tensor(3.8318, dtype=torch.float64) tensor(1.4862, dtype=torch.float64) tensor(3.1682, dtype=torch.float64)\n"
     ]
    },
    {
     "name": "stderr",
     "output_type": "stream",
     "text": [
      "6739 batch [13:54,  8.08 batch/s, loss_age=3.4725785, loss_age_bal=3.6331632, loss_age_kl=1.457805011384024, loss_age_kl_bal=1.5296597851320186, total_loss=10.093206535789115] \n",
      "100%|██████████| 4493/4493 [01:48<00:00, 41.39 batch/s]\n"
     ]
    },
    {
     "name": "stdout",
     "output_type": "stream",
     "text": [
      "{0: tensor(9.0794, dtype=torch.float64), 1: tensor(3.8506, dtype=torch.float64), 2: tensor(2.6318, dtype=torch.float64), 3: tensor(3.3492, dtype=torch.float64), 4: tensor(4.6736, dtype=torch.float64), 5: tensor(4.5973, dtype=torch.float64), 6: tensor(4.7433, dtype=torch.float64), 7: tensor(6.2736, dtype=torch.float64)} tensor(3.7776, dtype=torch.float64) tensor(2.9136, dtype=torch.float64) tensor(4.0358, dtype=torch.float64)\n"
     ]
    },
    {
     "name": "stderr",
     "output_type": "stream",
     "text": [
      "6739 batch [14:48,  7.59 batch/s, loss_age=3.6234336, loss_age_bal=3.182855, loss_age_kl=1.4865563828598152, loss_age_kl_bal=1.2497961954538868, total_loss=9.54264105907237]   \n",
      "100%|██████████| 4493/4493 [01:48<00:00, 41.36 batch/s]\n"
     ]
    },
    {
     "name": "stdout",
     "output_type": "stream",
     "text": [
      "{0: tensor(7.9253, dtype=torch.float64), 1: tensor(3.3165, dtype=torch.float64), 2: tensor(2.6181, dtype=torch.float64), 3: tensor(3.4179, dtype=torch.float64), 4: tensor(3.4873, dtype=torch.float64), 5: tensor(3.2767, dtype=torch.float64), 6: tensor(4.0922, dtype=torch.float64), 7: tensor(6.1591, dtype=torch.float64)} tensor(3.2608, dtype=torch.float64) tensor(3.7341, dtype=torch.float64) tensor(4.7599, dtype=torch.float64)\n"
     ]
    },
    {
     "name": "stderr",
     "output_type": "stream",
     "text": [
      "286 batch [00:40,  6.69 batch/s, loss_age=2.843449, loss_age_bal=3.5708604, loss_age_kl=1.34516212236695, loss_age_kl_bal=1.4708502811209296, total_loss=9.23032190513583]     "
     ]
    }
   ],
   "source": [
    "best_val_aar = -1\n",
    "\n",
    "for e in range(EPOCHS):\n",
    "    with tqdm(zip(dl_train, dl_train_balanced), unit=\" batch\") as tepoch:\n",
    "        for batch, batch_balanced in tepoch:\n",
    "            opt.zero_grad()\n",
    "            x, y = batch\n",
    "            x_bal, y_bal = batch_balanced\n",
    "\n",
    "            x = x.to(\"cuda\")\n",
    "            y_age: torch.Tensor = y[0].to(\"cuda\")\n",
    "            y_age_kl: torch.Tensor = y[1].to(\"cuda\")\n",
    "\n",
    "            x_bal = x_bal.to(\"cuda\")\n",
    "            y_age_bal: torch.Tensor = y_bal[0].to(\"cuda\")\n",
    "            y_age_kl_bal: torch.Tensor = y_bal[1].to(\"cuda\")\n",
    "\n",
    "            out_age = model_age(x)\n",
    "            loss_age_kl: torch.Tensor = kl(F.log_softmax(out_age, dim=-1), y_age_kl)\n",
    "            out_rep = F.softmax(out_age, dim=-1)\n",
    "            out = AgeConversion.EVAge(out_rep).to(\"cuda\")\n",
    "            loss_age = torch.mean(torch.abs(y_age - out))\n",
    "            loss = loss_age_kl + loss_age\n",
    "\n",
    "            out_age_bal = model_age(x_bal)\n",
    "            loss_age_kl_bal: torch.Tensor = kl(F.log_softmax(out_age_bal, dim=-1), y_age_kl_bal)\n",
    "            out_bal_rep = F.softmax(out_age_bal, dim=-1)\n",
    "            out_bal = AgeConversion.EVAge(out_bal_rep).to(\"cuda\")\n",
    "            loss_age_bal = torch.mean(torch.abs(y_age_bal - out_bal))\n",
    "            loss_bal = loss_age_kl_bal + loss_age_bal\n",
    "\n",
    "            # repr_mean = ((out_rep + out_bal_rep) / 2).detach()\n",
    "            # loss_repr = torch.mean(torch.square(out_rep - repr_mean))\n",
    "            # loss_repr_bal = torch.mean(torch.square(out_bal_rep - repr_mean))\n",
    "\n",
    "            total_loss = loss + loss_bal#  + loss_repr + loss_repr_bal\n",
    "\n",
    "            total_loss.backward()\n",
    "            opt.step()\n",
    "            scheduler.step()\n",
    "\n",
    "            tepoch.set_postfix(loss_age_kl=loss_age_kl.detach().cpu().numpy(), loss_age=loss_age.detach().cpu().numpy(),\n",
    "                                loss_age_kl_bal=loss_age_kl_bal.detach().cpu().numpy(), loss_age_bal=loss_age_bal.detach().cpu().numpy(),\n",
    "                                # loss_repr=loss_repr.detach().cpu().numpy(), loss_repr_bal=loss_repr_bal.detach().cpu().numpy(),\n",
    "                                total_loss=total_loss.detach().cpu().numpy())\n",
    "\n",
    "    def forward_function(x):\n",
    "        out = model_age(x)\n",
    "        out = F.softmax(out, dim=-1)\n",
    "        return out\n",
    "\n",
    "    ae, mae, val_aar, val_aar_old = validator.validate_ext2(forward_function)\n",
    "    print(ae, mae, val_aar, val_aar_old)\n",
    "\n",
    "    if best_val_aar < val_aar:\n",
    "        best_val_aar = val_aar\n",
    "        torch.save(model_age.state_dict(), \"./model_age_feature_simple.pt\")\n",
    "        print(\"Saved model\")"
   ]
  },
  {
   "cell_type": "code",
   "execution_count": null,
   "metadata": {},
   "outputs": [],
   "source": [
    "####################################################\n",
    "EPOCHS = 12\n",
    "####################################################\n",
    "\n",
    "dl_train = dm_train.get_balanced_class_dataloader(class_ranges=[(0, 11), (11, 21), (21, 31), (31, 41), (41, 51), (51, 61), (61, 71), (71, 91)], \n",
    "                                                  batch_size=64, num_workers=12, prefetch_factor=4, pin_memory=True)\n",
    "\n",
    "model_age.load_state_dict(torch.load(\"./model_age_feature_simple.pt\"))\n",
    "opt = optim.SGD(set([*model_age.fc0.parameters()]), lr=0.1, weight_decay=5e-4)\n",
    "scheduler = optim.lr_scheduler.OneCycleLR(opt, max_lr=0.1, steps_per_epoch=len(dl_train), epochs=EPOCHS, three_phase=True)"
   ]
  },
  {
   "cell_type": "code",
   "execution_count": null,
   "metadata": {},
   "outputs": [
    {
     "name": "stderr",
     "output_type": "stream",
     "text": [
      "100%|██████████| 4493/4493 [02:21<00:00, 31.72 batch/s]\n"
     ]
    },
    {
     "name": "stdout",
     "output_type": "stream",
     "text": [
      "tensor(2.2409, dtype=torch.float64) tensor(4.9902, dtype=torch.float64) tensor(5.8763, dtype=torch.float64)\n"
     ]
    }
   ],
   "source": [
    "def forward_function(x):\n",
    "    out = model_age(x)\n",
    "    out = F.softmax(out, dim=-1)\n",
    "    return out\n",
    "\n",
    "mae, val_aar, val_aar_old = validator.validate_ext(forward_function)\n",
    "print(mae, val_aar, val_aar_old)"
   ]
  },
  {
   "cell_type": "code",
   "execution_count": null,
   "metadata": {},
   "outputs": [
    {
     "name": "stderr",
     "output_type": "stream",
     "text": [
      "100%|██████████| 6739/6739 [10:16<00:00, 10.93 batch/s, loss_age=4.2348323, loss_age_kl=15.457227201259457]\n",
      "100%|██████████| 4493/4493 [01:58<00:00, 38.06 batch/s]\n"
     ]
    },
    {
     "name": "stdout",
     "output_type": "stream",
     "text": [
      "tensor(4.3330, dtype=torch.float64) tensor(3.5900, dtype=torch.float64)\n"
     ]
    },
    {
     "name": "stderr",
     "output_type": "stream",
     "text": [
      "100%|██████████| 6739/6739 [09:35<00:00, 11.70 batch/s, loss_age=3.1603274, loss_age_kl=14.250266355119173]\n",
      "100%|██████████| 4493/4493 [02:03<00:00, 36.30 batch/s]\n"
     ]
    },
    {
     "name": "stdout",
     "output_type": "stream",
     "text": [
      "tensor(3.4237, dtype=torch.float64) tensor(2.7052, dtype=torch.float64)\n"
     ]
    },
    {
     "name": "stderr",
     "output_type": "stream",
     "text": [
      "100%|██████████| 6739/6739 [10:49<00:00, 10.37 batch/s, loss_age=3.3633087, loss_age_kl=18.20725307154277] \n",
      "100%|██████████| 4493/4493 [02:19<00:00, 32.31 batch/s]\n"
     ]
    },
    {
     "name": "stdout",
     "output_type": "stream",
     "text": [
      "tensor(4.1990, dtype=torch.float64) tensor(3.6775, dtype=torch.float64)\n"
     ]
    },
    {
     "name": "stderr",
     "output_type": "stream",
     "text": [
      "100%|██████████| 6739/6739 [11:14<00:00,  9.99 batch/s, loss_age=4.8973255, loss_age_kl=8.180094884813293] \n",
      "100%|██████████| 4493/4493 [01:56<00:00, 38.51 batch/s]\n"
     ]
    },
    {
     "name": "stdout",
     "output_type": "stream",
     "text": [
      "tensor(4.4910, dtype=torch.float64) tensor(3.9189, dtype=torch.float64)\n"
     ]
    },
    {
     "name": "stderr",
     "output_type": "stream",
     "text": [
      "100%|██████████| 6739/6739 [08:36<00:00, 13.04 batch/s, loss_age=3.3888707, loss_age_kl=1.6559491197087888]\n",
      "100%|██████████| 4493/4493 [01:52<00:00, 39.99 batch/s]\n"
     ]
    },
    {
     "name": "stdout",
     "output_type": "stream",
     "text": [
      "tensor(5.3885, dtype=torch.float64) tensor(4.8540, dtype=torch.float64)\n",
      "Saved model\n"
     ]
    },
    {
     "name": "stderr",
     "output_type": "stream",
     "text": [
      "100%|██████████| 6739/6739 [08:22<00:00, 13.41 batch/s, loss_age=2.4683042, loss_age_kl=1.159581840728757] \n",
      "100%|██████████| 4493/4493 [01:52<00:00, 40.07 batch/s]\n"
     ]
    },
    {
     "name": "stdout",
     "output_type": "stream",
     "text": [
      "tensor(5.0994, dtype=torch.float64) tensor(4.4671, dtype=torch.float64)\n"
     ]
    },
    {
     "name": "stderr",
     "output_type": "stream",
     "text": [
      "100%|██████████| 6739/6739 [08:29<00:00, 13.24 batch/s, loss_age=4.376457, loss_age_kl=1.2589574761360263] \n",
      "100%|██████████| 4493/4493 [01:53<00:00, 39.44 batch/s]\n"
     ]
    },
    {
     "name": "stdout",
     "output_type": "stream",
     "text": [
      "tensor(5.2628, dtype=torch.float64) tensor(4.7096, dtype=torch.float64)\n"
     ]
    },
    {
     "name": "stderr",
     "output_type": "stream",
     "text": [
      "100%|██████████| 6739/6739 [08:21<00:00, 13.44 batch/s, loss_age=2.7681565, loss_age_kl=1.0991218766440194]\n",
      "100%|██████████| 4493/4493 [01:51<00:00, 40.46 batch/s]\n"
     ]
    },
    {
     "name": "stdout",
     "output_type": "stream",
     "text": [
      "tensor(5.3480, dtype=torch.float64) tensor(4.7429, dtype=torch.float64)\n"
     ]
    },
    {
     "ename": "",
     "evalue": "",
     "output_type": "error",
     "traceback": [
      "\u001b[1;31mThe Kernel crashed while executing code in the the current cell or a previous cell. Please review the code in the cell(s) to identify a possible cause of the failure. Click <a href='https://aka.ms/vscodeJupyterKernelCrash'>here</a> for more info. View Jupyter <a href='command:jupyter.viewOutput'>log</a> for further details."
     ]
    }
   ],
   "source": [
    "best_val_aar = val_aar\n",
    "\n",
    "for e in range(EPOCHS):\n",
    "    with tqdm(dl_train, unit=\" batch\") as tepoch:\n",
    "        for batch in tepoch:\n",
    "            opt.zero_grad()\n",
    "            x, y = batch\n",
    "            x = x.to(\"cuda\")\n",
    "            y_age: torch.Tensor = y[0].to(\"cuda\")\n",
    "            y_age_kl: torch.Tensor = y[1].to(\"cuda\")\n",
    "\n",
    "            out_age = model_age(x)\n",
    "            loss_age_kl: torch.Tensor = kl(F.log_softmax(out_age, dim=-1), y_age_kl)\n",
    "\n",
    "            out = F.softmax(out_age, dim=-1)\n",
    "            out = AgeConversion.EVAge(out).to(\"cuda\")\n",
    "            loss_age = torch.mean(torch.abs(y_age - out))\n",
    "\n",
    "            loss = loss_age_kl + torch.square(loss_age - mae)\n",
    "            loss.backward()\n",
    "            opt.step()\n",
    "            scheduler.step()\n",
    "\n",
    "            tepoch.set_postfix(loss_age_kl=loss_age_kl.detach().cpu().numpy(), loss_age=loss_age.detach().cpu().numpy())\n",
    "\n",
    "    def forward_function(x):\n",
    "        out = model_age(x)\n",
    "        out = F.softmax(out, dim=-1)\n",
    "        return out\n",
    "\n",
    "    val_aar, val_aar_old = validator.validate(forward_function)\n",
    "    print(val_aar, val_aar_old)\n",
    "\n",
    "    if val_aar > best_val_aar:\n",
    "        best_val_aar = val_aar\n",
    "        torch.save(model_age.state_dict(), \"./model_age_classification_simple.pt\")\n",
    "        print(\"Saved model\")"
   ]
  }
 ],
 "metadata": {
  "kernelspec": {
   "display_name": "AV_project",
   "language": "python",
   "name": "python3"
  },
  "language_info": {
   "codemirror_mode": {
    "name": "ipython",
    "version": 3
   },
   "file_extension": ".py",
   "mimetype": "text/x-python",
   "name": "python",
   "nbconvert_exporter": "python",
   "pygments_lexer": "ipython3",
   "version": "3.8.10"
  },
  "orig_nbformat": 4,
  "vscode": {
   "interpreter": {
    "hash": "cb944c2b40f40877ef78d83ae6cee61e5f12ef7b90668598de820bc310ff39a2"
   }
  }
 },
 "nbformat": 4,
 "nbformat_minor": 2
}
