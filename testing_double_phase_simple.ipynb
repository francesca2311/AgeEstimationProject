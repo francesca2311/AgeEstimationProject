{
 "cells": [
  {
   "cell_type": "code",
   "execution_count": 1,
   "metadata": {},
   "outputs": [
    {
     "name": "stderr",
     "output_type": "stream",
     "text": [
      "c:\\Users\\Gio\\.conda\\envs\\AV_project\\lib\\site-packages\\tqdm\\auto.py:22: TqdmWarning: IProgress not found. Please update jupyter and ipywidgets. See https://ipywidgets.readthedocs.io/en/stable/user_install.html\n",
      "  from .autonotebook import tqdm as notebook_tqdm\n"
     ]
    }
   ],
   "source": [
    "from typing import List\n",
    "from Dataset.CustomDataset import AgeGroupAndAgeDataset, StandardDataset, AgeDatasetKL\n",
    "from Dataset.CustomDataLoaders import CustomDataLoader\n",
    "from sklearn.model_selection import train_test_split\n",
    "from tqdm import tqdm\n",
    "from Utils import AAR, CSVUtils, AgeConversion\n",
    "from Utils.Validator import Validator"
   ]
  },
  {
   "cell_type": "code",
   "execution_count": 2,
   "metadata": {},
   "outputs": [],
   "source": [
    "#Caricamento del dataframe\n",
    "df = CSVUtils.get_df_from_csv(\"./training_caip_contest.csv\", \"./training_caip_contest/\")"
   ]
  },
  {
   "cell_type": "code",
   "execution_count": 3,
   "metadata": {},
   "outputs": [],
   "source": [
    "df_train, df_val = train_test_split(df, test_size=0.25, random_state=42)\n",
    "df_train = df_train.reset_index(drop=True)\n",
    "df_val = df_val.reset_index(drop=True)\n",
    "\n",
    "from torchvision import transforms\n",
    "import torch\n",
    "\n",
    "transform_func = transforms.Compose([\n",
    "    transforms.Resize(224),\n",
    "    transforms.RandomHorizontalFlip(),\n",
    "    transforms.ColorJitter(0.1, 0.1, 0.1, 0.1),\n",
    "    transforms.RandAugment(2, 9),\n",
    "    transforms.PILToTensor(),\n",
    "    transforms.ConvertImageDtype(torch.float),\n",
    "    transforms.Normalize(\n",
    "        mean=[0.485, 0.456, 0.406],\n",
    "        std=[0.229, 0.224, 0.225]\n",
    "    ),\n",
    "])\n",
    "\n",
    "transform_func_val = transforms.Compose([\n",
    "    transforms.Resize(224),\n",
    "    transforms.PILToTensor(),\n",
    "    transforms.ConvertImageDtype(torch.float),\n",
    "    transforms.Normalize(\n",
    "        mean=[0.485, 0.456, 0.406],\n",
    "        std=[0.229, 0.224, 0.225]\n",
    "    ),\n",
    "])\n",
    "\n",
    "# Implementazione di un Dataset utilizzando \"CustomDataset\" per l'architettura con Film\n",
    "cd_train = AgeDatasetKL(df_train, path_col=\"path\", label_col=\"age\", label_function=\"Linear\", \n",
    "                        transform_func=transform_func)\n",
    "cd_train.set_n_classes(81)\n",
    "cd_train.set_starting_class(1)\n",
    "dm_train = CustomDataLoader(cd_train)\n",
    "dl_train = dm_train.get_unbalanced_dataloader(batch_size=64, shuffle=True, drop_last=True, num_workers=12, prefetch_factor=4, pin_memory=True)\n",
    "\n",
    "cd_val = StandardDataset(df_val, path_col=\"path\", label_col=\"age\", label_function=\"CAE\", transform_func=transform_func_val)\n",
    "cd_val.set_n_classes(81)\n",
    "cd_val.set_starting_class(1)\n",
    "validator = Validator(cd_val, AgeConversion.EVAge, 32, num_workers=8, prefetch_factor=4)"
   ]
  },
  {
   "cell_type": "code",
   "execution_count": 4,
   "metadata": {},
   "outputs": [
    {
     "name": "stderr",
     "output_type": "stream",
     "text": [
      "c:\\Users\\Gio\\.conda\\envs\\AV_project\\lib\\site-packages\\torchvision\\models\\_utils.py:135: UserWarning: Using 'weights' as positional parameter(s) is deprecated since 0.13 and may be removed in the future. Please use keyword parameter(s) instead.\n",
      "  warnings.warn(\n"
     ]
    }
   ],
   "source": [
    "from ResNetFilmed.resnet import ResNetFiLMed, BackBone, ResNetNotFiLMed, DoNothingLayer\n",
    "from torchvision.models import resnet18, ResNet18_Weights, efficientnet_b0, EfficientNet_B0_Weights\n",
    "import torch\n",
    "from torch import optim\n",
    "import torch.nn.functional as F\n",
    "from torch import nn\n",
    "\n",
    "####################################################\n",
    "EPOCHS = 12\n",
    "####################################################\n",
    "\n",
    "backbone = resnet18(ResNet18_Weights.IMAGENET1K_V1)\n",
    "backbone.fc = DoNothingLayer()\n",
    "backbone.train()\n",
    "backbone.requires_grad_(True)\n",
    "backbone.to(\"cuda\")\n",
    "model_age = ResNetNotFiLMed(backbone, 81)\n",
    "opt = optim.SGD(set([*backbone.parameters(), *model_age.fc0.parameters()]), lr=0.1, weight_decay=5e-4)\n",
    "scheduler = optim.lr_scheduler.OneCycleLR(opt, max_lr=0.1, steps_per_epoch=len(dl_train), epochs=EPOCHS, three_phase=True)\n",
    "kl = nn.KLDivLoss(reduction=\"batchmean\")"
   ]
  },
  {
   "cell_type": "code",
   "execution_count": 5,
   "metadata": {},
   "outputs": [
    {
     "name": "stderr",
     "output_type": "stream",
     "text": [
      "100%|██████████| 6739/6739 [15:33<00:00,  7.22 batch/s, loss_age=5.2676344, loss_age_kl=1.8920238923133008]\n",
      "100%|██████████| 4493/4493 [02:08<00:00, 34.92 batch/s]\n"
     ]
    },
    {
     "name": "stdout",
     "output_type": "stream",
     "text": [
      "tensor(0., dtype=torch.float64) tensor(3.1136, dtype=torch.float64)\n",
      "Saved model\n"
     ]
    },
    {
     "name": "stderr",
     "output_type": "stream",
     "text": [
      "100%|██████████| 6739/6739 [16:54<00:00,  6.64 batch/s, loss_age=3.6923075, loss_age_kl=1.5071545438608975]\n",
      "100%|██████████| 4493/4493 [02:17<00:00, 32.73 batch/s]\n"
     ]
    },
    {
     "name": "stdout",
     "output_type": "stream",
     "text": [
      "tensor(0.1578, dtype=torch.float64) tensor(3.0445, dtype=torch.float64)\n",
      "Saved model\n"
     ]
    },
    {
     "name": "stderr",
     "output_type": "stream",
     "text": [
      "100%|██████████| 6739/6739 [16:29<00:00,  6.81 batch/s, loss_age=4.2647796, loss_age_kl=1.5808040249015898]\n",
      "100%|██████████| 4493/4493 [02:11<00:00, 34.08 batch/s]\n"
     ]
    },
    {
     "name": "stdout",
     "output_type": "stream",
     "text": [
      "tensor(0.3695, dtype=torch.float64) tensor(2.9729, dtype=torch.float64)\n",
      "Saved model\n"
     ]
    },
    {
     "name": "stderr",
     "output_type": "stream",
     "text": [
      "100%|██████████| 6739/6739 [20:14<00:00,  5.55 batch/s, loss_age=4.249485, loss_age_kl=1.7139818374527356] \n",
      "100%|██████████| 4493/4493 [03:01<00:00, 24.78 batch/s]\n"
     ]
    },
    {
     "name": "stdout",
     "output_type": "stream",
     "text": [
      "tensor(0., dtype=torch.float64) tensor(2.8308, dtype=torch.float64)\n"
     ]
    },
    {
     "name": "stderr",
     "output_type": "stream",
     "text": [
      "100%|██████████| 6739/6739 [19:53<00:00,  5.65 batch/s, loss_age=4.3798285, loss_age_kl=1.5765827602526663]\n",
      "100%|██████████| 4493/4493 [02:29<00:00, 29.99 batch/s]\n"
     ]
    },
    {
     "name": "stdout",
     "output_type": "stream",
     "text": [
      "tensor(0., dtype=torch.float64) tensor(2.7585, dtype=torch.float64)\n"
     ]
    },
    {
     "name": "stderr",
     "output_type": "stream",
     "text": [
      "100%|██████████| 6739/6739 [17:40<00:00,  6.35 batch/s, loss_age=3.9876046, loss_age_kl=1.606302177962314] \n",
      "100%|██████████| 4493/4493 [02:27<00:00, 30.54 batch/s]\n"
     ]
    },
    {
     "name": "stdout",
     "output_type": "stream",
     "text": [
      "tensor(0., dtype=torch.float64) tensor(2.7709, dtype=torch.float64)\n"
     ]
    },
    {
     "name": "stderr",
     "output_type": "stream",
     "text": [
      "100%|██████████| 6739/6739 [17:31<00:00,  6.41 batch/s, loss_age=4.480316, loss_age_kl=1.7741374439059185] \n",
      "100%|██████████| 4493/4493 [02:24<00:00, 31.03 batch/s]\n"
     ]
    },
    {
     "name": "stdout",
     "output_type": "stream",
     "text": [
      "tensor(0., dtype=torch.float64) tensor(2.3388, dtype=torch.float64)\n"
     ]
    },
    {
     "name": "stderr",
     "output_type": "stream",
     "text": [
      "100%|██████████| 6739/6739 [17:17<00:00,  6.49 batch/s, loss_age=3.7951539, loss_age_kl=1.539209325674121] \n",
      "100%|██████████| 4493/4493 [02:27<00:00, 30.46 batch/s]\n"
     ]
    },
    {
     "name": "stdout",
     "output_type": "stream",
     "text": [
      "tensor(0., dtype=torch.float64) tensor(2.5231, dtype=torch.float64)\n"
     ]
    },
    {
     "name": "stderr",
     "output_type": "stream",
     "text": [
      "100%|██████████| 6739/6739 [17:27<00:00,  6.43 batch/s, loss_age=4.9332185, loss_age_kl=1.7660587194173245]\n",
      "100%|██████████| 4493/4493 [02:24<00:00, 31.12 batch/s]\n"
     ]
    },
    {
     "name": "stdout",
     "output_type": "stream",
     "text": [
      "tensor(0., dtype=torch.float64) tensor(2.5350, dtype=torch.float64)\n"
     ]
    },
    {
     "name": "stderr",
     "output_type": "stream",
     "text": [
      "100%|██████████| 6739/6739 [17:12<00:00,  6.53 batch/s, loss_age=3.312263, loss_age_kl=1.4189869353190998] \n",
      "100%|██████████| 4493/4493 [02:25<00:00, 30.97 batch/s]\n"
     ]
    },
    {
     "name": "stdout",
     "output_type": "stream",
     "text": [
      "tensor(0., dtype=torch.float64) tensor(2.5950, dtype=torch.float64)\n"
     ]
    },
    {
     "name": "stderr",
     "output_type": "stream",
     "text": [
      "100%|██████████| 6739/6739 [17:24<00:00,  6.45 batch/s, loss_age=4.320429, loss_age_kl=1.6761229910771784] \n",
      "100%|██████████| 4493/4493 [02:20<00:00, 32.03 batch/s]\n"
     ]
    },
    {
     "name": "stdout",
     "output_type": "stream",
     "text": [
      "tensor(0.0441, dtype=torch.float64) tensor(2.7672, dtype=torch.float64)\n"
     ]
    },
    {
     "name": "stderr",
     "output_type": "stream",
     "text": [
      "100%|██████████| 6739/6739 [17:53<00:00,  6.28 batch/s, loss_age=4.128072, loss_age_kl=1.5508142645056826] \n",
      "100%|██████████| 4493/4493 [02:22<00:00, 31.57 batch/s]\n"
     ]
    },
    {
     "name": "stdout",
     "output_type": "stream",
     "text": [
      "tensor(0., dtype=torch.float64) tensor(2.7126, dtype=torch.float64)\n"
     ]
    },
    {
     "name": "stderr",
     "output_type": "stream",
     "text": [
      "100%|██████████| 6739/6739 [17:48<00:00,  6.31 batch/s, loss_age=3.72458, loss_age_kl=1.5350705094025607]  \n",
      "100%|██████████| 4493/4493 [02:25<00:00, 30.86 batch/s]\n"
     ]
    },
    {
     "name": "stdout",
     "output_type": "stream",
     "text": [
      "tensor(0.1478, dtype=torch.float64) tensor(3.0097, dtype=torch.float64)\n"
     ]
    },
    {
     "name": "stderr",
     "output_type": "stream",
     "text": [
      "100%|██████████| 6739/6739 [18:44<00:00,  5.99 batch/s, loss_age=4.5886216, loss_age_kl=1.7188954812462593]\n",
      "100%|██████████| 4493/4493 [02:44<00:00, 27.34 batch/s]\n"
     ]
    },
    {
     "name": "stdout",
     "output_type": "stream",
     "text": [
      "tensor(0.2644, dtype=torch.float64) tensor(3.0679, dtype=torch.float64)\n"
     ]
    },
    {
     "name": "stderr",
     "output_type": "stream",
     "text": [
      "100%|██████████| 6739/6739 [18:59<00:00,  5.91 batch/s, loss_age=4.209638, loss_age_kl=1.6751005942081614] \n",
      "100%|██████████| 4493/4493 [02:34<00:00, 29.00 batch/s]\n"
     ]
    },
    {
     "name": "stdout",
     "output_type": "stream",
     "text": [
      "tensor(0., dtype=torch.float64) tensor(2.9694, dtype=torch.float64)\n"
     ]
    },
    {
     "name": "stderr",
     "output_type": "stream",
     "text": [
      "100%|██████████| 6739/6739 [18:58<00:00,  5.92 batch/s, loss_age=3.6094136, loss_age_kl=1.5265637813616277]\n",
      "100%|██████████| 4493/4493 [02:29<00:00, 30.09 batch/s]\n"
     ]
    },
    {
     "name": "stdout",
     "output_type": "stream",
     "text": [
      "tensor(0.3729, dtype=torch.float64) tensor(2.9994, dtype=torch.float64)\n",
      "Saved model\n"
     ]
    },
    {
     "name": "stderr",
     "output_type": "stream",
     "text": [
      "100%|██████████| 6739/6739 [19:35<00:00,  5.73 batch/s, loss_age=4.575839, loss_age_kl=1.6605655719757766] \n",
      "100%|██████████| 4493/4493 [02:35<00:00, 28.92 batch/s]\n"
     ]
    },
    {
     "name": "stdout",
     "output_type": "stream",
     "text": [
      "tensor(0.0746, dtype=torch.float64) tensor(3.0947, dtype=torch.float64)\n"
     ]
    },
    {
     "name": "stderr",
     "output_type": "stream",
     "text": [
      "100%|██████████| 6739/6739 [19:22<00:00,  5.80 batch/s, loss_age=3.5673733, loss_age_kl=1.510084388541968] \n",
      "100%|██████████| 4493/4493 [02:35<00:00, 28.94 batch/s]\n"
     ]
    },
    {
     "name": "stdout",
     "output_type": "stream",
     "text": [
      "tensor(0.0754, dtype=torch.float64) tensor(3.1805, dtype=torch.float64)\n"
     ]
    },
    {
     "name": "stderr",
     "output_type": "stream",
     "text": [
      "100%|██████████| 6739/6739 [17:05<00:00,  6.57 batch/s, loss_age=3.2698452, loss_age_kl=1.4349990175385519]\n",
      "100%|██████████| 4493/4493 [02:06<00:00, 35.48 batch/s]\n"
     ]
    },
    {
     "name": "stdout",
     "output_type": "stream",
     "text": [
      "tensor(0.4703, dtype=torch.float64) tensor(3.2892, dtype=torch.float64)\n",
      "Saved model\n"
     ]
    },
    {
     "name": "stderr",
     "output_type": "stream",
     "text": [
      "100%|██████████| 6739/6739 [15:41<00:00,  7.16 batch/s, loss_age=2.9457521, loss_age_kl=1.3584908007438532]\n",
      "100%|██████████| 4493/4493 [02:04<00:00, 36.10 batch/s]\n"
     ]
    },
    {
     "name": "stdout",
     "output_type": "stream",
     "text": [
      "tensor(0.4734, dtype=torch.float64) tensor(3.4307, dtype=torch.float64)\n",
      "Saved model\n"
     ]
    },
    {
     "name": "stderr",
     "output_type": "stream",
     "text": [
      "100%|██████████| 6739/6739 [15:21<00:00,  7.31 batch/s, loss_age=3.2712383, loss_age_kl=1.3534286638100559]\n",
      "100%|██████████| 4493/4493 [02:03<00:00, 36.31 batch/s]\n"
     ]
    },
    {
     "name": "stdout",
     "output_type": "stream",
     "text": [
      "tensor(0.7092, dtype=torch.float64) tensor(3.6126, dtype=torch.float64)\n",
      "Saved model\n"
     ]
    },
    {
     "name": "stderr",
     "output_type": "stream",
     "text": [
      "100%|██████████| 6739/6739 [15:21<00:00,  7.31 batch/s, loss_age=2.7752435, loss_age_kl=1.2406471572879383]\n",
      "100%|██████████| 4493/4493 [02:03<00:00, 36.44 batch/s]\n"
     ]
    },
    {
     "name": "stdout",
     "output_type": "stream",
     "text": [
      "tensor(1.6167, dtype=torch.float64) tensor(3.7670, dtype=torch.float64)\n",
      "Saved model\n"
     ]
    },
    {
     "name": "stderr",
     "output_type": "stream",
     "text": [
      "100%|██████████| 6739/6739 [15:17<00:00,  7.34 batch/s, loss_age=2.5848398, loss_age_kl=1.1816957515251514]\n",
      "100%|██████████| 4493/4493 [02:03<00:00, 36.35 batch/s]\n"
     ]
    },
    {
     "name": "stdout",
     "output_type": "stream",
     "text": [
      "tensor(1.9032, dtype=torch.float64) tensor(3.7282, dtype=torch.float64)\n",
      "Saved model\n"
     ]
    },
    {
     "name": "stderr",
     "output_type": "stream",
     "text": [
      "100%|██████████| 6739/6739 [15:19<00:00,  7.33 batch/s, loss_age=2.6903687, loss_age_kl=1.2355868221619077]\n",
      "100%|██████████| 4493/4493 [02:03<00:00, 36.40 batch/s]\n"
     ]
    },
    {
     "name": "stdout",
     "output_type": "stream",
     "text": [
      "tensor(2.3721, dtype=torch.float64) tensor(3.8461, dtype=torch.float64)\n",
      "Saved model\n"
     ]
    }
   ],
   "source": [
    "best_val_aar = -1\n",
    "\n",
    "for e in range(EPOCHS):\n",
    "    with tqdm(dl_train, unit=\" batch\") as tepoch:\n",
    "        for batch in tepoch:\n",
    "            opt.zero_grad()\n",
    "            x, y = batch\n",
    "            x = x.to(\"cuda\")\n",
    "            y_age: torch.Tensor = y[0].to(\"cuda\")\n",
    "            y_age_kl: torch.Tensor = y[1].to(\"cuda\")\n",
    "\n",
    "            out_age = model_age(x)\n",
    "            loss_age_kl: torch.Tensor = kl(F.log_softmax(out_age, dim=-1), y_age_kl)\n",
    "\n",
    "            out = F.softmax(out_age, dim=-1)\n",
    "            out = AgeConversion.EVAge(out).to(\"cuda\")\n",
    "            loss_age = torch.mean(torch.abs(y_age - out))\n",
    "\n",
    "            loss = loss_age_kl + loss_age\n",
    "            loss.backward()\n",
    "            opt.step()\n",
    "            scheduler.step()\n",
    "\n",
    "            tepoch.set_postfix(loss_age_kl=loss_age_kl.detach().cpu().numpy(), loss_age=loss_age.detach().cpu().numpy())\n",
    "\n",
    "    def forward_function(x):\n",
    "        out = model_age(x)\n",
    "        out = F.softmax(out, dim=-1)\n",
    "        return out\n",
    "\n",
    "    val_aar, val_aar_old = validator.validate(forward_function)\n",
    "    print(val_aar, val_aar_old)\n",
    "\n",
    "    if val_aar > best_val_aar:\n",
    "        best_val_aar = val_aar\n",
    "        torch.save(model_age.state_dict(), \"./model_age_feature_simple.pt\")\n",
    "        print(\"Saved model\")"
   ]
  },
  {
   "cell_type": "code",
   "execution_count": 6,
   "metadata": {},
   "outputs": [],
   "source": [
    "####################################################\n",
    "EPOCHS = 8\n",
    "####################################################\n",
    "\n",
    "dl_train = dm_train.get_balanced_class_dataloader(class_ranges=[(0, 11), (11, 21), (21, 31), (31, 41), (41, 51), (51, 61), (61, 71), (71, 91)], \n",
    "                                                  batch_size=64, num_workers=12, prefetch_factor=4, pin_memory=True)\n",
    "\n",
    "model_age.load_state_dict(torch.load(\"./model_age_feature_simple.pt\"))\n",
    "opt = optim.SGD(set([*model_age.fc0.parameters()]), lr=0.1, weight_decay=5e-4)\n",
    "scheduler = optim.lr_scheduler.OneCycleLR(opt, max_lr=0.1, steps_per_epoch=len(dl_train), epochs=EPOCHS, three_phase=True)"
   ]
  },
  {
   "cell_type": "code",
   "execution_count": 7,
   "metadata": {},
   "outputs": [
    {
     "name": "stderr",
     "output_type": "stream",
     "text": [
      "100%|██████████| 4493/4493 [01:52<00:00, 40.10 batch/s]\n"
     ]
    },
    {
     "name": "stdout",
     "output_type": "stream",
     "text": [
      "tensor(2.2409, dtype=torch.float64) tensor(4.9902, dtype=torch.float64) tensor(5.8763, dtype=torch.float64)\n"
     ]
    }
   ],
   "source": [
    "def forward_function(x):\n",
    "    out = model_age(x)\n",
    "    out = F.softmax(out, dim=-1)\n",
    "    return out\n",
    "\n",
    "mae, val_aar, val_aar_old = validator.validate_ext(forward_function)\n",
    "print(mae, val_aar, val_aar_old)"
   ]
  },
  {
   "cell_type": "code",
   "execution_count": 8,
   "metadata": {},
   "outputs": [
    {
     "name": "stderr",
     "output_type": "stream",
     "text": [
      "100%|██████████| 6739/6739 [08:08<00:00, 13.80 batch/s, loss_age=3.5286975, loss_age_kl=10.61444500132653] \n",
      "100%|██████████| 4493/4493 [01:51<00:00, 40.39 batch/s]\n"
     ]
    },
    {
     "name": "stdout",
     "output_type": "stream",
     "text": [
      "tensor(2.8037, dtype=torch.float64) tensor(1.3665, dtype=torch.float64)\n"
     ]
    },
    {
     "name": "stderr",
     "output_type": "stream",
     "text": [
      "100%|██████████| 6739/6739 [08:17<00:00, 13.55 batch/s, loss_age=6.50711, loss_age_kl=18.382077937447633]  \n",
      "100%|██████████| 4493/4493 [01:51<00:00, 40.46 batch/s]\n"
     ]
    },
    {
     "name": "stdout",
     "output_type": "stream",
     "text": [
      "tensor(3.3948, dtype=torch.float64) tensor(2.3540, dtype=torch.float64)\n"
     ]
    },
    {
     "name": "stderr",
     "output_type": "stream",
     "text": [
      "100%|██████████| 6739/6739 [09:30<00:00, 11.82 batch/s, loss_age=3.9443245, loss_age_kl=11.729970180091566]\n",
      "100%|██████████| 4493/4493 [02:23<00:00, 31.34 batch/s]\n"
     ]
    },
    {
     "name": "stdout",
     "output_type": "stream",
     "text": [
      "tensor(3.6661, dtype=torch.float64) tensor(2.8398, dtype=torch.float64)\n"
     ]
    },
    {
     "name": "stderr",
     "output_type": "stream",
     "text": [
      "100%|██████████| 6739/6739 [11:59<00:00,  9.37 batch/s, loss_age=3.733715, loss_age_kl=7.214016983011918]  \n",
      "100%|██████████| 4493/4493 [02:16<00:00, 32.87 batch/s]\n"
     ]
    },
    {
     "name": "stdout",
     "output_type": "stream",
     "text": [
      "tensor(4.3862, dtype=torch.float64) tensor(3.5633, dtype=torch.float64)\n"
     ]
    },
    {
     "name": "stderr",
     "output_type": "stream",
     "text": [
      "100%|██████████| 6739/6739 [10:45<00:00, 10.44 batch/s, loss_age=2.810464, loss_age_kl=1.5566997551841264] \n",
      "100%|██████████| 4493/4493 [02:14<00:00, 33.31 batch/s]\n"
     ]
    },
    {
     "name": "stdout",
     "output_type": "stream",
     "text": [
      "tensor(5.1736, dtype=torch.float64) tensor(4.5757, dtype=torch.float64)\n",
      "Saved model\n"
     ]
    },
    {
     "name": "stderr",
     "output_type": "stream",
     "text": [
      " 19%|█▉        | 1286/6739 [02:41<08:51, 10.26 batch/s, loss_age=2.9620597, loss_age_kl=1.4539939895801353]"
     ]
    }
   ],
   "source": [
    "best_val_aar = val_aar\n",
    "\n",
    "for e in range(EPOCHS):\n",
    "    with tqdm(dl_train, unit=\" batch\") as tepoch:\n",
    "        for batch in tepoch:\n",
    "            opt.zero_grad()\n",
    "            x, y = batch\n",
    "            x = x.to(\"cuda\")\n",
    "            y_age: torch.Tensor = y[0].to(\"cuda\")\n",
    "            y_age_kl: torch.Tensor = y[1].to(\"cuda\")\n",
    "\n",
    "            out_age = model_age(x)\n",
    "            loss_age_kl: torch.Tensor = kl(F.log_softmax(out_age, dim=-1), y_age_kl)\n",
    "\n",
    "            out = F.softmax(out_age, dim=-1)\n",
    "            out = AgeConversion.EVAge(out).to(\"cuda\")\n",
    "            loss_age = torch.mean(torch.abs(y_age - out))\n",
    "\n",
    "            loss = loss_age_kl + torch.square(loss_age - mae)\n",
    "            loss.backward()\n",
    "            opt.step()\n",
    "            scheduler.step()\n",
    "\n",
    "            tepoch.set_postfix(loss_age_kl=loss_age_kl.detach().cpu().numpy(), loss_age=loss_age.detach().cpu().numpy())\n",
    "\n",
    "    def forward_function(x):\n",
    "        out = model_age(x)\n",
    "        out = F.softmax(out, dim=-1)\n",
    "        return out\n",
    "\n",
    "    val_aar, val_aar_old = validator.validate(forward_function)\n",
    "    print(val_aar, val_aar_old)\n",
    "\n",
    "    if val_aar > best_val_aar:\n",
    "        best_val_aar = val_aar\n",
    "        torch.save(model_age.state_dict(), \"./model_age_classification_simple.pt\")\n",
    "        print(\"Saved model\")"
   ]
  }
 ],
 "metadata": {
  "kernelspec": {
   "display_name": "AV_project",
   "language": "python",
   "name": "python3"
  },
  "language_info": {
   "codemirror_mode": {
    "name": "ipython",
    "version": 3
   },
   "file_extension": ".py",
   "mimetype": "text/x-python",
   "name": "python",
   "nbconvert_exporter": "python",
   "pygments_lexer": "ipython3",
   "version": "3.8.10"
  },
  "orig_nbformat": 4,
  "vscode": {
   "interpreter": {
    "hash": "cb944c2b40f40877ef78d83ae6cee61e5f12ef7b90668598de820bc310ff39a2"
   }
  }
 },
 "nbformat": 4,
 "nbformat_minor": 2
}
