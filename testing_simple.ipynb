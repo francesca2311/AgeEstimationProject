{
 "cells": [
  {
   "cell_type": "code",
   "execution_count": null,
   "metadata": {},
   "outputs": [
    {
     "name": "stderr",
     "output_type": "stream",
     "text": [
      "c:\\Users\\Gio\\.conda\\envs\\AV_project\\lib\\site-packages\\tqdm\\auto.py:22: TqdmWarning: IProgress not found. Please update jupyter and ipywidgets. See https://ipywidgets.readthedocs.io/en/stable/user_install.html\n",
      "  from .autonotebook import tqdm as notebook_tqdm\n"
     ]
    }
   ],
   "source": [
    "from typing import List\n",
    "from Dataset.CustomDataset import AgeGroupAndAgeDataset, StandardDataset, AgeGroupAndAgeDatasetKL\n",
    "from Dataset.CustomDataLoaders import CustomDataLoader\n",
    "from sklearn.model_selection import train_test_split\n",
    "from tqdm import tqdm\n",
    "from Utils import AAR, CSVUtils, AgeConversion\n",
    "from Utils.Validator import Validator"
   ]
  },
  {
   "cell_type": "code",
   "execution_count": null,
   "metadata": {},
   "outputs": [],
   "source": [
    "#Caricamento del dataframe\n",
    "df = CSVUtils.get_df_from_csv(\"./training_caip_contest.csv\", \"./training_caip_contest/\")\n",
    "\n",
    "#Suddivisione del dataframe in 3 age groups\n",
    "_, label_map = CSVUtils.get_df_with_age_subdivision(df, 3)"
   ]
  },
  {
   "cell_type": "code",
   "execution_count": null,
   "metadata": {},
   "outputs": [],
   "source": [
    "df_train, df_val = train_test_split(df, test_size=0.25, random_state=42)\n",
    "df_train = df_train.reset_index(drop=True)\n",
    "df_val = df_val.reset_index(drop=True)\n",
    "\n",
    "# def transform_image(image: Image):\n",
    "#     _image = (np.array(image.resize((224, 224))) / 255.0).transpose(2, 0, 1).astype(np.float32)\n",
    "#     # From: https://github.com/pytorch/examples/blob/main/imagenet/main.py\n",
    "#     _image[0] = (_image[0] - 0.485)/0.229\n",
    "#     _image[1] = (_image[1] - 0.456)/0.224\n",
    "#     _image[2] = (_image[2] - 0.406)/0.225\n",
    "#     return _image\n",
    "\n",
    "from torchvision import transforms\n",
    "import torch\n",
    "\n",
    "transform_func = transforms.Compose([\n",
    "    transforms.Resize(224),\n",
    "    transforms.PILToTensor(),\n",
    "    transforms.ConvertImageDtype(torch.float),\n",
    "    transforms.Normalize(\n",
    "        mean=[0.485, 0.456, 0.406],\n",
    "        std=[0.229, 0.224, 0.225]\n",
    "    ),\n",
    "    transforms.RandomHorizontalFlip(),\n",
    "    transforms.RandomRotation(15),\n",
    "    # transforms.ColorJitter(0.1, 0.1, 0.1, 0.1),\n",
    "    transforms.RandomGrayscale(),\n",
    "])\n",
    "\n",
    "transform_func_val = transforms.Compose([\n",
    "    transforms.Resize(224),\n",
    "    transforms.PILToTensor(),\n",
    "    transforms.ConvertImageDtype(torch.float),\n",
    "    transforms.Normalize(\n",
    "        mean=[0.485, 0.456, 0.406],\n",
    "        std=[0.229, 0.224, 0.225]\n",
    "    ),\n",
    "])\n",
    "\n",
    "#Implementazione di un Dataset utilizzando \"CustomDataset\" per l'architettura con Film\n",
    "# label_map = {x: (0 if x <= 20 else (2 if x >= 60 else 1)) for x in range(1, 82)}\n",
    "cd_train = AgeGroupAndAgeDatasetKL(df_train, path_col=\"path\", label_col=\"age\", label_function=\"CAE\", \n",
    "                                   label_map=label_map, label_map_n_classes=3, transform_func=transform_func)\n",
    "\n",
    "cd_val = StandardDataset(df_val, path_col=\"path\", label_col=\"age\", label_function=\"CAE\", transform_func=transform_func_val)\n",
    "cd_val.set_n_classes(81)\n",
    "cd_val.set_starting_class(1)\n",
    "\n",
    "dm_train = CustomDataLoader(cd_train)\n",
    "dl_train = dm_train.get_unbalanced_dataloader(batch_size=128, shuffle=True, drop_last=True, num_workers=12, prefetch_factor=4)"
   ]
  },
  {
   "cell_type": "code",
   "execution_count": null,
   "metadata": {},
   "outputs": [
    {
     "name": "stderr",
     "output_type": "stream",
     "text": [
      "c:\\Users\\Gio\\.conda\\envs\\AV_project\\lib\\site-packages\\torchvision\\models\\_utils.py:135: UserWarning: Using 'weights' as positional parameter(s) is deprecated since 0.13 and may be removed in the future. Please use keyword parameter(s) instead.\n",
      "  warnings.warn(\n"
     ]
    }
   ],
   "source": [
    "from ResNetFilmed.resnet import ResNetFiLMed, BackBone, ResNetNotFiLMed, DoNothingLayer\n",
    "from torchvision.models import resnet18, ResNet18_Weights\n",
    "import torch\n",
    "from torch import optim\n",
    "import torch.nn.functional as F\n",
    "from torch import nn\n",
    "\n",
    "####################################################\n",
    "EPOCHS = 6\n",
    "####################################################\n",
    "\n",
    "# backbone = BackBone(pretrained=True)\n",
    "backbone = resnet18(ResNet18_Weights.IMAGENET1K_V1)\n",
    "backbone.fc = DoNothingLayer()\n",
    "# backbone.eval()\n",
    "backbone.train()\n",
    "backbone.requires_grad_(True)\n",
    "backbone.to(\"cuda\")\n",
    "# model_age_group = ResNetFiLMed(backbone, 3)\n",
    "model_age = ResNetNotFiLMed(backbone, 81)\n",
    "# opt = optim.Adam(set([*model_age_group.parameters(), *model_age.parameters()]), lr=1e-4)\n",
    "# opt = optim.SGD(set([*model_age_group.parameters(), *model_age.parameters()]), lr=1e-1, weight_decay=1e-4)\n",
    "opt = optim.SGD(set([*backbone.parameters(), *model_age.fc0.parameters()]), lr=5e-3, weight_decay=5e-4)\n",
    "scheduler = optim.lr_scheduler.OneCycleLR(opt, 1e-2, steps_per_epoch=len(dl_train), epochs=EPOCHS)\n",
    "cross_entropy = nn.CrossEntropyLoss()\n",
    "kl = nn.KLDivLoss(reduction=\"batchmean\")"
   ]
  },
  {
   "cell_type": "code",
   "execution_count": null,
   "metadata": {},
   "outputs": [],
   "source": [
    "validator = Validator(cd_val, AgeConversion.EVAge, 32, num_workers=8, prefetch_factor=4)"
   ]
  },
  {
   "cell_type": "code",
   "execution_count": null,
   "metadata": {},
   "outputs": [
    {
     "name": "stderr",
     "output_type": "stream",
     "text": [
      "  0%|          | 0/3369 [00:00<?, ? batch/s]"
     ]
    }
   ],
   "source": [
    "age_weight = 1/5\n",
    "\n",
    "best_val_aar = -1\n",
    "# knowledge_age_group = torch.tensor([[0.33, 0.33, 0.33]]*128, requires_grad=False).float().to(\"cuda\")\n",
    "for e in range(EPOCHS):\n",
    "    with tqdm(dl_train, unit=\" batch\") as tepoch:\n",
    "        for batch in tepoch:\n",
    "            opt.zero_grad()\n",
    "            x, y = batch\n",
    "            x = x.to(\"cuda\")\n",
    "            # y = y.to(\"cuda\")\n",
    "            # y_age_group = y[0].to(\"cuda\")\n",
    "            y_age = y[1].to(\"cuda\")\n",
    "            y_age_kl: torch.Tensor = y[2].to(\"cuda\")\n",
    "            \n",
    "            # knowledge = model_age_group(x, knowledge_age_group)\n",
    "            # loss_age_group: torch.Tensor = cross_entropy(knowledge, y_age_group)\n",
    "\n",
    "            # knowledge = F.softmax(knowledge, dim=-1)\n",
    "            # out_age = model_age(x, knowledge)\n",
    "            out_age = model_age(x)\n",
    "            loss_age_kl: torch.Tensor = kl(F.log_softmax(out_age, dim=-1), y_age_kl)\n",
    "\n",
    "            out = F.softmax(out_age, dim=-1)\n",
    "            out = AgeConversion.EVAge(out)\n",
    "            y_age = AgeConversion.EVAge(y_age)\n",
    "            # loss_age: torch.Tensor = torch.mean(torch.abs(out - y_age))\n",
    "\n",
    "            # loss = loss_age_group*age_weight + loss_age + loss_age_kl\n",
    "            # loss = age_weight*loss_age + loss_age_kl\n",
    "            loss = loss_age_kl\n",
    "            loss.backward()\n",
    "            opt.step()\n",
    "            scheduler.step()\n",
    "\n",
    "            tepoch.set_postfix(#loss_age_group=loss_age_group.detach().cpu().numpy(), \n",
    "                                #loss_age=loss_age.detach().cpu().numpy(), \n",
    "                                loss_age_kl=loss_age_kl.detach().cpu().numpy())\n",
    "\n",
    "    def forward_function(x):\n",
    "        # knowledge_age_group = torch.tensor([[0.33, 0.33, 0.33]]*len(x), requires_grad=False).float().to(\"cuda\")\n",
    "        # knowledge = model_age_group(x, knowledge_age_group)\n",
    "        # knowledge = F.softmax(knowledge, dim=-1)\n",
    "        # out = model_age(x, knowledge)\n",
    "        out = model_age(x)\n",
    "        out = F.softmax(out, dim=-1)\n",
    "        return out\n",
    "\n",
    "    val_aar, val_aar_old = validator.validate(forward_function)\n",
    "    print(val_aar, val_aar_old)\n",
    "\n",
    "    if val_aar > best_val_aar:\n",
    "        best_val_aar = val_aar\n",
    "        # torch.save(model_age_group.state_dict(), \"./model_age_group_unbalanced.pt\")\n",
    "        torch.save(model_age.state_dict(), \"./model_age_unbalanced_simple.pt\")\n",
    "        print(\"Saved model\")"
   ]
  }
 ],
 "metadata": {
  "kernelspec": {
   "display_name": "AV_project",
   "language": "python",
   "name": "python3"
  },
  "language_info": {
   "codemirror_mode": {
    "name": "ipython",
    "version": 3
   },
   "file_extension": ".py",
   "mimetype": "text/x-python",
   "name": "python",
   "nbconvert_exporter": "python",
   "pygments_lexer": "ipython3",
   "version": "3.8.10 (default, May 19 2021, 13:12:57) [MSC v.1916 64 bit (AMD64)]"
  },
  "orig_nbformat": 4,
  "vscode": {
   "interpreter": {
    "hash": "cb944c2b40f40877ef78d83ae6cee61e5f12ef7b90668598de820bc310ff39a2"
   }
  }
 },
 "nbformat": 4,
 "nbformat_minor": 2
}
