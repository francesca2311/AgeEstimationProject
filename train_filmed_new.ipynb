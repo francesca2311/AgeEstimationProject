{
 "cells": [
  {
   "cell_type": "code",
   "execution_count": 1,
   "metadata": {},
   "outputs": [
    {
     "name": "stderr",
     "output_type": "stream",
     "text": [
      "c:\\Users\\Gio\\.conda\\envs\\AV_project\\lib\\site-packages\\tqdm\\auto.py:22: TqdmWarning: IProgress not found. Please update jupyter and ipywidgets. See https://ipywidgets.readthedocs.io/en/stable/user_install.html\n",
      "  from .autonotebook import tqdm as notebook_tqdm\n"
     ]
    }
   ],
   "source": [
    "from typing import List\n",
    "from Dataset.CustomDataset import AgeGroupAndAgeDataset, StandardDataset\n",
    "from Dataset.CustomDataLoaders import CustomDataLoader\n",
    "from sklearn.model_selection import train_test_split\n",
    "from tqdm import tqdm\n",
    "from Utils import AAR, CSVUtils, AgeConversion\n",
    "from Utils.Validator import Validator"
   ]
  },
  {
   "cell_type": "code",
   "execution_count": 2,
   "metadata": {},
   "outputs": [],
   "source": [
    "df = CSVUtils.get_df_from_csv(\"./training_caip_contest.csv\", \"./training_caip_contest/\")\n",
    "_, d = CSVUtils.get_df_with_age_subdivision(df, 3)"
   ]
  },
  {
   "cell_type": "code",
   "execution_count": 3,
   "metadata": {},
   "outputs": [],
   "source": [
    "df_train, df_val = train_test_split(df, test_size=0.25, random_state=42)\n",
    "df_train = df_train.reset_index(drop=True)\n",
    "df_val = df_val.reset_index(drop=True)\n",
    "\n",
    "from PIL import Image\n",
    "import numpy as np\n",
    "def transform_image(image: Image):\n",
    "    return (np.array(image.resize((224, 224))) / 255.0).transpose(2, 0, 1).astype(np.float32)\n",
    "\n",
    "cd_train = AgeGroupAndAgeDataset(df_train, path_col=\"path\", label_col=\"age\", label_function=\"CAE\", \n",
    "                                 label_map=d, label_map_n_classes=3, transform_func=transform_image)\n",
    "cd_val = StandardDataset(df_val, path_col=\"path\", label_col=\"age\", label_function=\"CAE\", transform_func=transform_image)\n",
    "cd_val.set_n_classes(81)\n",
    "dm_train, dm_val = CustomDataLoader(cd_train), CustomDataLoader(cd_val)\n",
    "dl_train = dm_train.get_balanced_dataloader(class_ranges=[(0, 11), (11, 21), (21, 31), (31, 41), (41, 51), (51, 61), (61, 71), (71, 91)], samples_per_class=4)\n",
    "validator = Validator(cd_val, AgeConversion.ArgMaxAge, 128)"
   ]
  },
  {
   "cell_type": "code",
   "execution_count": 4,
   "metadata": {},
   "outputs": [],
   "source": [
    "from SE import se_module, se_resnet\n",
    "import torch\n",
    "from torch import optim\n",
    "import torch.nn.functional as F\n",
    "from torch import nn\n",
    "\n",
    "class SEResNet50FiLMedGroups(nn.Module):\n",
    "    def __init__(self, n_classes: int, backbone) -> None:\n",
    "        super().__init__()\n",
    "\n",
    "        self.model = backbone# se_resnet.se_resnet50_filmed(1000, dim_knowledge=3, pretrained=True)\n",
    "        self.model.to(\"cuda\")\n",
    "        self.model_film_layers: List[nn.Module] = self._get_film_layers()\n",
    "        self.set_grads()\n",
    "        self.fc0 = nn.Linear(2048, 1024).to(\"cuda\")\n",
    "        self.model.fc = self.fc0\n",
    "        self.act0 = nn.ReLU().to(\"cuda\")\n",
    "        self.fc1 = nn.Linear(1024, 1024).to(\"cuda\")\n",
    "        self.act1 = nn.ReLU().to(\"cuda\")\n",
    "        self.fc2 = nn.Linear(1024, n_classes).to(\"cuda\")\n",
    "\n",
    "    def _get_film_layers(self) -> List:\n",
    "        model_layers = [self.model.layer1, self.model.layer2, self.model.layer3, self.model.layer4]\n",
    "        model_film_layers = []\n",
    "        for layer in model_layers:\n",
    "            for layer_module in layer.modules():\n",
    "                if not layer_module._get_name() == \"SEBottleneck_FiLM\":\n",
    "                    continue\n",
    "                model_film_layers += [x for x in layer_module.modules() if x._get_name() == \"FiLMLayer\"]\n",
    "        return model_film_layers\n",
    "\n",
    "    def set_grads(self) -> None:\n",
    "        self.model.train()\n",
    "        self.model.requires_grad_(True)\n",
    "        for x in self.model_film_layers:\n",
    "            x.requires_grad_(True)\n",
    "\n",
    "    def set_knowledge(self, knowledge: torch.Tensor) -> None:\n",
    "        for x in self.model_film_layers:\n",
    "            x.set_knowledge(knowledge)\n",
    "\n",
    "    def forward(self, x, knowledge):\n",
    "        self.set_knowledge(knowledge)\n",
    "        out = self.model(x)\n",
    "        out = self.act0(out)\n",
    "        out = self.fc1(out)\n",
    "        out = self.act1(out)\n",
    "        out = self.fc2(out)\n",
    "        return out\n",
    "\n",
    "bb = se_resnet.se_resnet50_filmed(1000, dim_knowledge=3, pretrained=True)\n",
    "model_age_group = SEResNet50FiLMedGroups(3, bb)\n",
    "model_age = SEResNet50FiLMedGroups(81, bb)\n",
    "opt = optim.Adam(set([*model_age_group.parameters(), *model_age.parameters()]), lr=1e-4)\n",
    "criterion = nn.CrossEntropyLoss()\n",
    "aar = AAR.AAR(4)"
   ]
  },
  {
   "cell_type": "code",
   "execution_count": 5,
   "metadata": {},
   "outputs": [
    {
     "name": "stderr",
     "output_type": "stream",
     "text": [
      "  0%|          | 13/13478 [00:09<2:35:44,  1.44 batch/s, AAR=tensor(0., grad_fn=<AddBackward0>), loss=4.350908003747463, loss_age_group=1.0202904716134071]   \n"
     ]
    },
    {
     "ename": "KeyboardInterrupt",
     "evalue": "",
     "output_type": "error",
     "traceback": [
      "\u001b[1;31m---------------------------------------------------------------------------\u001b[0m",
      "\u001b[1;31mKeyboardInterrupt\u001b[0m                         Traceback (most recent call last)",
      "Cell \u001b[1;32mIn[5], line 25\u001b[0m\n\u001b[0;32m     23\u001b[0m loss: torch\u001b[39m.\u001b[39mTensor \u001b[39m=\u001b[39m criterion(out, y_age)\n\u001b[0;32m     24\u001b[0m loss_age_group\u001b[39m.\u001b[39mbackward(retain_graph\u001b[39m=\u001b[39m\u001b[39mTrue\u001b[39;00m)\n\u001b[1;32m---> 25\u001b[0m loss\u001b[39m.\u001b[39;49mbackward()\n\u001b[0;32m     26\u001b[0m opt\u001b[39m.\u001b[39mstep()\n\u001b[0;32m     28\u001b[0m tepoch\u001b[39m.\u001b[39mset_postfix(loss_age_group\u001b[39m=\u001b[39mloss_age_group\u001b[39m.\u001b[39mdetach()\u001b[39m.\u001b[39mcpu()\u001b[39m.\u001b[39mnumpy(), loss\u001b[39m=\u001b[39mloss\u001b[39m.\u001b[39mdetach()\u001b[39m.\u001b[39mcpu()\u001b[39m.\u001b[39mnumpy(),\n\u001b[0;32m     29\u001b[0m                    AAR\u001b[39m=\u001b[39maar(AgeConversion\u001b[39m.\u001b[39mArgMaxAge(y_age\u001b[39m.\u001b[39mcpu())\u001b[39m.\u001b[39mfloat(), AgeConversion\u001b[39m.\u001b[39mArgMaxAge(out\u001b[39m.\u001b[39mcpu())\u001b[39m.\u001b[39mfloat())) \n",
      "File \u001b[1;32mc:\\Users\\Gio\\.conda\\envs\\AV_project\\lib\\site-packages\\torch\\_tensor.py:488\u001b[0m, in \u001b[0;36mTensor.backward\u001b[1;34m(self, gradient, retain_graph, create_graph, inputs)\u001b[0m\n\u001b[0;32m    478\u001b[0m \u001b[39mif\u001b[39;00m has_torch_function_unary(\u001b[39mself\u001b[39m):\n\u001b[0;32m    479\u001b[0m     \u001b[39mreturn\u001b[39;00m handle_torch_function(\n\u001b[0;32m    480\u001b[0m         Tensor\u001b[39m.\u001b[39mbackward,\n\u001b[0;32m    481\u001b[0m         (\u001b[39mself\u001b[39m,),\n\u001b[1;32m   (...)\u001b[0m\n\u001b[0;32m    486\u001b[0m         inputs\u001b[39m=\u001b[39minputs,\n\u001b[0;32m    487\u001b[0m     )\n\u001b[1;32m--> 488\u001b[0m torch\u001b[39m.\u001b[39;49mautograd\u001b[39m.\u001b[39;49mbackward(\n\u001b[0;32m    489\u001b[0m     \u001b[39mself\u001b[39;49m, gradient, retain_graph, create_graph, inputs\u001b[39m=\u001b[39;49minputs\n\u001b[0;32m    490\u001b[0m )\n",
      "File \u001b[1;32mc:\\Users\\Gio\\.conda\\envs\\AV_project\\lib\\site-packages\\torch\\autograd\\__init__.py:197\u001b[0m, in \u001b[0;36mbackward\u001b[1;34m(tensors, grad_tensors, retain_graph, create_graph, grad_variables, inputs)\u001b[0m\n\u001b[0;32m    192\u001b[0m     retain_graph \u001b[39m=\u001b[39m create_graph\n\u001b[0;32m    194\u001b[0m \u001b[39m# The reason we repeat same the comment below is that\u001b[39;00m\n\u001b[0;32m    195\u001b[0m \u001b[39m# some Python versions print out the first line of a multi-line function\u001b[39;00m\n\u001b[0;32m    196\u001b[0m \u001b[39m# calls in the traceback and some print out the last line\u001b[39;00m\n\u001b[1;32m--> 197\u001b[0m Variable\u001b[39m.\u001b[39;49m_execution_engine\u001b[39m.\u001b[39;49mrun_backward(  \u001b[39m# Calls into the C++ engine to run the backward pass\u001b[39;49;00m\n\u001b[0;32m    198\u001b[0m     tensors, grad_tensors_, retain_graph, create_graph, inputs,\n\u001b[0;32m    199\u001b[0m     allow_unreachable\u001b[39m=\u001b[39;49m\u001b[39mTrue\u001b[39;49;00m, accumulate_grad\u001b[39m=\u001b[39;49m\u001b[39mTrue\u001b[39;49;00m)\n",
      "\u001b[1;31mKeyboardInterrupt\u001b[0m: "
     ]
    }
   ],
   "source": [
    "best_val_aar = -1\n",
    "\n",
    "epochs = 10\n",
    "\n",
    "knowledge_age_group = torch.tensor([[0.33, 0.33, 0.33]]*32, requires_grad=False).float().to(\"cuda\")\n",
    "\n",
    "for e in range(epochs):\n",
    "    with tqdm(dl_train, unit=\" batch\") as tepoch:\n",
    "        for batch in tepoch:\n",
    "            opt.zero_grad()\n",
    "            x, y = batch\n",
    "            x = x.to(\"cuda\")\n",
    "            y_age_group = y[0].to(\"cuda\")\n",
    "            y_age = y[1].to(\"cuda\")\n",
    "            \n",
    "            knowledge = model_age_group(x, knowledge_age_group)\n",
    "\n",
    "            knowledge = F.softmax(knowledge, dim=-1)\n",
    "\n",
    "            out = model_age(x, knowledge)\n",
    "\n",
    "            loss_age_group: torch.Tensor = criterion(knowledge, y_age_group)\n",
    "            loss: torch.Tensor = criterion(out, y_age)\n",
    "            loss_age_group.backward(retain_graph=True)\n",
    "            loss.backward()\n",
    "            opt.step()\n",
    "\n",
    "            tepoch.set_postfix(loss_age_group=loss_age_group.detach().cpu().numpy(), loss=loss.detach().cpu().numpy(),\n",
    "                               AAR=aar(AgeConversion.ArgMaxAge(y_age.cpu()).float(), AgeConversion.ArgMaxAge(out.cpu()).float())) \n",
    "\n",
    "    val_aar, val_aar_old = validator.validate(model_age_group, model_age)\n",
    "\n",
    "    if val_aar > best_val_aar:\n",
    "        best_val_aar = val_aar\n",
    "        torch.save(model_age_group.state_dict(), \"./model_age_group.pt\")\n",
    "        torch.save(model_age.state_dict(), \"./model_age.pt\")\n",
    "        print(\"Saved model\") "
   ]
  },
  {
   "cell_type": "code",
   "execution_count": null,
   "metadata": {},
   "outputs": [
    {
     "data": {
      "text/plain": [
       "<All keys matched successfully>"
      ]
     },
     "execution_count": 5,
     "metadata": {},
     "output_type": "execute_result"
    }
   ],
   "source": [
    "model_age.load_state_dict(torch.load(\"./with_loss/model_age.pt\"))\n",
    "model_age_group.load_state_dict(torch.load(\"./with_loss/model_age_group.pt\"))"
   ]
  }
 ],
 "metadata": {
  "kernelspec": {
   "display_name": "AV_project",
   "language": "python",
   "name": "python3"
  },
  "language_info": {
   "codemirror_mode": {
    "name": "ipython",
    "version": 3
   },
   "file_extension": ".py",
   "mimetype": "text/x-python",
   "name": "python",
   "nbconvert_exporter": "python",
   "pygments_lexer": "ipython3",
   "version": "3.8.10"
  },
  "orig_nbformat": 4,
  "vscode": {
   "interpreter": {
    "hash": "cb944c2b40f40877ef78d83ae6cee61e5f12ef7b90668598de820bc310ff39a2"
   }
  }
 },
 "nbformat": 4,
 "nbformat_minor": 2
}
